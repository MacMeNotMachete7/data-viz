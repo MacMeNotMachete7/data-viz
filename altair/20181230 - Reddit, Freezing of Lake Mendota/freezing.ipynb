{
 "cells": [
  {
   "cell_type": "code",
   "execution_count": 527,
   "metadata": {},
   "outputs": [],
   "source": [
    "import altair as alt\n",
    "import pandas as pd"
   ]
  },
  {
   "cell_type": "code",
   "execution_count": 528,
   "metadata": {},
   "outputs": [],
   "source": [
    "df = pd.read_csv(\"freezing_broken_totals.txt\")\n",
    "df = df.iloc[3:] # exclude mal-formatted years\n",
    "df.DAYS = df.DAYS.str.replace('-','').replace('', 0).astype(int)\n",
    "\n",
    "df['year_1'] = df.WINTER.str[:4]\n",
    "df['year_2'] = df.WINTER.str[:2] + df.WINTER.str[5:]\n",
    "\n",
    "df['CLOSED_with_year_wrong'] = pd.to_datetime(df.year_1 + \" \" + df.CLOSED, format='%Y %d %b')\n",
    "df['OPENED_with_year_wrong'] = pd.to_datetime(df.year_2 + \" \" + df.OPENED, format='%Y %d %b')\n",
    "\n",
    "df.loc[df.CLOSED_with_year_wrong.dt.month > 6, 'CLOSED_year'] = df.year_1\n",
    "df.loc[df.CLOSED_with_year_wrong.dt.month <= 6, 'CLOSED_year'] = df.year_2\n",
    "\n",
    "df.loc[df.OPENED_with_year_wrong.dt.month > 6, 'OPENED_year'] = df.year_1\n",
    "df.loc[df.OPENED_with_year_wrong.dt.month <= 6, 'OPENED_year'] = df.year_2\n",
    "\n",
    "df['CLOSED_with_year'] = pd.to_datetime(df.CLOSED_year + df.CLOSED, format='%Y%d %b')\n",
    "df['OPENED_with_year'] = pd.to_datetime(df.OPENED_year+ df.OPENED, format='%Y%d %b')\n",
    "\n",
    "df.loc[df.CLOSED_with_year.dt.month > 6, 'CLOSED_fixed_year'] = '2000'\n",
    "df.loc[df.CLOSED_with_year.dt.month <= 6, 'CLOSED_fixed_year'] = '2001'\n",
    "\n",
    "df.loc[df.OPENED_with_year.dt.month > 6, 'OPENED_fixed_year'] = '2000'\n",
    "df.loc[df.OPENED_with_year.dt.month <= 6, 'OPENED_fixed_year'] = '2001'\n",
    "\n",
    "df['CLOSED_with_fixed_year'] = pd.to_datetime(df.CLOSED_fixed_year + df.CLOSED, format='%Y%d %b')\n",
    "df['OPENED_with_fixed_year'] = pd.to_datetime(df.OPENED_fixed_year+ df.OPENED, format='%Y%d %b')\n",
    "\n",
    "df = df[['WINTER', 'CLOSED', 'OPENED', 'DAYS', 'CLOSED_with_year', 'OPENED_with_year', 'CLOSED_with_fixed_year', 'OPENED_with_fixed_year']]"
   ]
  },
  {
   "cell_type": "code",
   "execution_count": 529,
   "metadata": {},
   "outputs": [
    {
     "data": {
      "text/html": [
       "<div>\n",
       "<style scoped>\n",
       "    .dataframe tbody tr th:only-of-type {\n",
       "        vertical-align: middle;\n",
       "    }\n",
       "\n",
       "    .dataframe tbody tr th {\n",
       "        vertical-align: top;\n",
       "    }\n",
       "\n",
       "    .dataframe thead th {\n",
       "        text-align: right;\n",
       "    }\n",
       "</style>\n",
       "<table border=\"1\" class=\"dataframe\">\n",
       "  <thead>\n",
       "    <tr style=\"text-align: right;\">\n",
       "      <th></th>\n",
       "      <th>WINTER</th>\n",
       "      <th>CLOSED</th>\n",
       "      <th>OPENED</th>\n",
       "      <th>DAYS</th>\n",
       "      <th>CLOSED_with_year</th>\n",
       "      <th>OPENED_with_year</th>\n",
       "      <th>CLOSED_with_fixed_year</th>\n",
       "      <th>OPENED_with_fixed_year</th>\n",
       "    </tr>\n",
       "  </thead>\n",
       "  <tbody>\n",
       "    <tr>\n",
       "      <th>3</th>\n",
       "      <td>1855-56</td>\n",
       "      <td>18 Dec</td>\n",
       "      <td>14 Apr</td>\n",
       "      <td>118</td>\n",
       "      <td>1855-12-18</td>\n",
       "      <td>1856-04-14</td>\n",
       "      <td>2000-12-18</td>\n",
       "      <td>2001-04-14</td>\n",
       "    </tr>\n",
       "    <tr>\n",
       "      <th>4</th>\n",
       "      <td>1856-57</td>\n",
       "      <td>6 Dec</td>\n",
       "      <td>6 May</td>\n",
       "      <td>151</td>\n",
       "      <td>1856-12-06</td>\n",
       "      <td>1857-05-06</td>\n",
       "      <td>2000-12-06</td>\n",
       "      <td>2001-05-06</td>\n",
       "    </tr>\n",
       "    <tr>\n",
       "      <th>5</th>\n",
       "      <td>1857-58</td>\n",
       "      <td>25 Nov</td>\n",
       "      <td>26 Mar</td>\n",
       "      <td>121</td>\n",
       "      <td>1857-11-25</td>\n",
       "      <td>1858-03-26</td>\n",
       "      <td>2000-11-25</td>\n",
       "      <td>2001-03-26</td>\n",
       "    </tr>\n",
       "    <tr>\n",
       "      <th>6</th>\n",
       "      <td>1858-59</td>\n",
       "      <td>8 Dec</td>\n",
       "      <td>14 Mar</td>\n",
       "      <td>96</td>\n",
       "      <td>1858-12-08</td>\n",
       "      <td>1859-03-14</td>\n",
       "      <td>2000-12-08</td>\n",
       "      <td>2001-03-14</td>\n",
       "    </tr>\n",
       "    <tr>\n",
       "      <th>7</th>\n",
       "      <td>1859-60</td>\n",
       "      <td>7 Dec</td>\n",
       "      <td>26 Mar</td>\n",
       "      <td>110</td>\n",
       "      <td>1859-12-07</td>\n",
       "      <td>1860-03-26</td>\n",
       "      <td>2000-12-07</td>\n",
       "      <td>2001-03-26</td>\n",
       "    </tr>\n",
       "  </tbody>\n",
       "</table>\n",
       "</div>"
      ],
      "text/plain": [
       "    WINTER  CLOSED  OPENED  DAYS CLOSED_with_year OPENED_with_year  \\\n",
       "3  1855-56  18 Dec  14 Apr   118       1855-12-18       1856-04-14   \n",
       "4  1856-57   6 Dec   6 May   151       1856-12-06       1857-05-06   \n",
       "5  1857-58  25 Nov  26 Mar   121       1857-11-25       1858-03-26   \n",
       "6  1858-59   8 Dec  14 Mar    96       1858-12-08       1859-03-14   \n",
       "7  1859-60   7 Dec  26 Mar   110       1859-12-07       1860-03-26   \n",
       "\n",
       "  CLOSED_with_fixed_year OPENED_with_fixed_year  \n",
       "3             2000-12-18             2001-04-14  \n",
       "4             2000-12-06             2001-05-06  \n",
       "5             2000-11-25             2001-03-26  \n",
       "6             2000-12-08             2001-03-14  \n",
       "7             2000-12-07             2001-03-26  "
      ]
     },
     "execution_count": 529,
     "metadata": {},
     "output_type": "execute_result"
    }
   ],
   "source": [
    "df.head()"
   ]
  },
  {
   "cell_type": "code",
   "execution_count": 532,
   "metadata": {},
   "outputs": [
    {
     "data": {
      "application/vnd.vegalite.v2+json": {
       "$schema": "https://vega.github.io/schema/vega-lite/v2.6.0.json",
       "config": {
        "view": {
         "height": 300,
         "width": 400
        }
       },
       "datasets": {
        "data-4ef748b5e318a98336a4dd3d17dc5e00": [
         {
          "CLOSED": "18 Dec",
          "CLOSED_with_fixed_year": "2000-12-18T00:00:00",
          "CLOSED_with_year": "1855-12-18T00:00:00",
          "DAYS": 118,
          "OPENED": "14 Apr",
          "OPENED_with_fixed_year": "2001-04-14T00:00:00",
          "OPENED_with_year": "1856-04-14T00:00:00",
          "WINTER": "1855-56"
         },
         {
          "CLOSED": "6 Dec",
          "CLOSED_with_fixed_year": "2000-12-06T00:00:00",
          "CLOSED_with_year": "1856-12-06T00:00:00",
          "DAYS": 151,
          "OPENED": "6 May",
          "OPENED_with_fixed_year": "2001-05-06T00:00:00",
          "OPENED_with_year": "1857-05-06T00:00:00",
          "WINTER": "1856-57"
         },
         {
          "CLOSED": "25 Nov",
          "CLOSED_with_fixed_year": "2000-11-25T00:00:00",
          "CLOSED_with_year": "1857-11-25T00:00:00",
          "DAYS": 121,
          "OPENED": "26 Mar",
          "OPENED_with_fixed_year": "2001-03-26T00:00:00",
          "OPENED_with_year": "1858-03-26T00:00:00",
          "WINTER": "1857-58"
         },
         {
          "CLOSED": "8 Dec",
          "CLOSED_with_fixed_year": "2000-12-08T00:00:00",
          "CLOSED_with_year": "1858-12-08T00:00:00",
          "DAYS": 96,
          "OPENED": "14 Mar",
          "OPENED_with_fixed_year": "2001-03-14T00:00:00",
          "OPENED_with_year": "1859-03-14T00:00:00",
          "WINTER": "1858-59"
         },
         {
          "CLOSED": "7 Dec",
          "CLOSED_with_fixed_year": "2000-12-07T00:00:00",
          "CLOSED_with_year": "1859-12-07T00:00:00",
          "DAYS": 110,
          "OPENED": "26 Mar",
          "OPENED_with_fixed_year": "2001-03-26T00:00:00",
          "OPENED_with_year": "1860-03-26T00:00:00",
          "WINTER": "1859-60"
         },
         {
          "CLOSED": "14 Dec",
          "CLOSED_with_fixed_year": "2000-12-14T00:00:00",
          "CLOSED_with_year": "1860-12-14T00:00:00",
          "DAYS": 117,
          "OPENED": "10 Apr",
          "OPENED_with_fixed_year": "2001-04-10T00:00:00",
          "OPENED_with_year": "1861-04-10T00:00:00",
          "WINTER": "1860-61"
         },
         {
          "CLOSED": "2 Dec",
          "CLOSED_with_fixed_year": "2000-12-02T00:00:00",
          "CLOSED_with_year": "1861-12-02T00:00:00",
          "DAYS": 132,
          "OPENED": "13 Apr",
          "OPENED_with_fixed_year": "2001-04-13T00:00:00",
          "OPENED_with_year": "1862-04-13T00:00:00",
          "WINTER": "1861-62"
         },
         {
          "CLOSED": "26 Dec",
          "CLOSED_with_fixed_year": "2000-12-26T00:00:00",
          "CLOSED_with_year": "1862-12-26T00:00:00",
          "DAYS": 104,
          "OPENED": "9 Apr",
          "OPENED_with_fixed_year": "2001-04-09T00:00:00",
          "OPENED_with_year": "1863-04-09T00:00:00",
          "WINTER": "1862-63"
         },
         {
          "CLOSED": "18 Dec",
          "CLOSED_with_fixed_year": "2000-12-18T00:00:00",
          "CLOSED_with_year": "1863-12-18T00:00:00",
          "DAYS": 125,
          "OPENED": "21 Apr",
          "OPENED_with_fixed_year": "2001-04-21T00:00:00",
          "OPENED_with_year": "1864-04-21T00:00:00",
          "WINTER": "1863-64"
         },
         {
          "CLOSED": "8 Dec",
          "CLOSED_with_fixed_year": "2000-12-08T00:00:00",
          "CLOSED_with_year": "1864-12-08T00:00:00",
          "DAYS": 118,
          "OPENED": "5 Apr",
          "OPENED_with_fixed_year": "2001-04-05T00:00:00",
          "OPENED_with_year": "1865-04-05T00:00:00",
          "WINTER": "1864-65"
         },
         {
          "CLOSED": "14 Dec",
          "CLOSED_with_fixed_year": "2000-12-14T00:00:00",
          "CLOSED_with_year": "1865-12-14T00:00:00",
          "DAYS": 125,
          "OPENED": "18 Apr",
          "OPENED_with_fixed_year": "2001-04-18T00:00:00",
          "OPENED_with_year": "1866-04-18T00:00:00",
          "WINTER": "1865-66"
         },
         {
          "CLOSED": "18 Dec",
          "CLOSED_with_fixed_year": "2000-12-18T00:00:00",
          "CLOSED_with_year": "1866-12-18T00:00:00",
          "DAYS": 123,
          "OPENED": "20 Apr",
          "OPENED_with_fixed_year": "2001-04-20T00:00:00",
          "OPENED_with_year": "1867-04-20T00:00:00",
          "WINTER": "1866-67"
         },
         {
          "CLOSED": "12 Dec",
          "CLOSED_with_fixed_year": "2000-12-12T00:00:00",
          "CLOSED_with_year": "1867-12-12T00:00:00",
          "DAYS": 110,
          "OPENED": "31 Mar",
          "OPENED_with_fixed_year": "2001-03-31T00:00:00",
          "OPENED_with_year": "1868-03-31T00:00:00",
          "WINTER": "1867-68"
         },
         {
          "CLOSED": "10 Dec",
          "CLOSED_with_fixed_year": "2000-12-10T00:00:00",
          "CLOSED_with_year": "1868-12-10T00:00:00",
          "DAYS": 127,
          "OPENED": "16 Apr",
          "OPENED_with_fixed_year": "2001-04-16T00:00:00",
          "OPENED_with_year": "1869-04-16T00:00:00",
          "WINTER": "1868-69"
         },
         {
          "CLOSED": "2 Dec",
          "CLOSED_with_fixed_year": "2000-12-02T00:00:00",
          "CLOSED_with_year": "1869-12-02T00:00:00",
          "DAYS": 131,
          "OPENED": "12 Apr",
          "OPENED_with_fixed_year": "2001-04-12T00:00:00",
          "OPENED_with_year": "1870-04-12T00:00:00",
          "WINTER": "1869-70"
         },
         {
          "CLOSED": "24 Dec",
          "CLOSED_with_fixed_year": "2000-12-24T00:00:00",
          "CLOSED_with_year": "1870-12-24T00:00:00",
          "DAYS": 99,
          "OPENED": "2 Apr",
          "OPENED_with_fixed_year": "2001-04-02T00:00:00",
          "OPENED_with_year": "1871-04-02T00:00:00",
          "WINTER": "1870-71"
         },
         {
          "CLOSED": "19 Dec",
          "CLOSED_with_fixed_year": "2000-12-19T00:00:00",
          "CLOSED_with_year": "1871-12-19T00:00:00",
          "DAYS": 126,
          "OPENED": "23 Apr",
          "OPENED_with_fixed_year": "2001-04-23T00:00:00",
          "OPENED_with_year": "1872-04-23T00:00:00",
          "WINTER": "1871-72"
         },
         {
          "CLOSED": "30 Nov",
          "CLOSED_with_fixed_year": "2000-11-30T00:00:00",
          "CLOSED_with_year": "1872-11-30T00:00:00",
          "DAYS": 144,
          "OPENED": "23 Apr",
          "OPENED_with_fixed_year": "2001-04-23T00:00:00",
          "OPENED_with_year": "1873-04-23T00:00:00",
          "WINTER": "1872-73"
         },
         {
          "CLOSED": "29 Nov",
          "CLOSED_with_fixed_year": "2000-11-29T00:00:00",
          "CLOSED_with_year": "1873-11-29T00:00:00",
          "DAYS": 136,
          "OPENED": "14 Apr",
          "OPENED_with_fixed_year": "2001-04-14T00:00:00",
          "OPENED_with_year": "1874-04-14T00:00:00",
          "WINTER": "1873-74"
         },
         {
          "CLOSED": "10 Dec",
          "CLOSED_with_fixed_year": "2000-12-10T00:00:00",
          "CLOSED_with_year": "1874-12-10T00:00:00",
          "DAYS": 126,
          "OPENED": "15 Apr",
          "OPENED_with_fixed_year": "2001-04-15T00:00:00",
          "OPENED_with_year": "1875-04-15T00:00:00",
          "WINTER": "1874-75"
         },
         {
          "CLOSED": "10 Jan",
          "CLOSED_with_fixed_year": "2001-01-10T00:00:00",
          "CLOSED_with_year": "1876-01-10T00:00:00",
          "DAYS": 91,
          "OPENED": "10 Apr",
          "OPENED_with_fixed_year": "2001-04-10T00:00:00",
          "OPENED_with_year": "1876-04-10T00:00:00",
          "WINTER": "1875-76"
         },
         {
          "CLOSED": "8 Dec",
          "CLOSED_with_fixed_year": "2000-12-08T00:00:00",
          "CLOSED_with_year": "1876-12-08T00:00:00",
          "DAYS": 130,
          "OPENED": "17 Apr",
          "OPENED_with_fixed_year": "2001-04-17T00:00:00",
          "OPENED_with_year": "1877-04-17T00:00:00",
          "WINTER": "1876-77"
         },
         {
          "CLOSED": "6 Jan",
          "CLOSED_with_fixed_year": "2001-01-06T00:00:00",
          "CLOSED_with_year": "1878-01-06T00:00:00",
          "DAYS": 62,
          "OPENED": "9 Mar",
          "OPENED_with_fixed_year": "2001-03-09T00:00:00",
          "OPENED_with_year": "1878-03-09T00:00:00",
          "WINTER": "1877-78"
         },
         {
          "CLOSED": "21 Dec",
          "CLOSED_with_fixed_year": "2000-12-21T00:00:00",
          "CLOSED_with_year": "1878-12-21T00:00:00",
          "DAYS": 112,
          "OPENED": "12 Apr",
          "OPENED_with_fixed_year": "2001-04-12T00:00:00",
          "OPENED_with_year": "1879-04-12T00:00:00",
          "WINTER": "1878-79"
         },
         {
          "CLOSED": "17 Dec",
          "CLOSED_with_fixed_year": "2000-12-17T00:00:00",
          "CLOSED_with_year": "1879-12-17T00:00:00",
          "DAYS": 99,
          "OPENED": "25 Mar",
          "OPENED_with_fixed_year": "2001-03-25T00:00:00",
          "OPENED_with_year": "1880-03-25T00:00:00",
          "WINTER": "1879-80"
         },
         {
          "CLOSED": "23 Nov",
          "CLOSED_with_fixed_year": "2000-11-23T00:00:00",
          "CLOSED_with_year": "1880-11-23T00:00:00",
          "DAYS": 161,
          "OPENED": "3 May",
          "OPENED_with_fixed_year": "2001-05-03T00:00:00",
          "OPENED_with_year": "1881-05-03T00:00:00",
          "WINTER": "1880-81"
         },
         {
          "CLOSED": "2 Jan",
          "CLOSED_with_fixed_year": "2001-01-02T00:00:00",
          "CLOSED_with_year": "1882-01-02T00:00:00",
          "DAYS": 78,
          "OPENED": "21 Mar",
          "OPENED_with_fixed_year": "2001-03-21T00:00:00",
          "OPENED_with_year": "1882-03-21T00:00:00",
          "WINTER": "1881-82"
         },
         {
          "CLOSED": "10 Dec",
          "CLOSED_with_fixed_year": "2000-12-10T00:00:00",
          "CLOSED_with_year": "1882-12-10T00:00:00",
          "DAYS": 124,
          "OPENED": "13 Apr",
          "OPENED_with_fixed_year": "2001-04-13T00:00:00",
          "OPENED_with_year": "1883-04-13T00:00:00",
          "WINTER": "1882-83"
         },
         {
          "CLOSED": "18 Dec",
          "CLOSED_with_fixed_year": "2000-12-18T00:00:00",
          "CLOSED_with_year": "1883-12-18T00:00:00",
          "DAYS": 119,
          "OPENED": "15 Apr",
          "OPENED_with_fixed_year": "2001-04-15T00:00:00",
          "OPENED_with_year": "1884-04-15T00:00:00",
          "WINTER": "1883-84"
         },
         {
          "CLOSED": "17 Dec",
          "CLOSED_with_fixed_year": "2000-12-17T00:00:00",
          "CLOSED_with_year": "1884-12-17T00:00:00",
          "DAYS": 124,
          "OPENED": "20 Apr",
          "OPENED_with_fixed_year": "2001-04-20T00:00:00",
          "OPENED_with_year": "1885-04-20T00:00:00",
          "WINTER": "1884-85"
         },
         {
          "CLOSED": "12 Dec",
          "CLOSED_with_fixed_year": "2000-12-12T00:00:00",
          "CLOSED_with_year": "1885-12-12T00:00:00",
          "DAYS": 128,
          "OPENED": "19 Apr",
          "OPENED_with_fixed_year": "2001-04-19T00:00:00",
          "OPENED_with_year": "1886-04-19T00:00:00",
          "WINTER": "1885-86"
         },
         {
          "CLOSED": "5 Dec",
          "CLOSED_with_fixed_year": "2000-12-05T00:00:00",
          "CLOSED_with_year": "1886-12-05T00:00:00",
          "DAYS": 131,
          "OPENED": "15 Apr",
          "OPENED_with_fixed_year": "2001-04-15T00:00:00",
          "OPENED_with_year": "1887-04-15T00:00:00",
          "WINTER": "1886-87"
         },
         {
          "CLOSED": "24 Dec",
          "CLOSED_with_fixed_year": "2000-12-24T00:00:00",
          "CLOSED_with_year": "1887-12-24T00:00:00",
          "DAYS": 113,
          "OPENED": "15 Apr",
          "OPENED_with_fixed_year": "2001-04-15T00:00:00",
          "OPENED_with_year": "1888-04-15T00:00:00",
          "WINTER": "1887-88"
         },
         {
          "CLOSED": "2 Jan",
          "CLOSED_with_fixed_year": "2001-01-02T00:00:00",
          "CLOSED_with_year": "1889-01-02T00:00:00",
          "DAYS": 88,
          "OPENED": "31 Mar",
          "OPENED_with_fixed_year": "2001-03-31T00:00:00",
          "OPENED_with_year": "1889-03-31T00:00:00",
          "WINTER": "1888-89"
         },
         {
          "CLOSED": "14 Jan",
          "CLOSED_with_fixed_year": "2001-01-14T00:00:00",
          "CLOSED_with_year": "1890-01-14T00:00:00",
          "DAYS": 75,
          "OPENED": "30 Mar",
          "OPENED_with_fixed_year": "2001-03-30T00:00:00",
          "OPENED_with_year": "1890-03-30T00:00:00",
          "WINTER": "1889-90"
         },
         {
          "CLOSED": "26 Dec",
          "CLOSED_with_fixed_year": "2000-12-26T00:00:00",
          "CLOSED_with_year": "1890-12-26T00:00:00",
          "DAYS": 111,
          "OPENED": "16 Apr",
          "OPENED_with_fixed_year": "2001-04-16T00:00:00",
          "OPENED_with_year": "1891-04-16T00:00:00",
          "WINTER": "1890-91"
         },
         {
          "CLOSED": "27 Dec",
          "CLOSED_with_fixed_year": "2000-12-27T00:00:00",
          "CLOSED_with_year": "1891-12-27T00:00:00",
          "DAYS": 97,
          "OPENED": "2 Apr",
          "OPENED_with_fixed_year": "2001-04-02T00:00:00",
          "OPENED_with_year": "1892-04-02T00:00:00",
          "WINTER": "1891-92"
         },
         {
          "CLOSED": "16 Dec",
          "CLOSED_with_fixed_year": "2000-12-16T00:00:00",
          "CLOSED_with_year": "1892-12-16T00:00:00",
          "DAYS": 112,
          "OPENED": "7 Apr",
          "OPENED_with_fixed_year": "2001-04-07T00:00:00",
          "OPENED_with_year": "1893-04-07T00:00:00",
          "WINTER": "1892-93"
         },
         {
          "CLOSED": "4 Dec",
          "CLOSED_with_fixed_year": "2000-12-04T00:00:00",
          "CLOSED_with_year": "1893-12-04T00:00:00",
          "DAYS": 101,
          "OPENED": "15 Mar",
          "OPENED_with_fixed_year": "2001-03-15T00:00:00",
          "OPENED_with_year": "1894-03-15T00:00:00",
          "WINTER": "1893-94"
         },
         {
          "CLOSED": "28 Dec",
          "CLOSED_with_fixed_year": "2000-12-28T00:00:00",
          "CLOSED_with_year": "1894-12-28T00:00:00",
          "DAYS": 101,
          "OPENED": "8 Apr",
          "OPENED_with_fixed_year": "2001-04-08T00:00:00",
          "OPENED_with_year": "1895-04-08T00:00:00",
          "WINTER": "1894-95"
         },
         {
          "CLOSED": "5 Jan",
          "CLOSED_with_fixed_year": "2001-01-05T00:00:00",
          "CLOSED_with_year": "1896-01-05T00:00:00",
          "DAYS": 91,
          "OPENED": "5 Apr",
          "OPENED_with_fixed_year": "2001-04-05T00:00:00",
          "OPENED_with_year": "1896-04-05T00:00:00",
          "WINTER": "1895-96"
         },
         {
          "CLOSED": "21 Dec",
          "CLOSED_with_fixed_year": "2000-12-21T00:00:00",
          "CLOSED_with_year": "1896-12-21T00:00:00",
          "DAYS": 110,
          "OPENED": "10 Apr",
          "OPENED_with_fixed_year": "2001-04-10T00:00:00",
          "OPENED_with_year": "1897-04-10T00:00:00",
          "WINTER": "1896-97"
         },
         {
          "CLOSED": "17 Dec",
          "CLOSED_with_fixed_year": "2000-12-17T00:00:00",
          "CLOSED_with_year": "1897-12-17T00:00:00",
          "DAYS": 100,
          "OPENED": "27 Mar",
          "OPENED_with_fixed_year": "2001-03-27T00:00:00",
          "OPENED_with_year": "1898-03-27T00:00:00",
          "WINTER": "1897-98"
         },
         {
          "CLOSED": "9 Dec",
          "CLOSED_with_fixed_year": "2000-12-09T00:00:00",
          "CLOSED_with_year": "1898-12-09T00:00:00",
          "DAYS": 130,
          "OPENED": "18 Apr",
          "OPENED_with_fixed_year": "2001-04-18T00:00:00",
          "OPENED_with_year": "1899-04-18T00:00:00",
          "WINTER": "1898-99"
         },
         {
          "CLOSED": "27 Dec",
          "CLOSED_with_fixed_year": "2000-12-27T00:00:00",
          "CLOSED_with_year": "1899-12-27T00:00:00",
          "DAYS": 111,
          "OPENED": "17 Apr",
          "OPENED_with_fixed_year": "2001-04-17T00:00:00",
          "OPENED_with_year": "1800-04-17T00:00:00",
          "WINTER": "1899-00"
         },
         {
          "CLOSED": "25 Dec",
          "CLOSED_with_fixed_year": "2000-12-25T00:00:00",
          "CLOSED_with_year": "1900-12-25T00:00:00",
          "DAYS": 107,
          "OPENED": "11 Apr",
          "OPENED_with_fixed_year": "2001-04-11T00:00:00",
          "OPENED_with_year": "1901-04-11T00:00:00",
          "WINTER": "1900-01"
         },
         {
          "CLOSED": "15 Dec",
          "CLOSED_with_fixed_year": "2000-12-15T00:00:00",
          "CLOSED_with_year": "1901-12-15T00:00:00",
          "DAYS": 105,
          "OPENED": "30 Mar",
          "OPENED_with_fixed_year": "2001-03-30T00:00:00",
          "OPENED_with_year": "1902-03-30T00:00:00",
          "WINTER": "1901-02"
         },
         {
          "CLOSED": "25 Dec",
          "CLOSED_with_fixed_year": "2000-12-25T00:00:00",
          "CLOSED_with_year": "1902-12-25T00:00:00",
          "DAYS": 89,
          "OPENED": "24 Mar",
          "OPENED_with_fixed_year": "2001-03-24T00:00:00",
          "OPENED_with_year": "1903-03-24T00:00:00",
          "WINTER": "1902-03"
         },
         {
          "CLOSED": "13 Dec",
          "CLOSED_with_fixed_year": "2000-12-13T00:00:00",
          "CLOSED_with_year": "1903-12-13T00:00:00",
          "DAYS": 126,
          "OPENED": "17 Apr",
          "OPENED_with_fixed_year": "2001-04-17T00:00:00",
          "OPENED_with_year": "1904-04-17T00:00:00",
          "WINTER": "1903-04"
         },
         {
          "CLOSED": "14 Dec",
          "CLOSED_with_fixed_year": "2000-12-14T00:00:00",
          "CLOSED_with_year": "1904-12-14T00:00:00",
          "DAYS": 108,
          "OPENED": "1 Apr",
          "OPENED_with_fixed_year": "2001-04-01T00:00:00",
          "OPENED_with_year": "1905-04-01T00:00:00",
          "WINTER": "1904-05"
         },
         {
          "CLOSED": "1 Jan",
          "CLOSED_with_fixed_year": "2001-01-01T00:00:00",
          "CLOSED_with_year": "1906-01-01T00:00:00",
          "DAYS": 97,
          "OPENED": "8 Apr",
          "OPENED_with_fixed_year": "2001-04-08T00:00:00",
          "OPENED_with_year": "1906-04-08T00:00:00",
          "WINTER": "1905-06"
         },
         {
          "CLOSED": "20 Dec",
          "CLOSED_with_fixed_year": "2000-12-20T00:00:00",
          "CLOSED_with_year": "1906-12-20T00:00:00",
          "DAYS": 94,
          "OPENED": "24 Mar",
          "OPENED_with_fixed_year": "2001-03-24T00:00:00",
          "OPENED_with_year": "1907-03-24T00:00:00",
          "WINTER": "1906-07"
         },
         {
          "CLOSED": "1 Jan",
          "CLOSED_with_fixed_year": "2001-01-01T00:00:00",
          "CLOSED_with_year": "1908-01-01T00:00:00",
          "DAYS": 83,
          "OPENED": "24 Mar",
          "OPENED_with_fixed_year": "2001-03-24T00:00:00",
          "OPENED_with_year": "1908-03-24T00:00:00",
          "WINTER": "1907-08"
         },
         {
          "CLOSED": "22 Dec",
          "CLOSED_with_fixed_year": "2000-12-22T00:00:00",
          "CLOSED_with_year": "1908-12-22T00:00:00",
          "DAYS": 106,
          "OPENED": "7 Apr",
          "OPENED_with_fixed_year": "2001-04-07T00:00:00",
          "OPENED_with_year": "1909-04-07T00:00:00",
          "WINTER": "1908-09"
         },
         {
          "CLOSED": "18 Dec",
          "CLOSED_with_fixed_year": "2000-12-18T00:00:00",
          "CLOSED_with_year": "1909-12-18T00:00:00",
          "DAYS": 98,
          "OPENED": "26 Mar",
          "OPENED_with_fixed_year": "2001-03-26T00:00:00",
          "OPENED_with_year": "1910-03-26T00:00:00",
          "WINTER": "1909-10"
         },
         {
          "CLOSED": "9 Dec",
          "CLOSED_with_fixed_year": "2000-12-09T00:00:00",
          "CLOSED_with_year": "1910-12-09T00:00:00",
          "DAYS": 101,
          "OPENED": "20 Mar",
          "OPENED_with_fixed_year": "2001-03-20T00:00:00",
          "OPENED_with_year": "1911-03-20T00:00:00",
          "WINTER": "1910-11"
         },
         {
          "CLOSED": "28 Dec",
          "CLOSED_with_fixed_year": "2000-12-28T00:00:00",
          "CLOSED_with_year": "1911-12-28T00:00:00",
          "DAYS": 108,
          "OPENED": "14 Apr",
          "OPENED_with_fixed_year": "2001-04-14T00:00:00",
          "OPENED_with_year": "1912-04-14T00:00:00",
          "WINTER": "1911-12"
         },
         {
          "CLOSED": "24 Dec",
          "CLOSED_with_fixed_year": "2000-12-24T00:00:00",
          "CLOSED_with_year": "1912-12-24T00:00:00",
          "DAYS": 99,
          "OPENED": "2 Apr",
          "OPENED_with_fixed_year": "2001-04-02T00:00:00",
          "OPENED_with_year": "1913-04-02T00:00:00",
          "WINTER": "1912-13"
         },
         {
          "CLOSED": "12 Jan",
          "CLOSED_with_fixed_year": "2001-01-12T00:00:00",
          "CLOSED_with_year": "1914-01-12T00:00:00",
          "DAYS": 88,
          "OPENED": "10 Apr",
          "OPENED_with_fixed_year": "2001-04-10T00:00:00",
          "OPENED_with_year": "1914-04-10T00:00:00",
          "WINTER": "1913-14"
         },
         {
          "CLOSED": "16 Dec",
          "CLOSED_with_fixed_year": "2000-12-16T00:00:00",
          "CLOSED_with_year": "1914-12-16T00:00:00",
          "DAYS": 115,
          "OPENED": "10 Apr",
          "OPENED_with_fixed_year": "2001-04-10T00:00:00",
          "OPENED_with_year": "1915-04-10T00:00:00",
          "WINTER": "1914-15"
         },
         {
          "CLOSED": "28 Dec",
          "CLOSED_with_fixed_year": "2000-12-28T00:00:00",
          "CLOSED_with_year": "1915-12-28T00:00:00",
          "DAYS": 102,
          "OPENED": "8 Apr",
          "OPENED_with_fixed_year": "2001-04-08T00:00:00",
          "OPENED_with_year": "1916-04-08T00:00:00",
          "WINTER": "1915-16"
         },
         {
          "CLOSED": "16 Dec",
          "CLOSED_with_fixed_year": "2000-12-16T00:00:00",
          "CLOSED_with_year": "1916-12-16T00:00:00",
          "DAYS": 116,
          "OPENED": "11 Apr",
          "OPENED_with_fixed_year": "2001-04-11T00:00:00",
          "OPENED_with_year": "1917-04-11T00:00:00",
          "WINTER": "1916-17"
         },
         {
          "CLOSED": "11 Dec",
          "CLOSED_with_fixed_year": "2000-12-11T00:00:00",
          "CLOSED_with_year": "1917-12-11T00:00:00",
          "DAYS": 115,
          "OPENED": "5 Apr",
          "OPENED_with_fixed_year": "2001-04-05T00:00:00",
          "OPENED_with_year": "1918-04-05T00:00:00",
          "WINTER": "1917-18"
         },
         {
          "CLOSED": "3 Jan",
          "CLOSED_with_fixed_year": "2001-01-03T00:00:00",
          "CLOSED_with_year": "1919-01-03T00:00:00",
          "DAYS": 82,
          "OPENED": "26 Mar",
          "OPENED_with_fixed_year": "2001-03-26T00:00:00",
          "OPENED_with_year": "1919-03-26T00:00:00",
          "WINTER": "1918-19"
         },
         {
          "CLOSED": "9 Dec",
          "CLOSED_with_fixed_year": "2000-12-09T00:00:00",
          "CLOSED_with_year": "1919-12-09T00:00:00",
          "DAYS": 110,
          "OPENED": "28 Mar",
          "OPENED_with_fixed_year": "2001-03-28T00:00:00",
          "OPENED_with_year": "1920-03-28T00:00:00",
          "WINTER": "1919-20"
         },
         {
          "CLOSED": "25 Dec",
          "CLOSED_with_fixed_year": "2000-12-25T00:00:00",
          "CLOSED_with_year": "1920-12-25T00:00:00",
          "DAYS": 81,
          "OPENED": "16 Mar",
          "OPENED_with_fixed_year": "2001-03-16T00:00:00",
          "OPENED_with_year": "1921-03-16T00:00:00",
          "WINTER": "1920-21"
         },
         {
          "CLOSED": "25 Dec",
          "CLOSED_with_fixed_year": "2000-12-25T00:00:00",
          "CLOSED_with_year": "1921-12-25T00:00:00",
          "DAYS": 96,
          "OPENED": "31 Mar",
          "OPENED_with_fixed_year": "2001-03-31T00:00:00",
          "OPENED_with_year": "1922-03-31T00:00:00",
          "WINTER": "1921-22"
         },
         {
          "CLOSED": "16 Dec",
          "CLOSED_with_fixed_year": "2000-12-16T00:00:00",
          "CLOSED_with_year": "1922-12-16T00:00:00",
          "DAYS": 125,
          "OPENED": "20 Apr",
          "OPENED_with_fixed_year": "2001-04-20T00:00:00",
          "OPENED_with_year": "1923-04-20T00:00:00",
          "WINTER": "1922-23"
         },
         {
          "CLOSED": "1 Jan",
          "CLOSED_with_fixed_year": "2001-01-01T00:00:00",
          "CLOSED_with_year": "1924-01-01T00:00:00",
          "DAYS": 104,
          "OPENED": "14 Apr",
          "OPENED_with_fixed_year": "2001-04-14T00:00:00",
          "OPENED_with_year": "1924-04-14T00:00:00",
          "WINTER": "1923-24"
         },
         {
          "CLOSED": "19 Dec",
          "CLOSED_with_fixed_year": "2000-12-19T00:00:00",
          "CLOSED_with_year": "1924-12-19T00:00:00",
          "DAYS": 105,
          "OPENED": "3 Apr",
          "OPENED_with_fixed_year": "2001-04-03T00:00:00",
          "OPENED_with_year": "1925-04-03T00:00:00",
          "WINTER": "1924-25"
         },
         {
          "CLOSED": "16 Dec",
          "CLOSED_with_fixed_year": "2000-12-16T00:00:00",
          "CLOSED_with_year": "1925-12-16T00:00:00",
          "DAYS": 124,
          "OPENED": "19 Apr",
          "OPENED_with_fixed_year": "2001-04-19T00:00:00",
          "OPENED_with_year": "1926-04-19T00:00:00",
          "WINTER": "1925-26"
         },
         {
          "CLOSED": "6 Dec",
          "CLOSED_with_fixed_year": "2000-12-06T00:00:00",
          "CLOSED_with_year": "1926-12-06T00:00:00",
          "DAYS": 103,
          "OPENED": "19 Mar",
          "OPENED_with_fixed_year": "2001-03-19T00:00:00",
          "OPENED_with_year": "1927-03-19T00:00:00",
          "WINTER": "1926-27"
         },
         {
          "CLOSED": "17 Dec",
          "CLOSED_with_fixed_year": "2000-12-17T00:00:00",
          "CLOSED_with_year": "1927-12-17T00:00:00",
          "DAYS": 106,
          "OPENED": "1 Apr",
          "OPENED_with_fixed_year": "2001-04-01T00:00:00",
          "OPENED_with_year": "1928-04-01T00:00:00",
          "WINTER": "1927-28"
         },
         {
          "CLOSED": "21 Dec",
          "CLOSED_with_fixed_year": "2000-12-21T00:00:00",
          "CLOSED_with_year": "1928-12-21T00:00:00",
          "DAYS": 96,
          "OPENED": "27 Mar",
          "OPENED_with_fixed_year": "2001-03-27T00:00:00",
          "OPENED_with_year": "1929-03-27T00:00:00",
          "WINTER": "1928-29"
         },
         {
          "CLOSED": "3 Dec",
          "CLOSED_with_fixed_year": "2000-12-03T00:00:00",
          "CLOSED_with_year": "1929-12-03T00:00:00",
          "DAYS": 107,
          "OPENED": "20 Mar",
          "OPENED_with_fixed_year": "2001-03-20T00:00:00",
          "OPENED_with_year": "1930-03-20T00:00:00",
          "WINTER": "1929-30"
         },
         {
          "CLOSED": "16 Dec",
          "CLOSED_with_fixed_year": "2000-12-16T00:00:00",
          "CLOSED_with_year": "1930-12-16T00:00:00",
          "DAYS": 98,
          "OPENED": "24 Mar",
          "OPENED_with_fixed_year": "2001-03-24T00:00:00",
          "OPENED_with_year": "1931-03-24T00:00:00",
          "WINTER": "1930-31"
         },
         {
          "CLOSED": "30 Jan",
          "CLOSED_with_fixed_year": "2001-01-30T00:00:00",
          "CLOSED_with_year": "1932-01-30T00:00:00",
          "DAYS": 65,
          "OPENED": "4 Apr",
          "OPENED_with_fixed_year": "2001-04-04T00:00:00",
          "OPENED_with_year": "1932-04-04T00:00:00",
          "WINTER": "1931-32"
         },
         {
          "CLOSED": "10 Dec",
          "CLOSED_with_fixed_year": "2000-12-10T00:00:00",
          "CLOSED_with_year": "1932-12-10T00:00:00",
          "DAYS": 115,
          "OPENED": "4 Apr",
          "OPENED_with_fixed_year": "2001-04-04T00:00:00",
          "OPENED_with_year": "1933-04-04T00:00:00",
          "WINTER": "1932-33"
         },
         {
          "CLOSED": "25 Dec",
          "CLOSED_with_fixed_year": "2000-12-25T00:00:00",
          "CLOSED_with_year": "1933-12-25T00:00:00",
          "DAYS": 91,
          "OPENED": "26 Mar",
          "OPENED_with_fixed_year": "2001-03-26T00:00:00",
          "OPENED_with_year": "1934-03-26T00:00:00",
          "WINTER": "1933-34"
         },
         {
          "CLOSED": "24 Dec",
          "CLOSED_with_fixed_year": "2000-12-24T00:00:00",
          "CLOSED_with_year": "1934-12-24T00:00:00",
          "DAYS": 94,
          "OPENED": "28 Mar",
          "OPENED_with_fixed_year": "2001-03-28T00:00:00",
          "OPENED_with_year": "1935-03-28T00:00:00",
          "WINTER": "1934-35"
         },
         {
          "CLOSED": "20 Dec",
          "CLOSED_with_fixed_year": "2000-12-20T00:00:00",
          "CLOSED_with_year": "1935-12-20T00:00:00",
          "DAYS": 101,
          "OPENED": "30 Mar",
          "OPENED_with_fixed_year": "2001-03-30T00:00:00",
          "OPENED_with_year": "1936-03-30T00:00:00",
          "WINTER": "1935-36"
         },
         {
          "CLOSED": "7 Dec",
          "CLOSED_with_fixed_year": "2000-12-07T00:00:00",
          "CLOSED_with_year": "1936-12-07T00:00:00",
          "DAYS": 23,
          "OPENED": "30 Dec",
          "OPENED_with_fixed_year": "2000-12-30T00:00:00",
          "OPENED_with_year": "1936-12-30T00:00:00",
          "WINTER": "1936-37"
         },
         {
          "CLOSED": "5 Jan",
          "CLOSED_with_fixed_year": "2001-01-05T00:00:00",
          "CLOSED_with_year": "1937-01-05T00:00:00",
          "DAYS": 98,
          "OPENED": "13 Apr",
          "OPENED_with_fixed_year": "2001-04-13T00:00:00",
          "OPENED_with_year": "1937-04-13T00:00:00",
          "WINTER": "1936-37"
         },
         {
          "CLOSED": "7 Dec",
          "CLOSED_with_fixed_year": "2000-12-07T00:00:00",
          "CLOSED_with_year": "1937-12-07T00:00:00",
          "DAYS": 105,
          "OPENED": "22 Mar",
          "OPENED_with_fixed_year": "2001-03-22T00:00:00",
          "OPENED_with_year": "1938-03-22T00:00:00",
          "WINTER": "1937-38"
         },
         {
          "CLOSED": "28 Dec",
          "CLOSED_with_fixed_year": "2000-12-28T00:00:00",
          "CLOSED_with_year": "1938-12-28T00:00:00",
          "DAYS": 97,
          "OPENED": "4 Apr",
          "OPENED_with_fixed_year": "2001-04-04T00:00:00",
          "OPENED_with_year": "1939-04-04T00:00:00",
          "WINTER": "1938-39"
         },
         {
          "CLOSED": "2 Jan",
          "CLOSED_with_fixed_year": "2001-01-02T00:00:00",
          "CLOSED_with_year": "1940-01-02T00:00:00",
          "DAYS": 105,
          "OPENED": "16 Apr",
          "OPENED_with_fixed_year": "2001-04-16T00:00:00",
          "OPENED_with_year": "1940-04-16T00:00:00",
          "WINTER": "1939-40"
         },
         {
          "CLOSED": "5 Jan",
          "CLOSED_with_fixed_year": "2001-01-05T00:00:00",
          "CLOSED_with_year": "1941-01-05T00:00:00",
          "DAYS": 96,
          "OPENED": "11 Apr",
          "OPENED_with_fixed_year": "2001-04-11T00:00:00",
          "OPENED_with_year": "1941-04-11T00:00:00",
          "WINTER": "1940-41"
         },
         {
          "CLOSED": "3 Jan",
          "CLOSED_with_fixed_year": "2001-01-03T00:00:00",
          "CLOSED_with_year": "1942-01-03T00:00:00",
          "DAYS": 82,
          "OPENED": "26 Mar",
          "OPENED_with_fixed_year": "2001-03-26T00:00:00",
          "OPENED_with_year": "1942-03-26T00:00:00",
          "WINTER": "1941-42"
         },
         {
          "CLOSED": "7 Dec",
          "CLOSED_with_fixed_year": "2000-12-07T00:00:00",
          "CLOSED_with_year": "1942-12-07T00:00:00",
          "DAYS": 116,
          "OPENED": "2 Apr",
          "OPENED_with_fixed_year": "2001-04-02T00:00:00",
          "OPENED_with_year": "1943-04-02T00:00:00",
          "WINTER": "1942-43"
         },
         {
          "CLOSED": "16 Dec",
          "CLOSED_with_fixed_year": "2000-12-16T00:00:00",
          "CLOSED_with_year": "1943-12-16T00:00:00",
          "DAYS": 114,
          "OPENED": "8 Apr",
          "OPENED_with_fixed_year": "2001-04-08T00:00:00",
          "OPENED_with_year": "1944-04-08T00:00:00",
          "WINTER": "1943-44"
         },
         {
          "CLOSED": "18 Dec",
          "CLOSED_with_fixed_year": "2000-12-18T00:00:00",
          "CLOSED_with_year": "1944-12-18T00:00:00",
          "DAYS": 92,
          "OPENED": "20 Mar",
          "OPENED_with_fixed_year": "2001-03-20T00:00:00",
          "OPENED_with_year": "1945-03-20T00:00:00",
          "WINTER": "1944-45"
         },
         {
          "CLOSED": "13 Dec",
          "CLOSED_with_fixed_year": "2000-12-13T00:00:00",
          "CLOSED_with_year": "1945-12-13T00:00:00",
          "DAYS": 98,
          "OPENED": "21 Mar",
          "OPENED_with_fixed_year": "2001-03-21T00:00:00",
          "OPENED_with_year": "1946-03-21T00:00:00",
          "WINTER": "1945-46"
         },
         {
          "CLOSED": "30 Dec",
          "CLOSED_with_fixed_year": "2000-12-30T00:00:00",
          "CLOSED_with_year": "1946-12-30T00:00:00",
          "DAYS": 101,
          "OPENED": "10 Apr",
          "OPENED_with_fixed_year": "2001-04-10T00:00:00",
          "OPENED_with_year": "1947-04-10T00:00:00",
          "WINTER": "1946-47"
         },
         {
          "CLOSED": "21 Dec",
          "CLOSED_with_fixed_year": "2000-12-21T00:00:00",
          "CLOSED_with_year": "1947-12-21T00:00:00",
          "DAYS": 104,
          "OPENED": "3 Apr",
          "OPENED_with_fixed_year": "2001-04-03T00:00:00",
          "OPENED_with_year": "1948-04-03T00:00:00",
          "WINTER": "1947-48"
         },
         {
          "CLOSED": "24 Dec",
          "CLOSED_with_fixed_year": "2000-12-24T00:00:00",
          "CLOSED_with_year": "1948-12-24T00:00:00",
          "DAYS": 96,
          "OPENED": "30 Mar",
          "OPENED_with_fixed_year": "2001-03-30T00:00:00",
          "OPENED_with_year": "1949-03-30T00:00:00",
          "WINTER": "1948-49"
         },
         {
          "CLOSED": "23 Dec",
          "CLOSED_with_fixed_year": "2000-12-23T00:00:00",
          "CLOSED_with_year": "1949-12-23T00:00:00",
          "DAYS": 109,
          "OPENED": "11 Apr",
          "OPENED_with_fixed_year": "2001-04-11T00:00:00",
          "OPENED_with_year": "1950-04-11T00:00:00",
          "WINTER": "1949-50"
         },
         {
          "CLOSED": "11 Dec",
          "CLOSED_with_fixed_year": "2000-12-11T00:00:00",
          "CLOSED_with_year": "1950-12-11T00:00:00",
          "DAYS": 122,
          "OPENED": "12 Apr",
          "OPENED_with_fixed_year": "2001-04-12T00:00:00",
          "OPENED_with_year": "1951-04-12T00:00:00",
          "WINTER": "1950-51"
         },
         {
          "CLOSED": "16 Dec",
          "CLOSED_with_fixed_year": "2000-12-16T00:00:00",
          "CLOSED_with_year": "1951-12-16T00:00:00",
          "DAYS": 114,
          "OPENED": "8 Apr",
          "OPENED_with_fixed_year": "2001-04-08T00:00:00",
          "OPENED_with_year": "1952-04-08T00:00:00",
          "WINTER": "1951-52"
         },
         {
          "CLOSED": "30 Dec",
          "CLOSED_with_fixed_year": "2000-12-30T00:00:00",
          "CLOSED_with_year": "1952-12-30T00:00:00",
          "DAYS": 81,
          "OPENED": "21 Mar",
          "OPENED_with_fixed_year": "2001-03-21T00:00:00",
          "OPENED_with_year": "1953-03-21T00:00:00",
          "WINTER": "1952-53"
         },
         {
          "CLOSED": "30 Dec",
          "CLOSED_with_fixed_year": "2000-12-30T00:00:00",
          "CLOSED_with_year": "1953-12-30T00:00:00",
          "DAYS": 85,
          "OPENED": "25 Mar",
          "OPENED_with_fixed_year": "2001-03-25T00:00:00",
          "OPENED_with_year": "1954-03-25T00:00:00",
          "WINTER": "1953-54"
         },
         {
          "CLOSED": "2 Jan",
          "CLOSED_with_fixed_year": "2001-01-02T00:00:00",
          "CLOSED_with_year": "1955-01-02T00:00:00",
          "DAYS": 92,
          "OPENED": "4 Apr",
          "OPENED_with_fixed_year": "2001-04-04T00:00:00",
          "OPENED_with_year": "1955-04-04T00:00:00",
          "WINTER": "1954-55"
         },
         {
          "CLOSED": "12 Dec",
          "CLOSED_with_fixed_year": "2000-12-12T00:00:00",
          "CLOSED_with_year": "1955-12-12T00:00:00",
          "DAYS": 114,
          "OPENED": "4 Apr",
          "OPENED_with_fixed_year": "2001-04-04T00:00:00",
          "OPENED_with_year": "1956-04-04T00:00:00",
          "WINTER": "1955-56"
         },
         {
          "CLOSED": "14 Dec",
          "CLOSED_with_fixed_year": "2000-12-14T00:00:00",
          "CLOSED_with_year": "1956-12-14T00:00:00",
          "DAYS": 111,
          "OPENED": "4 Apr",
          "OPENED_with_fixed_year": "2001-04-04T00:00:00",
          "OPENED_with_year": "1957-04-04T00:00:00",
          "WINTER": "1956-57"
         },
         {
          "CLOSED": "30 Dec",
          "CLOSED_with_fixed_year": "2000-12-30T00:00:00",
          "CLOSED_with_year": "1957-12-30T00:00:00",
          "DAYS": 95,
          "OPENED": "4 Apr",
          "OPENED_with_fixed_year": "2001-04-04T00:00:00",
          "OPENED_with_year": "1958-04-04T00:00:00",
          "WINTER": "1957-58"
         },
         {
          "CLOSED": "9 Dec",
          "CLOSED_with_fixed_year": "2000-12-09T00:00:00",
          "CLOSED_with_year": "1958-12-09T00:00:00",
          "DAYS": 126,
          "OPENED": "14 Apr",
          "OPENED_with_fixed_year": "2001-04-14T00:00:00",
          "OPENED_with_year": "1959-04-14T00:00:00",
          "WINTER": "1958-59"
         },
         {
          "CLOSED": "29 Dec",
          "CLOSED_with_fixed_year": "2000-12-29T00:00:00",
          "CLOSED_with_year": "1959-12-29T00:00:00",
          "DAYS": 105,
          "OPENED": "12 Apr",
          "OPENED_with_fixed_year": "2001-04-12T00:00:00",
          "OPENED_with_year": "1960-04-12T00:00:00",
          "WINTER": "1959-60"
         },
         {
          "CLOSED": "19 Dec",
          "CLOSED_with_fixed_year": "2000-12-19T00:00:00",
          "CLOSED_with_year": "1960-12-19T00:00:00",
          "DAYS": 108,
          "OPENED": "6 Apr",
          "OPENED_with_fixed_year": "2001-04-06T00:00:00",
          "OPENED_with_year": "1961-04-06T00:00:00",
          "WINTER": "1960-61"
         },
         {
          "CLOSED": "16 Dec",
          "CLOSED_with_fixed_year": "2000-12-16T00:00:00",
          "CLOSED_with_year": "1961-12-16T00:00:00",
          "DAYS": 117,
          "OPENED": "12 Apr",
          "OPENED_with_fixed_year": "2001-04-12T00:00:00",
          "OPENED_with_year": "1962-04-12T00:00:00",
          "WINTER": "1961-62"
         },
         {
          "CLOSED": "12 Dec",
          "CLOSED_with_fixed_year": "2000-12-12T00:00:00",
          "CLOSED_with_year": "1962-12-12T00:00:00",
          "DAYS": 112,
          "OPENED": "3 Apr",
          "OPENED_with_fixed_year": "2001-04-03T00:00:00",
          "OPENED_with_year": "1963-04-03T00:00:00",
          "WINTER": "1962-63"
         },
         {
          "CLOSED": "20 Dec",
          "CLOSED_with_fixed_year": "2000-12-20T00:00:00",
          "CLOSED_with_year": "1963-12-20T00:00:00",
          "DAYS": 113,
          "OPENED": "11 Apr",
          "OPENED_with_fixed_year": "2001-04-11T00:00:00",
          "OPENED_with_year": "1964-04-11T00:00:00",
          "WINTER": "1963-64"
         },
         {
          "CLOSED": "15 Dec",
          "CLOSED_with_fixed_year": "2000-12-15T00:00:00",
          "CLOSED_with_year": "1964-12-15T00:00:00",
          "DAYS": 120,
          "OPENED": "14 Apr",
          "OPENED_with_fixed_year": "2001-04-14T00:00:00",
          "OPENED_with_year": "1965-04-14T00:00:00",
          "WINTER": "1964-65"
         },
         {
          "CLOSED": "11 Jan",
          "CLOSED_with_fixed_year": "2001-01-11T00:00:00",
          "CLOSED_with_year": "1966-01-11T00:00:00",
          "DAYS": 65,
          "OPENED": "17 Mar",
          "OPENED_with_fixed_year": "2001-03-17T00:00:00",
          "OPENED_with_year": "1966-03-17T00:00:00",
          "WINTER": "1965-66"
         },
         {
          "CLOSED": "26 Dec",
          "CLOSED_with_fixed_year": "2000-12-26T00:00:00",
          "CLOSED_with_year": "1966-12-26T00:00:00",
          "DAYS": 98,
          "OPENED": "3 Apr",
          "OPENED_with_fixed_year": "2001-04-03T00:00:00",
          "OPENED_with_year": "1967-04-03T00:00:00",
          "WINTER": "1966-67"
         },
         {
          "CLOSED": "27 Dec",
          "CLOSED_with_fixed_year": "2000-12-27T00:00:00",
          "CLOSED_with_year": "1967-12-27T00:00:00",
          "DAYS": 91,
          "OPENED": "27 Mar",
          "OPENED_with_fixed_year": "2001-03-27T00:00:00",
          "OPENED_with_year": "1968-03-27T00:00:00",
          "WINTER": "1967-68"
         },
         {
          "CLOSED": "17 Dec",
          "CLOSED_with_fixed_year": "2000-12-17T00:00:00",
          "CLOSED_with_year": "1968-12-17T00:00:00",
          "DAYS": 2,
          "OPENED": "19 Dec",
          "OPENED_with_fixed_year": "2000-12-19T00:00:00",
          "OPENED_with_year": "1968-12-19T00:00:00",
          "WINTER": "1968-69"
         },
         {
          "CLOSED": "25 Dec",
          "CLOSED_with_fixed_year": "2000-12-25T00:00:00",
          "CLOSED_with_year": "1968-12-25T00:00:00",
          "DAYS": 106,
          "OPENED": "10 Apr",
          "OPENED_with_fixed_year": "2001-04-10T00:00:00",
          "OPENED_with_year": "1969-04-10T00:00:00",
          "WINTER": "1968-69"
         },
         {
          "CLOSED": "16 Dec",
          "CLOSED_with_fixed_year": "2000-12-16T00:00:00",
          "CLOSED_with_year": "1969-12-16T00:00:00",
          "DAYS": 113,
          "OPENED": "8 Apr",
          "OPENED_with_fixed_year": "2001-04-08T00:00:00",
          "OPENED_with_year": "1970-04-08T00:00:00",
          "WINTER": "1969-70"
         },
         {
          "CLOSED": "24 Dec",
          "CLOSED_with_fixed_year": "2000-12-24T00:00:00",
          "CLOSED_with_year": "1970-12-24T00:00:00",
          "DAYS": 110,
          "OPENED": "13 Apr",
          "OPENED_with_fixed_year": "2001-04-13T00:00:00",
          "OPENED_with_year": "1971-04-13T00:00:00",
          "WINTER": "1970-71"
         },
         {
          "CLOSED": "5 Jan",
          "CLOSED_with_fixed_year": "2001-01-05T00:00:00",
          "CLOSED_with_year": "1972-01-05T00:00:00",
          "DAYS": 105,
          "OPENED": "19 Apr",
          "OPENED_with_fixed_year": "2001-04-19T00:00:00",
          "OPENED_with_year": "1972-04-19T00:00:00",
          "WINTER": "1971-72"
         },
         {
          "CLOSED": "7 Dec",
          "CLOSED_with_fixed_year": "2000-12-07T00:00:00",
          "CLOSED_with_year": "1972-12-07T00:00:00",
          "DAYS": 97,
          "OPENED": "14 Mar",
          "OPENED_with_fixed_year": "2001-03-14T00:00:00",
          "OPENED_with_year": "1973-03-14T00:00:00",
          "WINTER": "1972-73"
         },
         {
          "CLOSED": "21 Dec",
          "CLOSED_with_fixed_year": "2000-12-21T00:00:00",
          "CLOSED_with_year": "1973-12-21T00:00:00",
          "DAYS": 105,
          "OPENED": "5 Apr",
          "OPENED_with_fixed_year": "2001-04-05T00:00:00",
          "OPENED_with_year": "1974-04-05T00:00:00",
          "WINTER": "1973-74"
         },
         {
          "CLOSED": "2 Jan",
          "CLOSED_with_fixed_year": "2001-01-02T00:00:00",
          "CLOSED_with_year": "1975-01-02T00:00:00",
          "DAYS": 107,
          "OPENED": "19 Apr",
          "OPENED_with_fixed_year": "2001-04-19T00:00:00",
          "OPENED_with_year": "1975-04-19T00:00:00",
          "WINTER": "1974-75"
         },
         {
          "CLOSED": "27 Dec",
          "CLOSED_with_fixed_year": "2000-12-27T00:00:00",
          "CLOSED_with_year": "1975-12-27T00:00:00",
          "DAYS": 88,
          "OPENED": "24 Mar",
          "OPENED_with_fixed_year": "2001-03-24T00:00:00",
          "OPENED_with_year": "1976-03-24T00:00:00",
          "WINTER": "1975-76"
         },
         {
          "CLOSED": "3 Dec",
          "CLOSED_with_fixed_year": "2000-12-03T00:00:00",
          "CLOSED_with_year": "1976-12-03T00:00:00",
          "DAYS": 115,
          "OPENED": "28 Mar",
          "OPENED_with_fixed_year": "2001-03-28T00:00:00",
          "OPENED_with_year": "1977-03-28T00:00:00",
          "WINTER": "1976-77"
         },
         {
          "CLOSED": "7 Dec",
          "CLOSED_with_fixed_year": "2000-12-07T00:00:00",
          "CLOSED_with_year": "1977-12-07T00:00:00",
          "DAYS": 1,
          "OPENED": "8 Dec",
          "OPENED_with_fixed_year": "2000-12-08T00:00:00",
          "OPENED_with_year": "1977-12-08T00:00:00",
          "WINTER": "1977-78"
         },
         {
          "CLOSED": "10 Dec",
          "CLOSED_with_fixed_year": "2000-12-10T00:00:00",
          "CLOSED_with_year": "1977-12-10T00:00:00",
          "DAYS": 122,
          "OPENED": "11 Apr",
          "OPENED_with_fixed_year": "2001-04-11T00:00:00",
          "OPENED_with_year": "1978-04-11T00:00:00",
          "WINTER": "1977-78"
         },
         {
          "CLOSED": "10 Dec",
          "CLOSED_with_fixed_year": "2000-12-10T00:00:00",
          "CLOSED_with_year": "1978-12-10T00:00:00",
          "DAYS": 3,
          "OPENED": "13 Dec",
          "OPENED_with_fixed_year": "2000-12-13T00:00:00",
          "OPENED_with_year": "1978-12-13T00:00:00",
          "WINTER": "1978-79"
         },
         {
          "CLOSED": "25 Dec",
          "CLOSED_with_fixed_year": "2000-12-25T00:00:00",
          "CLOSED_with_year": "1978-12-25T00:00:00",
          "DAYS": 115,
          "OPENED": "19 Apr",
          "OPENED_with_fixed_year": "2001-04-19T00:00:00",
          "OPENED_with_year": "1979-04-19T00:00:00",
          "WINTER": "1978-79"
         },
         {
          "CLOSED": "29 Dec",
          "CLOSED_with_fixed_year": "2000-12-29T00:00:00",
          "CLOSED_with_year": "1979-12-29T00:00:00",
          "DAYS": 99,
          "OPENED": "6 Apr",
          "OPENED_with_fixed_year": "2001-04-06T00:00:00",
          "OPENED_with_year": "1980-04-06T00:00:00",
          "WINTER": "1979-80"
         },
         {
          "CLOSED": "20 Dec",
          "CLOSED_with_fixed_year": "2000-12-20T00:00:00",
          "CLOSED_with_year": "1980-12-20T00:00:00",
          "DAYS": 93,
          "OPENED": "23 Mar",
          "OPENED_with_fixed_year": "2001-03-23T00:00:00",
          "OPENED_with_year": "1981-03-23T00:00:00",
          "WINTER": "1980-81"
         },
         {
          "CLOSED": "28 Dec",
          "CLOSED_with_fixed_year": "2000-12-28T00:00:00",
          "CLOSED_with_year": "1981-12-28T00:00:00",
          "DAYS": 96,
          "OPENED": "3 Apr",
          "OPENED_with_fixed_year": "2001-04-03T00:00:00",
          "OPENED_with_year": "1982-04-03T00:00:00",
          "WINTER": "1981-82"
         },
         {
          "CLOSED": "13 Jan",
          "CLOSED_with_fixed_year": "2001-01-13T00:00:00",
          "CLOSED_with_year": "1983-01-13T00:00:00",
          "DAYS": 54,
          "OPENED": "8 Mar",
          "OPENED_with_fixed_year": "2001-03-08T00:00:00",
          "OPENED_with_year": "1983-03-08T00:00:00",
          "WINTER": "1982-83"
         },
         {
          "CLOSED": "19 Dec",
          "CLOSED_with_fixed_year": "2000-12-19T00:00:00",
          "CLOSED_with_year": "1983-12-19T00:00:00",
          "DAYS": 111,
          "OPENED": "8 Apr",
          "OPENED_with_fixed_year": "2001-04-08T00:00:00",
          "OPENED_with_year": "1984-04-08T00:00:00",
          "WINTER": "1983-84"
         },
         {
          "CLOSED": "25 Dec",
          "CLOSED_with_fixed_year": "2000-12-25T00:00:00",
          "CLOSED_with_year": "1984-12-25T00:00:00",
          "DAYS": 1,
          "OPENED": "26 Dec",
          "OPENED_with_fixed_year": "2000-12-26T00:00:00",
          "OPENED_with_year": "1984-12-26T00:00:00",
          "WINTER": "1984-85"
         },
         {
          "CLOSED": "2 Jan",
          "CLOSED_with_fixed_year": "2001-01-02T00:00:00",
          "CLOSED_with_year": "1985-01-02T00:00:00",
          "DAYS": 84,
          "OPENED": "27 Mar",
          "OPENED_with_fixed_year": "2001-03-27T00:00:00",
          "OPENED_with_year": "1985-03-27T00:00:00",
          "WINTER": "1984-85"
         },
         {
          "CLOSED": "14 Dec",
          "CLOSED_with_fixed_year": "2000-12-14T00:00:00",
          "CLOSED_with_year": "1985-12-14T00:00:00",
          "DAYS": 107,
          "OPENED": "31 Mar",
          "OPENED_with_fixed_year": "2001-03-31T00:00:00",
          "OPENED_with_year": "1986-03-31T00:00:00",
          "WINTER": "1985-86"
         },
         {
          "CLOSED": "13 Dec",
          "CLOSED_with_fixed_year": "2000-12-13T00:00:00",
          "CLOSED_with_year": "1986-12-13T00:00:00",
          "DAYS": 89,
          "OPENED": "12 Mar",
          "OPENED_with_fixed_year": "2001-03-12T00:00:00",
          "OPENED_with_year": "1987-03-12T00:00:00",
          "WINTER": "1986-87"
         },
         {
          "CLOSED": "2 Jan",
          "CLOSED_with_fixed_year": "2001-01-02T00:00:00",
          "CLOSED_with_year": "1988-01-02T00:00:00",
          "DAYS": 87,
          "OPENED": "29 Mar",
          "OPENED_with_fixed_year": "2001-03-29T00:00:00",
          "OPENED_with_year": "1988-03-29T00:00:00",
          "WINTER": "1987-88"
         },
         {
          "CLOSED": "29 Dec",
          "CLOSED_with_fixed_year": "2000-12-29T00:00:00",
          "CLOSED_with_year": "1988-12-29T00:00:00",
          "DAYS": 97,
          "OPENED": "5 Apr",
          "OPENED_with_fixed_year": "2001-04-05T00:00:00",
          "OPENED_with_year": "1989-04-05T00:00:00",
          "WINTER": "1988-89"
         },
         {
          "CLOSED": "12 Dec",
          "CLOSED_with_fixed_year": "2000-12-12T00:00:00",
          "CLOSED_with_year": "1989-12-12T00:00:00",
          "DAYS": 93,
          "OPENED": "15 Mar",
          "OPENED_with_fixed_year": "2001-03-15T00:00:00",
          "OPENED_with_year": "1990-03-15T00:00:00",
          "WINTER": "1989-90"
         },
         {
          "CLOSED": "26 Dec",
          "CLOSED_with_fixed_year": "2000-12-26T00:00:00",
          "CLOSED_with_year": "1990-12-26T00:00:00",
          "DAYS": 88,
          "OPENED": "24 Mar",
          "OPENED_with_fixed_year": "2001-03-24T00:00:00",
          "OPENED_with_year": "1991-03-24T00:00:00",
          "WINTER": "1990-91"
         },
         {
          "CLOSED": "18 Dec",
          "CLOSED_with_fixed_year": "2000-12-18T00:00:00",
          "CLOSED_with_year": "1991-12-18T00:00:00",
          "DAYS": 99,
          "OPENED": "26 Mar",
          "OPENED_with_fixed_year": "2001-03-26T00:00:00",
          "OPENED_with_year": "1992-03-26T00:00:00",
          "WINTER": "1991-92"
         },
         {
          "CLOSED": "24 Dec",
          "CLOSED_with_fixed_year": "2000-12-24T00:00:00",
          "CLOSED_with_year": "1992-12-24T00:00:00",
          "DAYS": 108,
          "OPENED": "11 Apr",
          "OPENED_with_fixed_year": "2001-04-11T00:00:00",
          "OPENED_with_year": "1993-04-11T00:00:00",
          "WINTER": "1992-93"
         },
         {
          "CLOSED": "27 Dec",
          "CLOSED_with_fixed_year": "2000-12-27T00:00:00",
          "CLOSED_with_year": "1993-12-27T00:00:00",
          "DAYS": 94,
          "OPENED": "31 Mar",
          "OPENED_with_fixed_year": "2001-03-31T00:00:00",
          "OPENED_with_year": "1994-03-31T00:00:00",
          "WINTER": "1993-94"
         },
         {
          "CLOSED": "6 Jan",
          "CLOSED_with_fixed_year": "2001-01-06T00:00:00",
          "CLOSED_with_year": "1995-01-06T00:00:00",
          "DAYS": 74,
          "OPENED": "21 Mar",
          "OPENED_with_fixed_year": "2001-03-21T00:00:00",
          "OPENED_with_year": "1995-03-21T00:00:00",
          "WINTER": "1994-95"
         },
         {
          "CLOSED": "10 Dec",
          "CLOSED_with_fixed_year": "2000-12-10T00:00:00",
          "CLOSED_with_year": "1995-12-10T00:00:00",
          "DAYS": 119,
          "OPENED": "7 Apr",
          "OPENED_with_fixed_year": "2001-04-07T00:00:00",
          "OPENED_with_year": "1996-04-07T00:00:00",
          "WINTER": "1995-96"
         },
         {
          "CLOSED": "20 Dec",
          "CLOSED_with_fixed_year": "2000-12-20T00:00:00",
          "CLOSED_with_year": "1996-12-20T00:00:00",
          "DAYS": 102,
          "OPENED": "1 Apr",
          "OPENED_with_fixed_year": "2001-04-01T00:00:00",
          "OPENED_with_year": "1997-04-01T00:00:00",
          "WINTER": "1996-97"
         },
         {
          "CLOSED": "11 Jan",
          "CLOSED_with_fixed_year": "2001-01-11T00:00:00",
          "CLOSED_with_year": "1998-01-11T00:00:00",
          "DAYS": 47,
          "OPENED": "27 Feb",
          "OPENED_with_fixed_year": "2001-02-27T00:00:00",
          "OPENED_with_year": "1998-02-27T00:00:00",
          "WINTER": "1997-98"
         },
         {
          "CLOSED": "30 Dec",
          "CLOSED_with_fixed_year": "2000-12-30T00:00:00",
          "CLOSED_with_year": "1998-12-30T00:00:00",
          "DAYS": 82,
          "OPENED": "21 Mar",
          "OPENED_with_fixed_year": "2001-03-21T00:00:00",
          "OPENED_with_year": "1999-03-21T00:00:00",
          "WINTER": "1998-99"
         },
         {
          "CLOSED": "14 Jan",
          "CLOSED_with_fixed_year": "2001-01-14T00:00:00",
          "CLOSED_with_year": "1900-01-14T00:00:00",
          "DAYS": 53,
          "OPENED": "7 Mar",
          "OPENED_with_fixed_year": "2001-03-07T00:00:00",
          "OPENED_with_year": "1900-03-07T00:00:00",
          "WINTER": "1999-00"
         },
         {
          "CLOSED": "13 Dec",
          "CLOSED_with_fixed_year": "2000-12-13T00:00:00",
          "CLOSED_with_year": "2000-12-13T00:00:00",
          "DAYS": 115,
          "OPENED": "7 Apr",
          "OPENED_with_fixed_year": "2001-04-07T00:00:00",
          "OPENED_with_year": "2001-04-07T00:00:00",
          "WINTER": "2000-01"
         },
         {
          "CLOSED": "2 Jan",
          "CLOSED_with_fixed_year": "2001-01-02T00:00:00",
          "CLOSED_with_year": "2002-01-02T00:00:00",
          "DAYS": 10,
          "OPENED": "12 Jan",
          "OPENED_with_fixed_year": "2001-01-12T00:00:00",
          "OPENED_with_year": "2002-01-12T00:00:00",
          "WINTER": "2001-02"
         },
         {
          "CLOSED": "4 Mar",
          "CLOSED_with_fixed_year": "2001-03-04T00:00:00",
          "CLOSED_with_year": "2002-03-04T00:00:00",
          "DAYS": 11,
          "OPENED": "15 Mar",
          "OPENED_with_fixed_year": "2001-03-15T00:00:00",
          "OPENED_with_year": "2002-03-15T00:00:00",
          "WINTER": "2001-02"
         },
         {
          "CLOSED": "4 Jan",
          "CLOSED_with_fixed_year": "2001-01-04T00:00:00",
          "CLOSED_with_year": "2003-01-04T00:00:00",
          "DAYS": 89,
          "OPENED": "3 Apr",
          "OPENED_with_fixed_year": "2001-04-03T00:00:00",
          "OPENED_with_year": "2003-04-03T00:00:00",
          "WINTER": "2002-03"
         },
         {
          "CLOSED": "7 Jan",
          "CLOSED_with_fixed_year": "2001-01-07T00:00:00",
          "CLOSED_with_year": "2004-01-07T00:00:00",
          "DAYS": 80,
          "OPENED": "27 Mar",
          "OPENED_with_fixed_year": "2001-03-27T00:00:00",
          "OPENED_with_year": "2004-03-27T00:00:00",
          "WINTER": "2003-04"
         },
         {
          "CLOSED": "25 Dec",
          "CLOSED_with_fixed_year": "2000-12-25T00:00:00",
          "CLOSED_with_year": "2004-12-25T00:00:00",
          "DAYS": 101,
          "OPENED": "5 Apr",
          "OPENED_with_fixed_year": "2001-04-05T00:00:00",
          "OPENED_with_year": "2005-04-05T00:00:00",
          "WINTER": "2004-05"
         },
         {
          "CLOSED": "19 Dec",
          "CLOSED_with_fixed_year": "2000-12-19T00:00:00",
          "CLOSED_with_year": "2005-12-19T00:00:00",
          "DAYS": 95,
          "OPENED": "24 Mar",
          "OPENED_with_fixed_year": "2001-03-24T00:00:00",
          "OPENED_with_year": "2006-03-24T00:00:00",
          "WINTER": "2005-06"
         },
         {
          "CLOSED": "20 Jan",
          "CLOSED_with_fixed_year": "2001-01-20T00:00:00",
          "CLOSED_with_year": "2007-01-20T00:00:00",
          "DAYS": 66,
          "OPENED": "27 Mar",
          "OPENED_with_fixed_year": "2001-03-27T00:00:00",
          "OPENED_with_year": "2007-03-27T00:00:00",
          "WINTER": "2006-07"
         },
         {
          "CLOSED": "26 Dec",
          "CLOSED_with_fixed_year": "2000-12-26T00:00:00",
          "CLOSED_with_year": "2007-12-26T00:00:00",
          "DAYS": 106,
          "OPENED": "10 Apr",
          "OPENED_with_fixed_year": "2001-04-10T00:00:00",
          "OPENED_with_year": "2008-04-10T00:00:00",
          "WINTER": "2007-08"
         },
         {
          "CLOSED": "16 Dec",
          "CLOSED_with_fixed_year": "2000-12-16T00:00:00",
          "CLOSED_with_year": "2008-12-16T00:00:00",
          "DAYS": 97,
          "OPENED": "23 Mar",
          "OPENED_with_fixed_year": "2001-03-23T00:00:00",
          "OPENED_with_year": "2009-03-23T00:00:00",
          "WINTER": "2008-09"
         },
         {
          "CLOSED": "29 Dec",
          "CLOSED_with_fixed_year": "2000-12-29T00:00:00",
          "CLOSED_with_year": "2009-12-29T00:00:00",
          "DAYS": 87,
          "OPENED": "26 Mar",
          "OPENED_with_fixed_year": "2001-03-26T00:00:00",
          "OPENED_with_year": "2010-03-26T00:00:00",
          "WINTER": "2009-10"
         },
         {
          "CLOSED": "15 Dec",
          "CLOSED_with_fixed_year": "2000-12-15T00:00:00",
          "CLOSED_with_year": "2010-12-15T00:00:00",
          "DAYS": 109,
          "OPENED": "3 Apr",
          "OPENED_with_fixed_year": "2001-04-03T00:00:00",
          "OPENED_with_year": "2011-04-03T00:00:00",
          "WINTER": "2010-11"
         },
         {
          "CLOSED": "14 Jan",
          "CLOSED_with_fixed_year": "2001-01-14T00:00:00",
          "CLOSED_with_year": "2012-01-14T00:00:00",
          "DAYS": 57,
          "OPENED": "11 Mar",
          "OPENED_with_fixed_year": "2001-03-11T00:00:00",
          "OPENED_with_year": "2012-03-11T00:00:00",
          "WINTER": "2011-12"
         },
         {
          "CLOSED": "14 Jan",
          "CLOSED_with_fixed_year": "2001-01-14T00:00:00",
          "CLOSED_with_year": "2013-01-14T00:00:00",
          "DAYS": 87,
          "OPENED": "11 Apr",
          "OPENED_with_fixed_year": "2001-04-11T00:00:00",
          "OPENED_with_year": "2013-04-11T00:00:00",
          "WINTER": "2012-13"
         },
         {
          "CLOSED": "16 Dec",
          "CLOSED_with_fixed_year": "2000-12-16T00:00:00",
          "CLOSED_with_year": "2013-12-16T00:00:00",
          "DAYS": 117,
          "OPENED": "12 Apr",
          "OPENED_with_fixed_year": "2001-04-12T00:00:00",
          "OPENED_with_year": "2014-04-12T00:00:00",
          "WINTER": "2013-14"
         },
         {
          "CLOSED": "2 Jan",
          "CLOSED_with_fixed_year": "2001-01-02T00:00:00",
          "CLOSED_with_year": "2015-01-02T00:00:00",
          "DAYS": 91,
          "OPENED": "3 Apr",
          "OPENED_with_fixed_year": "2001-04-03T00:00:00",
          "OPENED_with_year": "2015-04-03T00:00:00",
          "WINTER": "2014-15"
         },
         {
          "CLOSED": "11 Jan",
          "CLOSED_with_fixed_year": "2001-01-11T00:00:00",
          "CLOSED_with_year": "2016-01-11T00:00:00",
          "DAYS": 62,
          "OPENED": "13 Mar",
          "OPENED_with_fixed_year": "2001-03-13T00:00:00",
          "OPENED_with_year": "2016-03-13T00:00:00",
          "WINTER": "2015-16"
         },
         {
          "CLOSED": "1 Jan",
          "CLOSED_with_fixed_year": "2001-01-01T00:00:00",
          "CLOSED_with_year": "2017-01-01T00:00:00",
          "DAYS": 65,
          "OPENED": "7 Mar",
          "OPENED_with_fixed_year": "2001-03-07T00:00:00",
          "OPENED_with_year": "2017-03-07T00:00:00",
          "WINTER": "2016-17"
         },
         {
          "CLOSED": "27 Dec",
          "CLOSED_with_fixed_year": "2000-12-27T00:00:00",
          "CLOSED_with_year": "2017-12-27T00:00:00",
          "DAYS": 94,
          "OPENED": "31 Mar",
          "OPENED_with_fixed_year": "2001-03-31T00:00:00",
          "OPENED_with_year": "2018-03-31T00:00:00",
          "WINTER": "2017-18"
         }
        ]
       },
       "layer": [
        {
         "data": {
          "name": "data-4ef748b5e318a98336a4dd3d17dc5e00"
         },
         "encoding": {
          "tooltip": [
           {
            "field": "WINTER",
            "title": "Winter",
            "type": "nominal"
           },
           {
            "aggregate": "min",
            "field": "CLOSED_with_year",
            "format": "%x",
            "title": "Closed",
            "type": "temporal"
           },
           {
            "aggregate": "min",
            "field": "OPENED_with_year",
            "format": "%x",
            "title": "Opened",
            "type": "temporal"
           },
           {
            "aggregate": "sum",
            "field": "DAYS",
            "title": "# Days Closed",
            "type": "quantitative"
           }
          ],
          "x": {
           "axis": {
            "labelOverlap": "parity",
            "title": "Winter"
           },
           "field": "WINTER",
           "type": "nominal"
          },
          "y": {
           "axis": {
            "format": "%B",
            "title": "Days Closed"
           },
           "field": "OPENED_with_fixed_year",
           "type": "temporal"
          },
          "y2": {
           "field": "CLOSED_with_fixed_year",
           "type": "temporal"
          }
         },
         "mark": {
          "color": "grey",
          "type": "bar"
         },
         "title": "Freezing and Thawing of Lake Mendota, 1855-56 to 2017-18",
         "width": 1000
        },
        {
         "data": {
          "name": "data-4ef748b5e318a98336a4dd3d17dc5e00"
         },
         "encoding": {
          "tooltip": [
           {
            "field": "WINTER",
            "title": "Winter",
            "type": "nominal"
           },
           {
            "aggregate": "min",
            "field": "CLOSED_with_year",
            "format": "%x",
            "title": "Closed",
            "type": "temporal"
           },
           {
            "aggregate": "min",
            "field": "OPENED_with_year",
            "format": "%x",
            "title": "Opened",
            "type": "temporal"
           },
           {
            "aggregate": "sum",
            "field": "DAYS",
            "title": "# Days Closed",
            "type": "quantitative"
           }
          ],
          "x": {
           "axis": {
            "labelOverlap": "parity",
            "title": "Winter"
           },
           "field": "WINTER",
           "type": "nominal"
          },
          "y": {
           "aggregate": "sum",
           "axis": {
            "grid": false,
            "title": "# Days Closed"
           },
           "field": "DAYS",
           "type": "quantitative"
          }
         },
         "mark": {
          "color": "blue",
          "type": "line"
         },
         "title": "Freezing and Thawing of Lake Mendota, 1855-56 to 2017-18",
         "width": 1000
        }
       ]
      },
      "image/png": "[encoded data removed]",
      "text/plain": [
       "<VegaLite 2 object>\n",
       "\n",
       "If you see this message, it means the renderer has not been properly enabled\n",
       "for the frontend that you are using. For more information, see\n",
       "https://altair-viz.github.io/user_guide/troubleshooting.html\n"
      ]
     },
     "execution_count": 532,
     "metadata": {},
     "output_type": "execute_result"
    }
   ],
   "source": [
    "base = alt.Chart(df).encode(\n",
    "    x=alt.X('WINTER', axis=alt.Axis(title='Winter', labelOverlap=\"parity\")),\n",
    "    tooltip=[\n",
    "        alt.Tooltip('WINTER', title='Winter'),\n",
    "        alt.Tooltip('min(CLOSED_with_year)', title='Closed', format='%x'),\n",
    "        alt.Tooltip('min(OPENED_with_year)', title='Opened', format='%x'),\n",
    "        alt.Tooltip('sum(DAYS)', title='# Days Closed'),\n",
    "    ]\n",
    ").properties(width=1000, title='Freezing and Thawing of Lake Mendota, 1855-56 to 2017-18')\n",
    "\n",
    "bar = base.mark_bar(color='grey').encode(\n",
    "    y=alt.Y('OPENED_with_fixed_year:T', axis=alt.Axis(title='Days Closed', format='%B')),\n",
    "    y2='CLOSED_with_fixed_year:T',\n",
    ")\n",
    "\n",
    "line = base.mark_line(color='blue').encode(\n",
    "    y=alt.Y('sum(DAYS):Q', axis=alt.Axis(title=\"# Days Closed\", grid=False))\n",
    ")\n",
    "\n",
    "bar + line"
   ]
  },
  {
   "cell_type": "code",
   "execution_count": 533,
   "metadata": {},
   "outputs": [],
   "source": [
    "(bar + line).save('freezing.html')"
   ]
  },
  {
   "cell_type": "code",
   "execution_count": null,
   "metadata": {},
   "outputs": [],
   "source": []
  }
 ],
 "metadata": {
  "kernelspec": {
   "display_name": "Python 3",
   "language": "python",
   "name": "python3"
  },
  "language_info": {
   "codemirror_mode": {
    "name": "ipython",
    "version": 3
   },
   "file_extension": ".py",
   "mimetype": "text/x-python",
   "name": "python",
   "nbconvert_exporter": "python",
   "pygments_lexer": "ipython3",
   "version": "3.6.7"
  }
 },
 "nbformat": 4,
 "nbformat_minor": 2
}
