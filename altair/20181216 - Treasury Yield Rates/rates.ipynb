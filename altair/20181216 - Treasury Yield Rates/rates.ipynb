{
 "cells": [
  {
   "cell_type": "code",
   "execution_count": 2,
   "metadata": {},
   "outputs": [],
   "source": [
    "import pandas as pd\n",
    "import numpy as np\n",
    "import altair as alt"
   ]
  },
  {
   "cell_type": "code",
   "execution_count": 3,
   "metadata": {},
   "outputs": [
    {
     "data": {
      "text/html": [
       "<div>\n",
       "<style scoped>\n",
       "    .dataframe tbody tr th:only-of-type {\n",
       "        vertical-align: middle;\n",
       "    }\n",
       "\n",
       "    .dataframe tbody tr th {\n",
       "        vertical-align: top;\n",
       "    }\n",
       "\n",
       "    .dataframe thead th {\n",
       "        text-align: right;\n",
       "    }\n",
       "</style>\n",
       "<table border=\"1\" class=\"dataframe\">\n",
       "  <thead>\n",
       "    <tr style=\"text-align: right;\">\n",
       "      <th></th>\n",
       "      <th>year</th>\n",
       "      <th>average</th>\n",
       "      <th>min</th>\n",
       "      <th>max</th>\n",
       "    </tr>\n",
       "  </thead>\n",
       "  <tbody>\n",
       "    <tr>\n",
       "      <th>0</th>\n",
       "      <td>1990</td>\n",
       "      <td>8.217831</td>\n",
       "      <td>7.744560</td>\n",
       "      <td>8.634120</td>\n",
       "    </tr>\n",
       "    <tr>\n",
       "      <th>1</th>\n",
       "      <td>1991</td>\n",
       "      <td>6.827747</td>\n",
       "      <td>5.539600</td>\n",
       "      <td>8.139160</td>\n",
       "    </tr>\n",
       "    <tr>\n",
       "      <th>2</th>\n",
       "      <td>1992</td>\n",
       "      <td>5.403679</td>\n",
       "      <td>3.514343</td>\n",
       "      <td>7.665976</td>\n",
       "    </tr>\n",
       "    <tr>\n",
       "      <th>3</th>\n",
       "      <td>1993</td>\n",
       "      <td>4.637944</td>\n",
       "      <td>3.066000</td>\n",
       "      <td>6.628360</td>\n",
       "    </tr>\n",
       "    <tr>\n",
       "      <th>4</th>\n",
       "      <td>1994</td>\n",
       "      <td>6.227382</td>\n",
       "      <td>4.372490</td>\n",
       "      <td>7.490080</td>\n",
       "    </tr>\n",
       "    <tr>\n",
       "      <th>5</th>\n",
       "      <td>1995</td>\n",
       "      <td>6.311468</td>\n",
       "      <td>5.642520</td>\n",
       "      <td>6.954680</td>\n",
       "    </tr>\n",
       "    <tr>\n",
       "      <th>6</th>\n",
       "      <td>1996</td>\n",
       "      <td>6.029373</td>\n",
       "      <td>5.134603</td>\n",
       "      <td>6.826111</td>\n",
       "    </tr>\n",
       "    <tr>\n",
       "      <th>7</th>\n",
       "      <td>1997</td>\n",
       "      <td>6.051612</td>\n",
       "      <td>5.201440</td>\n",
       "      <td>6.686840</td>\n",
       "    </tr>\n",
       "    <tr>\n",
       "      <th>8</th>\n",
       "      <td>1998</td>\n",
       "      <td>5.223468</td>\n",
       "      <td>4.877680</td>\n",
       "      <td>5.715960</td>\n",
       "    </tr>\n",
       "    <tr>\n",
       "      <th>9</th>\n",
       "      <td>1999</td>\n",
       "      <td>5.478586</td>\n",
       "      <td>4.776454</td>\n",
       "      <td>6.197809</td>\n",
       "    </tr>\n",
       "    <tr>\n",
       "      <th>10</th>\n",
       "      <td>2000</td>\n",
       "      <td>6.132849</td>\n",
       "      <td>5.726454</td>\n",
       "      <td>6.456733</td>\n",
       "    </tr>\n",
       "    <tr>\n",
       "      <th>11</th>\n",
       "      <td>2001</td>\n",
       "      <td>4.340369</td>\n",
       "      <td>3.362016</td>\n",
       "      <td>5.634194</td>\n",
       "    </tr>\n",
       "    <tr>\n",
       "      <th>12</th>\n",
       "      <td>2002</td>\n",
       "      <td>3.112561</td>\n",
       "      <td>1.615800</td>\n",
       "      <td>5.431600</td>\n",
       "    </tr>\n",
       "    <tr>\n",
       "      <th>13</th>\n",
       "      <td>2003</td>\n",
       "      <td>2.357968</td>\n",
       "      <td>1.006200</td>\n",
       "      <td>4.957480</td>\n",
       "    </tr>\n",
       "    <tr>\n",
       "      <th>14</th>\n",
       "      <td>2004</td>\n",
       "      <td>2.793860</td>\n",
       "      <td>1.269120</td>\n",
       "      <td>5.044360</td>\n",
       "    </tr>\n",
       "    <tr>\n",
       "      <th>15</th>\n",
       "      <td>2005</td>\n",
       "      <td>3.825236</td>\n",
       "      <td>2.999200</td>\n",
       "      <td>4.644160</td>\n",
       "    </tr>\n",
       "    <tr>\n",
       "      <th>16</th>\n",
       "      <td>2006</td>\n",
       "      <td>4.844414</td>\n",
       "      <td>4.607160</td>\n",
       "      <td>5.097440</td>\n",
       "    </tr>\n",
       "    <tr>\n",
       "      <th>17</th>\n",
       "      <td>2007</td>\n",
       "      <td>4.551999</td>\n",
       "      <td>4.173586</td>\n",
       "      <td>4.998685</td>\n",
       "    </tr>\n",
       "    <tr>\n",
       "      <th>18</th>\n",
       "      <td>2008</td>\n",
       "      <td>2.611309</td>\n",
       "      <td>1.218566</td>\n",
       "      <td>4.365857</td>\n",
       "    </tr>\n",
       "    <tr>\n",
       "      <th>19</th>\n",
       "      <td>2009</td>\n",
       "      <td>1.805404</td>\n",
       "      <td>0.095240</td>\n",
       "      <td>4.141960</td>\n",
       "    </tr>\n",
       "    <tr>\n",
       "      <th>20</th>\n",
       "      <td>2010</td>\n",
       "      <td>1.692941</td>\n",
       "      <td>0.112988</td>\n",
       "      <td>4.251076</td>\n",
       "    </tr>\n",
       "    <tr>\n",
       "      <th>21</th>\n",
       "      <td>2011</td>\n",
       "      <td>1.413658</td>\n",
       "      <td>0.038880</td>\n",
       "      <td>3.910800</td>\n",
       "    </tr>\n",
       "    <tr>\n",
       "      <th>22</th>\n",
       "      <td>2012</td>\n",
       "      <td>0.943142</td>\n",
       "      <td>0.066760</td>\n",
       "      <td>2.921680</td>\n",
       "    </tr>\n",
       "    <tr>\n",
       "      <th>23</th>\n",
       "      <td>2013</td>\n",
       "      <td>1.181542</td>\n",
       "      <td>0.039640</td>\n",
       "      <td>3.446160</td>\n",
       "    </tr>\n",
       "    <tr>\n",
       "      <th>24</th>\n",
       "      <td>2014</td>\n",
       "      <td>1.303880</td>\n",
       "      <td>0.024360</td>\n",
       "      <td>3.338160</td>\n",
       "    </tr>\n",
       "    <tr>\n",
       "      <th>25</th>\n",
       "      <td>2015</td>\n",
       "      <td>1.203372</td>\n",
       "      <td>0.034422</td>\n",
       "      <td>2.840996</td>\n",
       "    </tr>\n",
       "    <tr>\n",
       "      <th>26</th>\n",
       "      <td>2016</td>\n",
       "      <td>1.191720</td>\n",
       "      <td>0.254400</td>\n",
       "      <td>2.594400</td>\n",
       "    </tr>\n",
       "    <tr>\n",
       "      <th>27</th>\n",
       "      <td>2017</td>\n",
       "      <td>1.726702</td>\n",
       "      <td>0.849880</td>\n",
       "      <td>2.894040</td>\n",
       "    </tr>\n",
       "    <tr>\n",
       "      <th>28</th>\n",
       "      <td>2018</td>\n",
       "      <td>2.538220</td>\n",
       "      <td>1.808803</td>\n",
       "      <td>3.113974</td>\n",
       "    </tr>\n",
       "  </tbody>\n",
       "</table>\n",
       "</div>"
      ],
      "text/plain": [
       "    year   average       min       max\n",
       "0   1990  8.217831  7.744560  8.634120\n",
       "1   1991  6.827747  5.539600  8.139160\n",
       "2   1992  5.403679  3.514343  7.665976\n",
       "3   1993  4.637944  3.066000  6.628360\n",
       "4   1994  6.227382  4.372490  7.490080\n",
       "5   1995  6.311468  5.642520  6.954680\n",
       "6   1996  6.029373  5.134603  6.826111\n",
       "7   1997  6.051612  5.201440  6.686840\n",
       "8   1998  5.223468  4.877680  5.715960\n",
       "9   1999  5.478586  4.776454  6.197809\n",
       "10  2000  6.132849  5.726454  6.456733\n",
       "11  2001  4.340369  3.362016  5.634194\n",
       "12  2002  3.112561  1.615800  5.431600\n",
       "13  2003  2.357968  1.006200  4.957480\n",
       "14  2004  2.793860  1.269120  5.044360\n",
       "15  2005  3.825236  2.999200  4.644160\n",
       "16  2006  4.844414  4.607160  5.097440\n",
       "17  2007  4.551999  4.173586  4.998685\n",
       "18  2008  2.611309  1.218566  4.365857\n",
       "19  2009  1.805404  0.095240  4.141960\n",
       "20  2010  1.692941  0.112988  4.251076\n",
       "21  2011  1.413658  0.038880  3.910800\n",
       "22  2012  0.943142  0.066760  2.921680\n",
       "23  2013  1.181542  0.039640  3.446160\n",
       "24  2014  1.303880  0.024360  3.338160\n",
       "25  2015  1.203372  0.034422  2.840996\n",
       "26  2016  1.191720  0.254400  2.594400\n",
       "27  2017  1.726702  0.849880  2.894040\n",
       "28  2018  2.538220  1.808803  3.113974"
      ]
     },
     "execution_count": 3,
     "metadata": {},
     "output_type": "execute_result"
    }
   ],
   "source": [
    "df = pd.read_csv(\"data.csv\", parse_dates=['Date'])\n",
    "\n",
    "df['average'] = df.mean(numeric_only=True, axis=1)\n",
    "df['min'] = df.min(numeric_only=True, axis=1)\n",
    "df['max'] = df.max(numeric_only=True, axis=1)\n",
    "df['year'] = df['Date'].dt.year\n",
    "df = df.drop('Date', axis=1)\n",
    "df = df.groupby('year', as_index=False).mean()\n",
    "#df['is_inverted'] = np.where(df['1 Mo']>df['30 Yr'], 'green', 'red')\n",
    "\n",
    "df = df[['year', 'average', 'min', 'max']]\n",
    "df"
   ]
  },
  {
   "cell_type": "code",
   "execution_count": 6,
   "metadata": {},
   "outputs": [
    {
     "data": {
      "application/vnd.vegalite.v2+json": {
       "$schema": "https://vega.github.io/schema/vega-lite/v2.6.0.json",
       "config": {
        "view": {
         "height": 300,
         "width": 400
        }
       },
       "datasets": {
        "data-49fd3ec14ca6360925a368d767214ae9": [
         {
          "average": 8.217831111111105,
          "max": 8.634120000000001,
          "min": 7.744559999999995,
          "year": 1990
         },
         {
          "average": 6.8277466666666635,
          "max": 8.139160000000004,
          "min": 5.539600000000001,
          "year": 1991
         },
         {
          "average": 5.403678618857903,
          "max": 7.665976095617529,
          "min": 3.514342629482074,
          "year": 1992
         },
         {
          "average": 4.637944,
          "max": 6.628359999999996,
          "min": 3.065999999999998,
          "year": 1993
         },
         {
          "average": 6.227381526104417,
          "max": 7.490080321285144,
          "min": 4.372489959839361,
          "year": 1994
         },
         {
          "average": 6.311467999999999,
          "max": 6.954679999999994,
          "min": 5.642520000000007,
          "year": 1995
         },
         {
          "average": 6.029373015873015,
          "max": 6.826111111111117,
          "min": 5.13460317460318,
          "year": 1996
         },
         {
          "average": 6.051612000000001,
          "max": 6.686840000000006,
          "min": 5.201439999999997,
          "year": 1997
         },
         {
          "average": 5.223467999999999,
          "max": 5.715959999999999,
          "min": 4.877680000000001,
          "year": 1998
         },
         {
          "average": 5.478585657370519,
          "max": 6.197808764940235,
          "min": 4.776454183266933,
          "year": 1999
         },
         {
          "average": 6.132848605577684,
          "max": 6.456733067729076,
          "min": 5.726454183266931,
          "year": 2000
         },
         {
          "average": 4.34036913489736,
          "max": 5.634193548387098,
          "min": 3.3620161290322597,
          "year": 2001
         },
         {
          "average": 3.1125607272727263,
          "max": 5.431599999999994,
          "min": 1.6158000000000003,
          "year": 2002
         },
         {
          "average": 2.3579680000000014,
          "max": 4.957479999999995,
          "min": 1.0061999999999989,
          "year": 2003
         },
         {
          "average": 2.793860000000001,
          "max": 5.044359999999997,
          "min": 1.2691199999999998,
          "year": 2004
         },
         {
          "average": 3.8252360000000003,
          "max": 4.644159999999997,
          "min": 2.9991999999999996,
          "year": 2005
         },
         {
          "average": 4.844413818181818,
          "max": 5.09744,
          "min": 4.607159999999998,
          "year": 2006
         },
         {
          "average": 4.551999275624773,
          "max": 4.998685258964149,
          "min": 4.173585657370517,
          "year": 2007
         },
         {
          "average": 2.61130930822166,
          "max": 4.365856573705183,
          "min": 1.2185657370517926,
          "year": 2008
         },
         {
          "average": 1.8054036363636359,
          "max": 4.14196,
          "min": 0.09523999999999998,
          "year": 2009
         },
         {
          "average": 1.6929409634190495,
          "max": 4.251075697211157,
          "min": 0.11298804780876495,
          "year": 2010
         },
         {
          "average": 1.4136581818181813,
          "max": 3.910799999999999,
          "min": 0.03887999999999987,
          "year": 2011
         },
         {
          "average": 0.9431418181818183,
          "max": 2.9216800000000007,
          "min": 0.06675999999999996,
          "year": 2012
         },
         {
          "average": 1.181541818181818,
          "max": 3.446160000000001,
          "min": 0.03963999999999987,
          "year": 2013
         },
         {
          "average": 1.3038800000000001,
          "max": 3.3381600000000016,
          "min": 0.0243599999999999,
          "year": 2014
         },
         {
          "average": 1.2033719666787397,
          "max": 2.8409960159362564,
          "min": 0.03442231075697211,
          "year": 2015
         },
         {
          "average": 1.19172,
          "max": 2.5944000000000007,
          "min": 0.2544000000000002,
          "year": 2016
         },
         {
          "average": 1.7267018181818186,
          "max": 2.894039999999999,
          "min": 0.8498800000000002,
          "year": 2017
         },
         {
          "average": 2.5382200207200216,
          "max": 3.113974358974361,
          "min": 1.8088034188034183,
          "year": 2018
         }
        ]
       },
       "layer": [
        {
         "data": {
          "name": "data-49fd3ec14ca6360925a368d767214ae9"
         },
         "encoding": {
          "x": {
           "axis": {
            "title": "Year"
           },
           "field": "year",
           "type": "ordinal"
          },
          "y": {
           "field": "average",
           "type": "quantitative"
          }
         },
         "mark": "line",
         "title": "Annual Average US Treasury Yield"
        },
        {
         "data": {
          "name": "data-49fd3ec14ca6360925a368d767214ae9"
         },
         "encoding": {
          "x": {
           "axis": {
            "title": "Year"
           },
           "field": "year",
           "type": "ordinal"
          },
          "y": {
           "axis": {
            "title": "Rate"
           },
           "field": "min",
           "type": "quantitative"
          },
          "y2": {
           "field": "max",
           "type": "quantitative"
          }
         },
         "mark": {
          "opacity": 0.3,
          "type": "area"
         },
         "title": "Annual Average US Treasury Yield"
        }
       ]
      },
      "image/png": "[encoded data removed]",
      "text/plain": [
       "<VegaLite 2 object>\n",
       "\n",
       "If you see this message, it means the renderer has not been properly enabled\n",
       "for the frontend that you are using. For more information, see\n",
       "https://altair-viz.github.io/user_guide/troubleshooting.html\n"
      ]
     },
     "execution_count": 6,
     "metadata": {},
     "output_type": "execute_result"
    }
   ],
   "source": [
    "base = alt.Chart(df).encode(\n",
    "    x=alt.X('year:O', axis=alt.Axis(title='Year'))\n",
    ").properties(\n",
    "    title='Annual Average US Treasury Yield'\n",
    ")\n",
    "\n",
    "line = base.mark_line().encode(\n",
    "    y='average'\n",
    ")\n",
    "\n",
    "band = base.mark_area(opacity=0.3).encode(\n",
    "    y=alt.Y('min', axis=alt.Axis(title='Rate')),\n",
    "    y2='max'\n",
    ")\n",
    "\n",
    "chart = line + band\n",
    "chart"
   ]
  },
  {
   "cell_type": "code",
   "execution_count": 7,
   "metadata": {},
   "outputs": [],
   "source": [
    "chart.save('rates.html')"
   ]
  }
 ],
 "metadata": {
  "kernelspec": {
   "display_name": "Python 3",
   "language": "python",
   "name": "python3"
  },
  "language_info": {
   "codemirror_mode": {
    "name": "ipython",
    "version": 3
   },
   "file_extension": ".py",
   "mimetype": "text/x-python",
   "name": "python",
   "nbconvert_exporter": "python",
   "pygments_lexer": "ipython3",
   "version": "3.6.7"
  }
 },
 "nbformat": 4,
 "nbformat_minor": 2
}
