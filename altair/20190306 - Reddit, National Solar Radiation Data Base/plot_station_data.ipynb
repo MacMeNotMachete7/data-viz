{
 "cells": [
  {
   "cell_type": "code",
   "execution_count": 4,
   "metadata": {},
   "outputs": [],
   "source": [
    "import altair as alt\n",
    "import pandas as pd"
   ]
  },
  {
   "cell_type": "code",
   "execution_count": 5,
   "metadata": {},
   "outputs": [
    {
     "data": {
      "text/html": [
       "<div>\n",
       "<style scoped>\n",
       "    .dataframe tbody tr th:only-of-type {\n",
       "        vertical-align: middle;\n",
       "    }\n",
       "\n",
       "    .dataframe tbody tr th {\n",
       "        vertical-align: top;\n",
       "    }\n",
       "\n",
       "    .dataframe thead th {\n",
       "        text-align: right;\n",
       "    }\n",
       "</style>\n",
       "<table border=\"1\" class=\"dataframe\">\n",
       "  <thead>\n",
       "    <tr style=\"text-align: right;\">\n",
       "      <th></th>\n",
       "      <th>usaf</th>\n",
       "      <th>name</th>\n",
       "      <th>state</th>\n",
       "      <th>lat</th>\n",
       "      <th>long</th>\n",
       "      <th>elev</th>\n",
       "      <th>GHI (W/m^2)</th>\n",
       "    </tr>\n",
       "  </thead>\n",
       "  <tbody>\n",
       "    <tr>\n",
       "      <th>0</th>\n",
       "      <td>690150</td>\n",
       "      <td>\"TWENTYNINE PALMS\"</td>\n",
       "      <td>CA</td>\n",
       "      <td>34.300</td>\n",
       "      <td>-116.167</td>\n",
       "      <td>626.0</td>\n",
       "      <td>242.733447</td>\n",
       "    </tr>\n",
       "    <tr>\n",
       "      <th>1</th>\n",
       "      <td>690190</td>\n",
       "      <td>\"ABILENE DYESS AFB\"</td>\n",
       "      <td>TX</td>\n",
       "      <td>32.433</td>\n",
       "      <td>-99.850</td>\n",
       "      <td>545.0</td>\n",
       "      <td>223.549543</td>\n",
       "    </tr>\n",
       "    <tr>\n",
       "      <th>2</th>\n",
       "      <td>690230</td>\n",
       "      <td>\"WHIDBEY ISLAND NAS\"</td>\n",
       "      <td>WA</td>\n",
       "      <td>48.350</td>\n",
       "      <td>-122.667</td>\n",
       "      <td>10.0</td>\n",
       "      <td>146.643151</td>\n",
       "    </tr>\n",
       "    <tr>\n",
       "      <th>3</th>\n",
       "      <td>699604</td>\n",
       "      <td>\"YUMA MCAS\"</td>\n",
       "      <td>AZ</td>\n",
       "      <td>32.650</td>\n",
       "      <td>-114.617</td>\n",
       "      <td>65.0</td>\n",
       "      <td>224.778425</td>\n",
       "    </tr>\n",
       "    <tr>\n",
       "      <th>4</th>\n",
       "      <td>700197</td>\n",
       "      <td>\"SELAWIK\"</td>\n",
       "      <td>AK</td>\n",
       "      <td>66.600</td>\n",
       "      <td>-160.000</td>\n",
       "      <td>8.0</td>\n",
       "      <td>100.654110</td>\n",
       "    </tr>\n",
       "  </tbody>\n",
       "</table>\n",
       "</div>"
      ],
      "text/plain": [
       "     usaf                  name state     lat     long   elev  GHI (W/m^2)\n",
       "0  690150    \"TWENTYNINE PALMS\"    CA  34.300 -116.167  626.0   242.733447\n",
       "1  690190   \"ABILENE DYESS AFB\"    TX  32.433  -99.850  545.0   223.549543\n",
       "2  690230  \"WHIDBEY ISLAND NAS\"    WA  48.350 -122.667   10.0   146.643151\n",
       "3  699604           \"YUMA MCAS\"    AZ  32.650 -114.617   65.0   224.778425\n",
       "4  700197             \"SELAWIK\"    AK  66.600 -160.000    8.0   100.654110"
      ]
     },
     "execution_count": 5,
     "metadata": {},
     "output_type": "execute_result"
    }
   ],
   "source": [
    "# plot station data \n",
    "df = pd.read_pickle('tmy3_agg_by_station.pkl')\n",
    "df.head()"
   ]
  },
  {
   "cell_type": "code",
   "execution_count": 7,
   "metadata": {},
   "outputs": [
    {
     "data": {
      "application/vnd.vegalite.v2+json": {
       "$schema": "https://vega.github.io/schema/vega-lite/v2.6.0.json",
       "config": {
        "view": {
         "height": 300,
         "width": 400
        }
       },
       "data": {
        "name": "data-725f9d62fe476ca647cfd42ea341d878"
       },
       "datasets": {
        "data-725f9d62fe476ca647cfd42ea341d878": [
         {
          "GHI (W/m^2)": 242.7334474885845,
          "elev": 626,
          "lat": 34.3,
          "long": -116.167,
          "name": "\"TWENTYNINE PALMS\"",
          "state": "CA",
          "usaf": "690150"
         },
         {
          "GHI (W/m^2)": 223.54954337899542,
          "elev": 545,
          "lat": 32.433,
          "long": -99.85,
          "name": "\"ABILENE DYESS AFB\"",
          "state": "TX",
          "usaf": "690190"
         },
         {
          "GHI (W/m^2)": 146.6431506849315,
          "elev": 10,
          "lat": 48.35,
          "long": -122.667,
          "name": "\"WHIDBEY ISLAND NAS\"",
          "state": "WA",
          "usaf": "690230"
         },
         {
          "GHI (W/m^2)": 224.77842465753426,
          "elev": 65,
          "lat": 32.65,
          "long": -114.617,
          "name": "\"YUMA MCAS\"",
          "state": "AZ",
          "usaf": "699604"
         },
         {
          "GHI (W/m^2)": 100.6541095890411,
          "elev": 8,
          "lat": 66.6,
          "long": -160,
          "name": "\"SELAWIK\"",
          "state": "AK",
          "usaf": "700197"
         },
         {
          "GHI (W/m^2)": 81.44326484018265,
          "elev": 10,
          "lat": 71.32,
          "long": -156.62,
          "name": "\"BARROW W POST-W ROGERS ARPT [NSA - ARM]\"",
          "state": "AK",
          "usaf": "700260"
         },
         {
          "GHI (W/m^2)": 71.55684931506849,
          "elev": 23,
          "lat": 70.2,
          "long": -148.483,
          "name": "\"DEADHORSE\"",
          "state": "AK",
          "usaf": "700637"
         },
         {
          "GHI (W/m^2)": 86.23949771689497,
          "elev": 4,
          "lat": 68.35,
          "long": -166.8,
          "name": "\"POINT HOPE (AWOS)\"",
          "state": "AK",
          "usaf": "701043"
         },
         {
          "GHI (W/m^2)": 93.21643835616439,
          "elev": 2,
          "lat": 66.267,
          "long": -166.05,
          "name": "\"SHISHMAREF (AWOS)\"",
          "state": "AK",
          "usaf": "701195"
         },
         {
          "GHI (W/m^2)": 96.50719178082191,
          "elev": 3,
          "lat": 66.883,
          "long": -162.6,
          "name": "\"KOTZEBUE RALPH WEIN MEMORIAL\"",
          "state": "AK",
          "usaf": "701330"
         },
         {
          "GHI (W/m^2)": 86.5035388127854,
          "elev": 657,
          "lat": 68.133,
          "long": -151.733,
          "name": "\"ANAKTUVUK PASS\"",
          "state": "AK",
          "usaf": "701625"
         },
         {
          "GHI (W/m^2)": 90.72317351598174,
          "elev": 88,
          "lat": 67.1,
          "long": -157.85,
          "name": "\"AMBLER\"",
          "state": "AK",
          "usaf": "701718"
         },
         {
          "GHI (W/m^2)": 102.51369863013699,
          "elev": 196,
          "lat": 66.917,
          "long": -151.517,
          "name": "\"BETTLES FIELD\"",
          "state": "AK",
          "usaf": "701740"
         },
         {
          "GHI (W/m^2)": 87.86472602739725,
          "elev": 71,
          "lat": 65.167,
          "long": -152.1,
          "name": "\"TANANA RALPH M CALHOUN MEM AP\"",
          "state": "AK",
          "usaf": "701780"
         },
         {
          "GHI (W/m^2)": 106.86118721461187,
          "elev": 136,
          "lat": 66.567,
          "long": -145.267,
          "name": "\"FORT YUKON\"",
          "state": "AK",
          "usaf": "701940"
         },
         {
          "GHI (W/m^2)": 96.13915525114155,
          "elev": 4,
          "lat": 64.517,
          "long": -165.45,
          "name": "\"NOME MUNICIPAL ARPT\"",
          "state": "AK",
          "usaf": "702000"
         },
         {
          "GHI (W/m^2)": 86.94086757990867,
          "elev": 95,
          "lat": 62.067,
          "long": -163.3,
          "name": "\"SAINT MARY`S (AWOS)\"",
          "state": "AK",
          "usaf": "702005"
         },
         {
          "GHI (W/m^2)": 81.16187214611872,
          "elev": 17,
          "lat": 63.683,
          "long": -170.5,
          "name": "\"SAVOONGA\"",
          "state": "AK",
          "usaf": "702035"
         },
         {
          "GHI (W/m^2)": 77.50228310502283,
          "elev": 8,
          "lat": 63.783,
          "long": -171.75,
          "name": "\"GAMBELL\"",
          "state": "AK",
          "usaf": "702040"
         },
         {
          "GHI (W/m^2)": 93.54212328767123,
          "elev": 5,
          "lat": 63.883,
          "long": -160.8,
          "name": "\"UNALAKLEET FIELD\"",
          "state": "AK",
          "usaf": "702070"
         },
         {
          "GHI (W/m^2)": 107.17808219178082,
          "elev": 99,
          "lat": 62.65,
          "long": -160.183,
          "name": "\"ANVIK\"",
          "state": "AK",
          "usaf": "702075"
         },
         {
          "GHI (W/m^2)": 90.53595890410959,
          "elev": 4,
          "lat": 62.783,
          "long": -164.5,
          "name": "\"EMMONAK\"",
          "state": "AK",
          "usaf": "702084"
         },
         {
          "GHI (W/m^2)": 82.14817351598174,
          "elev": 15,
          "lat": 60.367,
          "long": -166.267,
          "name": "\"MEKORYUK\"",
          "state": "AK",
          "usaf": "702185"
         },
         {
          "GHI (W/m^2)": 97.11198630136987,
          "elev": 6,
          "lat": 61.517,
          "long": -166.15,
          "name": "\"HOOPER BAY\"",
          "state": "AK",
          "usaf": "702186"
         },
         {
          "GHI (W/m^2)": 99.35479452054794,
          "elev": 38,
          "lat": 60.783,
          "long": -161.833,
          "name": "\"BETHEL AIRPORT\"",
          "state": "AK",
          "usaf": "702190"
         },
         {
          "GHI (W/m^2)": 95.000799086758,
          "elev": 55,
          "lat": 65.7,
          "long": -156.383,
          "name": "\"HUSLIA\"",
          "state": "AK",
          "usaf": "702225"
         },
         {
          "GHI (W/m^2)": 104.41449771689497,
          "elev": 105,
          "lat": 62.95,
          "long": -155.6,
          "name": "\"MCGRATH ARPT\"",
          "state": "AK",
          "usaf": "702310"
         },
         {
          "GHI (W/m^2)": 106.37568493150685,
          "elev": 26,
          "lat": 61.583,
          "long": -159.533,
          "name": "\"ANIAK AIRPORT\"",
          "state": "AK",
          "usaf": "702320"
         },
         {
          "GHI (W/m^2)": 114.51997716894977,
          "elev": 213,
          "lat": 63.883,
          "long": -152.283,
          "name": "\"MINCHUMINA\"",
          "state": "AK",
          "usaf": "702460"
         },
         {
          "GHI (W/m^2)": 91.74577625570777,
          "elev": 305,
          "lat": 61.983,
          "long": -152.083,
          "name": "\"HAYES RIVER\"",
          "state": "AK",
          "usaf": "702495"
         },
         {
          "GHI (W/m^2)": 104.39417808219179,
          "elev": 105,
          "lat": 62.317,
          "long": -150.1,
          "name": "\"TALKEETNA STATE ARPT\"",
          "state": "AK",
          "usaf": "702510"
         },
         {
          "GHI (W/m^2)": 109.17408675799086,
          "elev": 26,
          "lat": 60.583,
          "long": -151.233,
          "name": "\"KENAI MUNICIPAL AP\"",
          "state": "AK",
          "usaf": "702590"
         },
         {
          "GHI (W/m^2)": 121.52043378995434,
          "elev": 34,
          "lat": 60.467,
          "long": -151.033,
          "name": "\"SOLDOTNA\"",
          "state": "AK",
          "usaf": "702595"
         },
         {
          "GHI (W/m^2)": 103.57522831050228,
          "elev": 109,
          "lat": 64.55,
          "long": -149.1,
          "name": "\"NENANA MUNICIPAL AP\"",
          "state": "AK",
          "usaf": "702600"
         },
         {
          "GHI (W/m^2)": 71.7535388127854,
          "elev": 381,
          "lat": 62.883,
          "long": -149.833,
          "name": "\"CHULITNA\"",
          "state": "AK",
          "usaf": "702606"
         },
         {
          "GHI (W/m^2)": 108.42066210045662,
          "elev": 6,
          "lat": 58.083,
          "long": -135.45,
          "name": "\"HOONAH\"",
          "state": "AK",
          "usaf": "702607"
         },
         {
          "GHI (W/m^2)": 107.93710045662101,
          "elev": 133,
          "lat": 64.817,
          "long": -147.85,
          "name": "\"FAIRBANKS INTL ARPT\"",
          "state": "AK",
          "usaf": "702610"
         },
         {
          "GHI (W/m^2)": 81.1054794520548,
          "elev": 396,
          "lat": 63.883,
          "long": -149.017,
          "name": "\"HEALY RIVER AIRPORT\"",
          "state": "AK",
          "usaf": "702647"
         },
         {
          "GHI (W/m^2)": 97.05502283105022,
          "elev": 167,
          "lat": 64.65,
          "long": -147.1,
          "name": "\"FAIRBANKS/EIELSON A\"",
          "state": "AK",
          "usaf": "702650"
         },
         {
          "GHI (W/m^2)": 103.29212328767123,
          "elev": 386,
          "lat": 64,
          "long": -145.717,
          "name": "\"BIG DELTA ALLEN AAF\"",
          "state": "AK",
          "usaf": "702670"
         },
         {
          "GHI (W/m^2)": 106.39611872146119,
          "elev": 478,
          "lat": 62.15,
          "long": -145.45,
          "name": "\"GULKANA INTERMEDIATE FIELD\"",
          "state": "AK",
          "usaf": "702710"
         },
         {
          "GHI (W/m^2)": 107.13949771689498,
          "elev": 59,
          "lat": 61.25,
          "long": -149.8,
          "name": "\"ANCHORAGE/ELMENDORF\"",
          "state": "AK",
          "usaf": "702720"
         },
         {
          "GHI (W/m^2)": 120.36940639269406,
          "elev": 22,
          "lat": 61.183,
          "long": -149.967,
          "name": "\"LAKE HOOD SEAPLANE\"",
          "state": "AK",
          "usaf": "702725"
         },
         {
          "GHI (W/m^2)": 101.8351598173516,
          "elev": 35,
          "lat": 61.183,
          "long": -150,
          "name": "\"ANCHORAGE INTL AP\"",
          "state": "AK",
          "usaf": "702730"
         },
         {
          "GHI (W/m^2)": 95.67260273972603,
          "elev": 42,
          "lat": 61.217,
          "long": -149.85,
          "name": "\"ANCHORAGE MERRILL FIELD\"",
          "state": "AK",
          "usaf": "702735"
         },
         {
          "GHI (W/m^2)": 97.39851598173516,
          "elev": 71,
          "lat": 61.6,
          "long": -149.083,
          "name": "\"PALMER MUNICIPAL\"",
          "state": "AK",
          "usaf": "702740"
         },
         {
          "GHI (W/m^2)": 115.1648401826484,
          "elev": 30,
          "lat": 61.417,
          "long": -149.517,
          "name": "\"BIRCHWOOD\"",
          "state": "AK",
          "usaf": "702746"
         },
         {
          "GHI (W/m^2)": 85.18584474885844,
          "elev": 7,
          "lat": 61.133,
          "long": -146.35,
          "name": "\"VALDEZ WSO\"",
          "state": "AK",
          "usaf": "702750"
         },
         {
          "GHI (W/m^2)": 89.36004566210046,
          "elev": 38,
          "lat": 61.133,
          "long": -146.267,
          "name": "\"VALDEZ PIONEER FIEL\"",
          "state": "AK",
          "usaf": "702756"
         },
         {
          "GHI (W/m^2)": 91.57054794520548,
          "elev": 9,
          "lat": 60.767,
          "long": -148.683,
          "name": "\"WHITTIER\"",
          "state": "AK",
          "usaf": "702757"
         },
         {
          "GHI (W/m^2)": 97.94006849315069,
          "elev": 18,
          "lat": 60.117,
          "long": -149.45,
          "name": "\"SEWARD\"",
          "state": "AK",
          "usaf": "702770"
         },
         {
          "GHI (W/m^2)": 95.58127853881278,
          "elev": 522,
          "lat": 62.967,
          "long": -141.933,
          "name": "\"NORTHWAY AIRPORT\"",
          "state": "AK",
          "usaf": "702910"
         },
         {
          "GHI (W/m^2)": 87.17796803652968,
          "elev": 12,
          "lat": 60.5,
          "long": -145.5,
          "name": "\"CORDOVA\"",
          "state": "AK",
          "usaf": "702960"
         },
         {
          "GHI (W/m^2)": 100.63561643835617,
          "elev": 12,
          "lat": 60.817,
          "long": -152.3,
          "name": "\"BIG RIVER LAKE\"",
          "state": "AK",
          "usaf": "702986"
         },
         {
          "GHI (W/m^2)": 83.54109589041096,
          "elev": 7,
          "lat": 57.167,
          "long": -170.217,
          "name": "\"ST PAUL ISLAND ARPT\"",
          "state": "AK",
          "usaf": "703080"
         },
         {
          "GHI (W/m^2)": 87.95844748858447,
          "elev": 29,
          "lat": 55.2,
          "long": -162.717,
          "name": "\"COLD BAY ARPT\"",
          "state": "AK",
          "usaf": "703160"
         },
         {
          "GHI (W/m^2)": 94.66244292237442,
          "elev": 7,
          "lat": 55.317,
          "long": -160.517,
          "name": "\"SAND POINT\"",
          "state": "AK",
          "usaf": "703165"
         },
         {
          "GHI (W/m^2)": 91.12431506849315,
          "elev": 29,
          "lat": 59.05,
          "long": -158.517,
          "name": "\"DILLINGHAM (AMOS)\"",
          "state": "AK",
          "usaf": "703210"
         },
         {
          "GHI (W/m^2)": 96.60787671232876,
          "elev": 15,
          "lat": 58.683,
          "long": -156.65,
          "name": "\"KING SALMON ARPT\"",
          "state": "AK",
          "usaf": "703260"
         },
         {
          "GHI (W/m^2)": 91.14908675799087,
          "elev": 29,
          "lat": 56.95,
          "long": -158.617,
          "name": "\"PORT HEIDEN\"",
          "state": "AK",
          "usaf": "703330"
         },
         {
          "GHI (W/m^2)": 108.05490867579908,
          "elev": 57,
          "lat": 59.75,
          "long": -154.917,
          "name": "\"ILIAMNA ARPT\"",
          "state": "AK",
          "usaf": "703400"
         },
         {
          "GHI (W/m^2)": 106.47009132420091,
          "elev": 54,
          "lat": 61.717,
          "long": -157.15,
          "name": "\"SLEETMUTE\"",
          "state": "AK",
          "usaf": "703407"
         },
         {
          "GHI (W/m^2)": 99.13869863013699,
          "elev": 27,
          "lat": 59.65,
          "long": -151.483,
          "name": "\"HOMER ARPT\"",
          "state": "AK",
          "usaf": "703410"
         },
         {
          "GHI (W/m^2)": 108.51552511415525,
          "elev": 14,
          "lat": 59.467,
          "long": -146.317,
          "name": "\"MIDDLETON ISLAND AUT\"",
          "state": "AK",
          "usaf": "703430"
         },
         {
          "GHI (W/m^2)": 103.68150684931507,
          "elev": 5,
          "lat": 57.75,
          "long": -152.5,
          "name": "\"KODIAK AIRPORT\"",
          "state": "AK",
          "usaf": "703500"
         },
         {
          "GHI (W/m^2)": 100.5587899543379,
          "elev": 6,
          "lat": 59.05,
          "long": -160.4,
          "name": "\"TOGIAC VILLAGE AWOS\"",
          "state": "AK",
          "usaf": "703606"
         },
         {
          "GHI (W/m^2)": 91.18675799086758,
          "elev": 8,
          "lat": 59.517,
          "long": -139.633,
          "name": "\"YAKUTAT STATE ARPT\"",
          "state": "AK",
          "usaf": "703610"
         },
         {
          "GHI (W/m^2)": 102.2420091324201,
          "elev": 9,
          "lat": 59.467,
          "long": -135.3,
          "name": "\"SKAGWAY AIRPORT\"",
          "state": "AK",
          "usaf": "703620"
         },
         {
          "GHI (W/m^2)": 108.62180365296804,
          "elev": 12,
          "lat": 58.417,
          "long": -135.7,
          "name": "\"GUSTAVUS\"",
          "state": "AK",
          "usaf": "703670"
         },
         {
          "GHI (W/m^2)": 105.54897260273972,
          "elev": 4,
          "lat": 57.05,
          "long": -135.367,
          "name": "\"SITKA JAPONSKI AP\"",
          "state": "AK",
          "usaf": "703710"
         },
         {
          "GHI (W/m^2)": 96.9175799086758,
          "elev": 4,
          "lat": 58.35,
          "long": -134.583,
          "name": "\"JUNEAU INT'L ARPT\"",
          "state": "AK",
          "usaf": "703810"
         },
         {
          "GHI (W/m^2)": 103.87602739726027,
          "elev": 0,
          "lat": 56.967,
          "long": -133.95,
          "name": "\"KAKE SEAPLANE BASE\"",
          "state": "AK",
          "usaf": "703855"
         },
         {
          "GHI (W/m^2)": 95.64748858447489,
          "elev": 33,
          "lat": 56.8,
          "long": -132.95,
          "name": "\"PETERSBURG\"",
          "state": "AK",
          "usaf": "703860"
         },
         {
          "GHI (W/m^2)": 106.4033105022831,
          "elev": 13,
          "lat": 56.483,
          "long": -132.367,
          "name": "\"WRANGELL\"",
          "state": "AK",
          "usaf": "703870"
         },
         {
          "GHI (W/m^2)": 107.32248858447488,
          "elev": 0,
          "lat": 55.2,
          "long": -132.833,
          "name": "\"HYDABURG SEAPLANE\"",
          "state": "AK",
          "usaf": "703884"
         },
         {
          "GHI (W/m^2)": 103.05399543378995,
          "elev": 23,
          "lat": 55.367,
          "long": -131.717,
          "name": "\"KETCHIKAN INTL AP\"",
          "state": "AK",
          "usaf": "703950"
         },
         {
          "GHI (W/m^2)": 105.79897260273972,
          "elev": 33,
          "lat": 55.05,
          "long": -131.567,
          "name": "\"ANNETTE ISLAND AP\"",
          "state": "AK",
          "usaf": "703980"
         },
         {
          "GHI (W/m^2)": 66.28630136986301,
          "elev": 31,
          "lat": 52.717,
          "long": 174.117,
          "name": "\"SHEMYA AFB\"",
          "state": "AK",
          "usaf": "704140"
         },
         {
          "GHI (W/m^2)": 85.76301369863013,
          "elev": 5,
          "lat": 51.883,
          "long": -176.65,
          "name": "\"ADAK NAS\"",
          "state": "AK",
          "usaf": "704540"
         },
         {
          "GHI (W/m^2)": 76.39349315068493,
          "elev": 4,
          "lat": 53.9,
          "long": -166.55,
          "name": "\"DUTCH HARBOR\"",
          "state": "AK",
          "usaf": "704890"
         },
         {
          "GHI (W/m^2)": 215.611301369863,
          "elev": 1,
          "lat": 24.55,
          "long": -81.75,
          "name": "\"KEY WEST INTL ARPT\"",
          "state": "FL",
          "usaf": "722010"
         },
         {
          "GHI (W/m^2)": 214.29189497716894,
          "elev": 7,
          "lat": 24.583,
          "long": -81.683,
          "name": "\"KEY WEST NAS\"",
          "state": "FL",
          "usaf": "722015"
         },
         {
          "GHI (W/m^2)": 204.43618721461186,
          "elev": 2,
          "lat": 24.733,
          "long": -81.05,
          "name": "\"MARATHON AIRPORT\"",
          "state": "FL",
          "usaf": "722016"
         },
         {
          "GHI (W/m^2)": 200.1288812785388,
          "elev": 11,
          "lat": 25.817,
          "long": -80.3,
          "name": "\"MIAMI INTL AP\"",
          "state": "FL",
          "usaf": "722020"
         },
         {
          "GHI (W/m^2)": 204.2074200913242,
          "elev": 3,
          "lat": 25.9,
          "long": -80.283,
          "name": "\"MIAMI/OPA LOCKA\"",
          "state": "FL",
          "usaf": "722024"
         },
         {
          "GHI (W/m^2)": 204.5093607305936,
          "elev": 3,
          "lat": 26.067,
          "long": -80.15,
          "name": "\"FORT LAUDERDALE HOLLYWOOD INT\"",
          "state": "FL",
          "usaf": "722025"
         },
         {
          "GHI (W/m^2)": 208.80856164383562,
          "elev": 5,
          "lat": 25.483,
          "long": -80.383,
          "name": "\"HOMESTEAD AFB\"",
          "state": "FL",
          "usaf": "722026"
         },
         {
          "GHI (W/m^2)": 197.17865296803652,
          "elev": 3,
          "lat": 25.65,
          "long": -80.433,
          "name": "\"MIAMI/KENDALL-TAMIA\"",
          "state": "FL",
          "usaf": "722029"
         },
         {
          "GHI (W/m^2)": 202.40319634703195,
          "elev": 6,
          "lat": 26.683,
          "long": -80.1,
          "name": "\"WEST PALM BEACH INTL ARPT\"",
          "state": "FL",
          "usaf": "722030"
         },
         {
          "GHI (W/m^2)": 213.86438356164385,
          "elev": 3,
          "lat": 26.15,
          "long": -81.767,
          "name": "\"NAPLES MUNICIPAL\"",
          "state": "FL",
          "usaf": "722038"
         },
         {
          "GHI (W/m^2)": 185.39018264840183,
          "elev": 4,
          "lat": 26.2,
          "long": -80.167,
          "name": "\"FORT LAUDERDALE\"",
          "state": "FL",
          "usaf": "722039"
         },
         {
          "GHI (W/m^2)": 196.18755707762557,
          "elev": 11,
          "lat": 28.117,
          "long": -80.65,
          "name": "\"MELBOURNE REGIONAL AP\"",
          "state": "FL",
          "usaf": "722040"
         },
         {
          "GHI (W/m^2)": 186.6607305936073,
          "elev": 7,
          "lat": 27.65,
          "long": -80.417,
          "name": "\"VERO BEACH MUNICIPAL ARPT\"",
          "state": "FL",
          "usaf": "722045"
         },
         {
          "GHI (W/m^2)": 187.7845890410959,
          "elev": 29,
          "lat": 28.433,
          "long": -81.333,
          "name": "\"ORLANDO INTL ARPT\"",
          "state": "FL",
          "usaf": "722050"
         },
         {
          "GHI (W/m^2)": 193.07899543378994,
          "elev": 33,
          "lat": 28.55,
          "long": -81.333,
          "name": "\"ORLANDO EXECUTIVE AP\"",
          "state": "FL",
          "usaf": "722053"
         },
         {
          "GHI (W/m^2)": 207.5562785388128,
          "elev": 27,
          "lat": 29.167,
          "long": -82.217,
          "name": "\"OCALA MUNI (AWOS)\"",
          "state": "FL",
          "usaf": "722055"
         },
         {
          "GHI (W/m^2)": 202.32146118721462,
          "elev": 9,
          "lat": 29.183,
          "long": -81.067,
          "name": "\"DAYTONA BEACH INTL AP\"",
          "state": "FL",
          "usaf": "722056"
         },
         {
          "GHI (W/m^2)": 208.44189497716894,
          "elev": 17,
          "lat": 28.783,
          "long": -81.25,
          "name": "\"ORLANDO SANFORD AIRPORT\"",
          "state": "FL",
          "usaf": "722057"
         },
         {
          "GHI (W/m^2)": 189.33447488584474,
          "elev": 8,
          "lat": 30.5,
          "long": -81.7,
          "name": "\"JACKSONVILLE INTL ARPT\"",
          "state": "FL",
          "usaf": "722060"
         },
         {
          "GHI (W/m^2)": 189.5140410958904,
          "elev": 9,
          "lat": 30.233,
          "long": -81.667,
          "name": "\"JACKSONVILLE NAS\"",
          "state": "FL",
          "usaf": "722065"
         },
         {
          "GHI (W/m^2)": 192.25342465753425,
          "elev": 5,
          "lat": 30.4,
          "long": -81.417,
          "name": "\"MAYPORT NS\"",
          "state": "FL",
          "usaf": "722066"
         },
         {
          "GHI (W/m^2)": 177.21769406392693,
          "elev": 12,
          "lat": 30.333,
          "long": -81.517,
          "name": "\"JACKSONVILLE/CRAIG\"",
          "state": "FL",
          "usaf": "722068"
         },
         {
          "GHI (W/m^2)": 191.17888127853882,
          "elev": 14,
          "lat": 32.117,
          "long": -81.2,
          "name": "\"SAVANNAH INTL AP\"",
          "state": "GA",
          "usaf": "722070"
         },
         {
          "GHI (W/m^2)": 191.15342465753426,
          "elev": 12,
          "lat": 32.9,
          "long": -80.033,
          "name": "\"CHARLESTON INTL ARPT\"",
          "state": "SC",
          "usaf": "722080"
         },
         {
          "GHI (W/m^2)": 189.9033105022831,
          "elev": 10,
          "lat": 32.483,
          "long": -80.717,
          "name": "\"BEAUFORT MCAS\"",
          "state": "SC",
          "usaf": "722085"
         },
         {
          "GHI (W/m^2)": 181.04520547945205,
          "elev": 7,
          "lat": 27.483,
          "long": -80.367,
          "name": "\"ST LUCIE CO INTL\"",
          "state": "FL",
          "usaf": "722103"
         },
         {
          "GHI (W/m^2)": 205.85262557077627,
          "elev": 2,
          "lat": 27.767,
          "long": -82.633,
          "name": "\"ST PETERSBURG ALBERT WHITTED\"",
          "state": "FL",
          "usaf": "722104"
         },
         {
          "GHI (W/m^2)": 200.20365296803652,
          "elev": 5,
          "lat": 26.583,
          "long": -81.867,
          "name": "\"FORT MYERS PAGE FIELD\"",
          "state": "FL",
          "usaf": "722106"
         },
         {
          "GHI (W/m^2)": 193.82180365296804,
          "elev": 9,
          "lat": 26.533,
          "long": -81.75,
          "name": "\"SOUTHWEST FLORIDA I\"",
          "state": "FL",
          "usaf": "722108"
         },
         {
          "GHI (W/m^2)": 206.75924657534247,
          "elev": 6,
          "lat": 27.967,
          "long": -82.533,
          "name": "\"TAMPA INTERNATIONAL AP\"",
          "state": "FL",
          "usaf": "722110"
         },
         {
          "GHI (W/m^2)": 202.26518264840183,
          "elev": 10,
          "lat": 27.383,
          "long": -82.55,
          "name": "\"SARASOTA BRADENTON\"",
          "state": "FL",
          "usaf": "722115"
         },
         {
          "GHI (W/m^2)": 203.76130136986302,
          "elev": 3,
          "lat": 27.9,
          "long": -82.683,
          "name": "\"ST PETERSBURG CLEAR\"",
          "state": "FL",
          "usaf": "722116"
         },
         {
          "GHI (W/m^2)": 191.41027397260274,
          "elev": 43,
          "lat": 27.983,
          "long": -82.017,
          "name": "\"LAKELAND LINDER RGN\"",
          "state": "FL",
          "usaf": "722119"
         },
         {
          "GHI (W/m^2)": 195.40970319634704,
          "elev": 63,
          "lat": 31.533,
          "long": -82.5,
          "name": "\"ALMA BACON COUNTY AP\"",
          "state": "GA",
          "usaf": "722135"
         },
         {
          "GHI (W/m^2)": 191.6326484018265,
          "elev": 8,
          "lat": 31.25,
          "long": -81.467,
          "name": "\"BRUNSWICK GOLDEN IS\"",
          "state": "GA",
          "usaf": "722136"
         },
         {
          "GHI (W/m^2)": 185.07111872146118,
          "elev": 4,
          "lat": 31.15,
          "long": -81.383,
          "name": "\"BRUNSWICK MALCOLM MCKINNON AP\"",
          "state": "GA",
          "usaf": "722137"
         },
         {
          "GHI (W/m^2)": 190.99440639269406,
          "elev": 21,
          "lat": 30.38,
          "long": -84.37,
          "name": "\"TALLAHASSEE REGIONAL AP [ISIS]\"",
          "state": "FL",
          "usaf": "722140"
         },
         {
          "GHI (W/m^2)": 188.5162100456621,
          "elev": 41,
          "lat": 29.7,
          "long": -82.283,
          "name": "\"GAINESVILLE REGIONAL AP\"",
          "state": "FL",
          "usaf": "722146"
         },
         {
          "GHI (W/m^2)": 181.79166666666666,
          "elev": 58,
          "lat": 31.533,
          "long": -84.183,
          "name": "\"ALBANY DOUGHERTY COUNTY AP\"",
          "state": "GA",
          "usaf": "722160"
         },
         {
          "GHI (W/m^2)": 183.9345890410959,
          "elev": 61,
          "lat": 30.783,
          "long": -83.283,
          "name": "\"VALDOSTA WB AIRPORT\"",
          "state": "GA",
          "usaf": "722166"
         },
         {
          "GHI (W/m^2)": 191.99166666666667,
          "elev": 108,
          "lat": 32.683,
          "long": -83.65,
          "name": "\"MACON MIDDLE GA REGIONAL AP\"",
          "state": "GA",
          "usaf": "722170"
         },
         {
          "GHI (W/m^2)": 185.44771689497716,
          "elev": 92,
          "lat": 32.633,
          "long": -83.6,
          "name": "\"WARNER ROBINS AFB\"",
          "state": "GA",
          "usaf": "722175"
         },
         {
          "GHI (W/m^2)": 193.16130136986303,
          "elev": 40,
          "lat": 33.367,
          "long": -81.967,
          "name": "\"AUGUSTA BUSH FIELD\"",
          "state": "GA",
          "usaf": "722180"
         },
         {
          "GHI (W/m^2)": 192.45045662100458,
          "elev": 308,
          "lat": 33.633,
          "long": -84.433,
          "name": "\"ATLANTA HARTSFIELD INTL AP\"",
          "state": "GA",
          "usaf": "722190"
         },
         {
          "GHI (W/m^2)": 162.69052511415526,
          "elev": 263,
          "lat": 33.767,
          "long": -84.517,
          "name": "\"FULTON CO ARPT BROW\"",
          "state": "GA",
          "usaf": "722195"
         },
         {
          "GHI (W/m^2)": 164.0777397260274,
          "elev": 313,
          "lat": 33.867,
          "long": -84.3,
          "name": "\"DEKALB PEACHTREE\"",
          "state": "GA",
          "usaf": "722196"
         },
         {
          "GHI (W/m^2)": 196.5458904109589,
          "elev": 20,
          "lat": 30.483,
          "long": -86.517,
          "name": "\"VALPARAISO ELGIN AFB\"",
          "state": "FL",
          "usaf": "722210"
         },
         {
          "GHI (W/m^2)": 175.99497716894976,
          "elev": 58,
          "lat": 30.783,
          "long": -86.517,
          "name": "\"CRESTVIEW BOB SIKES AP\"",
          "state": "FL",
          "usaf": "722215"
         },
         {
          "GHI (W/m^2)": 184.7033105022831,
          "elev": 34,
          "lat": 30.483,
          "long": -87.183,
          "name": "\"PENSACOLA REGIONAL AP\"",
          "state": "FL",
          "usaf": "722223"
         },
         {
          "GHI (W/m^2)": 201.0752283105023,
          "elev": 10,
          "lat": 30.35,
          "long": -87.317,
          "name": "\"PENSACOLA FOREST SHERMAN NAS\"",
          "state": "FL",
          "usaf": "722225"
         },
         {
          "GHI (W/m^2)": 182.32180365296804,
          "elev": 54,
          "lat": 30.717,
          "long": -87.017,
          "name": "\"WHITING FIELD NAAS\"",
          "state": "FL",
          "usaf": "722226"
         },
         {
          "GHI (W/m^2)": 187.186301369863,
          "elev": 66,
          "lat": 30.683,
          "long": -88.25,
          "name": "\"MOBILE REGIONAL AP\"",
          "state": "AL",
          "usaf": "722230"
         },
         {
          "GHI (W/m^2)": 196.8392694063927,
          "elev": 8,
          "lat": 30.633,
          "long": -88.067,
          "name": "\"MOBILE DOWNTOWN AP\"",
          "state": "AL",
          "usaf": "722235"
         },
         {
          "GHI (W/m^2)": 194.4247716894977,
          "elev": 6,
          "lat": 30.2,
          "long": -85.683,
          "name": "\"PANAMA CITY BAY CO\"",
          "state": "FL",
          "usaf": "722245"
         },
         {
          "GHI (W/m^2)": 184.89771689497718,
          "elev": 88,
          "lat": 32.35,
          "long": -85,
          "name": "\"FORT BENNING LAWSON\"",
          "state": "GA",
          "usaf": "722250"
         },
         {
          "GHI (W/m^2)": 191.31278538812785,
          "elev": 120,
          "lat": 32.517,
          "long": -84.95,
          "name": "\"COLUMBUS METROPOLITAN ARPT\"",
          "state": "GA",
          "usaf": "722255"
         },
         {
          "GHI (W/m^2)": 192.75022831050228,
          "elev": 62,
          "lat": 32.3,
          "long": -86.4,
          "name": "\"MONTGOMERY DANNELLY FIELD\"",
          "state": "AL",
          "usaf": "722260"
         },
         {
          "GHI (W/m^2)": 185.07682648401826,
          "elev": 53,
          "lat": 32.383,
          "long": -86.35,
          "name": "\"MAXWELL AFB\"",
          "state": "AL",
          "usaf": "722265"
         },
         {
          "GHI (W/m^2)": 183.5310502283105,
          "elev": 120,
          "lat": 31.867,
          "long": -86.017,
          "name": "\"TROY AF\"",
          "state": "AL",
          "usaf": "722267"
         },
         {
          "GHI (W/m^2)": 192.25502283105024,
          "elev": 98,
          "lat": 31.233,
          "long": -85.433,
          "name": "\"DOTHAN MUNICIPAL AP\"",
          "state": "AL",
          "usaf": "722268"
         },
         {
          "GHI (W/m^2)": 183.33093607305935,
          "elev": 91,
          "lat": 31.267,
          "long": -85.717,
          "name": "\"CAIRNS FIELD FORT RUCKER\"",
          "state": "AL",
          "usaf": "722269"
         },
         {
          "GHI (W/m^2)": 173.2590182648402,
          "elev": 330,
          "lat": 33.917,
          "long": -84.517,
          "name": "\"MARIETTA DOBBINS AFB\"",
          "state": "GA",
          "usaf": "722270"
         },
         {
          "GHI (W/m^2)": 186.40365296803654,
          "elev": 189,
          "lat": 33.567,
          "long": -86.75,
          "name": "\"BIRMINGHAM MUNICIPAL AP\"",
          "state": "AL",
          "usaf": "722280"
         },
         {
          "GHI (W/m^2)": 197.16769406392694,
          "elev": 236,
          "lat": 32.616,
          "long": -85.433,
          "name": "\"AUBURN-OPELIKA APT\"",
          "state": "AL",
          "usaf": "722284"
         },
         {
          "GHI (W/m^2)": 177.20319634703196,
          "elev": 173,
          "lat": 33.967,
          "long": -86.083,
          "name": "\"GADSEN MUNI (AWOS)\"",
          "state": "AL",
          "usaf": "722285"
         },
         {
          "GHI (W/m^2)": 170.97739726027396,
          "elev": 51,
          "lat": 33.217,
          "long": -87.617,
          "name": "\"TUSCALOOSA MUNICIPAL AP\"",
          "state": "AL",
          "usaf": "722286"
         },
         {
          "GHI (W/m^2)": 166.86575342465753,
          "elev": 186,
          "lat": 33.583,
          "long": -85.85,
          "name": "\"ANNISTON METROPOLITAN AP\"",
          "state": "AL",
          "usaf": "722287"
         },
         {
          "GHI (W/m^2)": 185.97431506849315,
          "elev": 1,
          "lat": 30,
          "long": -90.25,
          "name": "\"NEW ORLEANS INTL ARPT\"",
          "state": "LA",
          "usaf": "722310"
         },
         {
          "GHI (W/m^2)": 183.19634703196348,
          "elev": 8,
          "lat": 30.033,
          "long": -91.883,
          "name": "\"NEW IBERIA NAAS\"",
          "state": "LA",
          "usaf": "722314"
         },
         {
          "GHI (W/m^2)": 165.47408675799088,
          "elev": 3,
          "lat": 30.05,
          "long": -90.033,
          "name": "\"NEW ORLEANS LAKEFRONT AP\"",
          "state": "LA",
          "usaf": "722315"
         },
         {
          "GHI (W/m^2)": 182.34760273972603,
          "elev": 2,
          "lat": 29.817,
          "long": -90.017,
          "name": "\"NEW ORLEANS ALVIN CALLENDER F\"",
          "state": "LA",
          "usaf": "722316"
         },
         {
          "GHI (W/m^2)": 183.13926940639269,
          "elev": 20,
          "lat": 30.533,
          "long": -91.15,
          "name": "\"BATON ROUGE RYAN ARPT\"",
          "state": "LA",
          "usaf": "722317"
         },
         {
          "GHI (W/m^2)": 191.8357305936073,
          "elev": 3,
          "lat": 29.717,
          "long": -91.333,
          "name": "\"PATTERSON MEMORIAL\"",
          "state": "LA",
          "usaf": "722329"
         },
         {
          "GHI (W/m^2)": 184.9005707762557,
          "elev": 90,
          "lat": 32.333,
          "long": -88.75,
          "name": "\"MERIDIAN KEY FIELD\"",
          "state": "MS",
          "usaf": "722340"
         },
         {
          "GHI (W/m^2)": 180.512899543379,
          "elev": 83,
          "lat": 32.55,
          "long": -88.567,
          "name": "\"MERIDIAN NAAS\"",
          "state": "MS",
          "usaf": "722345"
         },
         {
          "GHI (W/m^2)": 192.10856164383563,
          "elev": 93,
          "lat": 31.467,
          "long": -89.333,
          "name": "\"HATTIESBURG LAUREL\"",
          "state": "MS",
          "usaf": "722348"
         },
         {
          "GHI (W/m^2)": 191.8788812785388,
          "elev": 94,
          "lat": 32.317,
          "long": -90.083,
          "name": "\"JACKSON INTERNATIONAL AP\"",
          "state": "MS",
          "usaf": "722350"
         },
         {
          "GHI (W/m^2)": 189.82305936073058,
          "elev": 42,
          "lat": 33.483,
          "long": -90.983,
          "name": "\"GREENVILLE MUNICIPAL\"",
          "state": "MS",
          "usaf": "722356"
         },
         {
          "GHI (W/m^2)": 193.32271689497716,
          "elev": 83,
          "lat": 31.617,
          "long": -91.3,
          "name": "\"NATCHEZ/HARDY(AWOS)\"",
          "state": "MS",
          "usaf": "722357"
         },
         {
          "GHI (W/m^2)": 182.13036529680366,
          "elev": 126,
          "lat": 31.233,
          "long": -90.467,
          "name": "\"MCCOMB PIKE COUNTY AP\"",
          "state": "MS",
          "usaf": "722358"
         },
         {
          "GHI (W/m^2)": 190.79714611872146,
          "elev": 47,
          "lat": 33.5,
          "long": -90.083,
          "name": "\"GREENWOOD LEFLORE ARPT\"",
          "state": "MS",
          "usaf": "722359"
         },
         {
          "GHI (W/m^2)": 184.40342465753426,
          "elev": 102,
          "lat": 31.05,
          "long": -93.183,
          "name": "\"FORT POLK AAF\"",
          "state": "LA",
          "usaf": "722390"
         },
         {
          "GHI (W/m^2)": 189.24406392694064,
          "elev": 5,
          "lat": 30.117,
          "long": -93.233,
          "name": "\"LAKE CHARLES REGIONAL ARPT\"",
          "state": "LA",
          "usaf": "722400"
         },
         {
          "GHI (W/m^2)": 189.37762557077625,
          "elev": 5,
          "lat": 30.217,
          "long": -93.167,
          "name": "\"LAKE CHARLES WB AIRP\"",
          "state": "LA",
          "usaf": "722404"
         },
         {
          "GHI (W/m^2)": 192.95947488584474,
          "elev": 12,
          "lat": 30.2,
          "long": -91.983,
          "name": "\"LAFAYETTE REGIONAL AP\"",
          "state": "LA",
          "usaf": "722405"
         },
         {
          "GHI (W/m^2)": 186.75091324200912,
          "elev": 3,
          "lat": 29.567,
          "long": -90.667,
          "name": "\"HOUMA-TERREBONNE\"",
          "state": "LA",
          "usaf": "722406"
         },
         {
          "GHI (W/m^2)": 188.78675799086759,
          "elev": 5,
          "lat": 29.95,
          "long": -94.017,
          "name": "\"PORT ARTHUR JEFFERSON COUNTY\"",
          "state": "TX",
          "usaf": "722410"
         },
         {
          "GHI (W/m^2)": 188.50947488584475,
          "elev": 16,
          "lat": 29.3,
          "long": -94.8,
          "name": "\"GALVESTON/SCHOLES\"",
          "state": "TX",
          "usaf": "722420"
         },
         {
          "GHI (W/m^2)": 177.42979452054794,
          "elev": 46,
          "lat": 30.067,
          "long": -95.55,
          "name": "\"HOUSTON/D.W. HOOKS\"",
          "state": "TX",
          "usaf": "722429"
         },
         {
          "GHI (W/m^2)": 185.77876712328768,
          "elev": 29,
          "lat": 30,
          "long": -95.367,
          "name": "\"HOUSTON BUSH INTERCONTINENTAL\"",
          "state": "TX",
          "usaf": "722430"
         },
         {
          "GHI (W/m^2)": 178.50079908675798,
          "elev": 13,
          "lat": 29.65,
          "long": -95.283,
          "name": "\"HOUSTON WILLIAM P HOBBY AP\"",
          "state": "TX",
          "usaf": "722435"
         },
         {
          "GHI (W/m^2)": 182.30547945205478,
          "elev": 6,
          "lat": 29.57,
          "long": -95.09,
          "name": "\"HOUSTON ELLINGTON AFB [CLEAR LAKE - UT]\"",
          "state": "TX",
          "usaf": "722436"
         },
         {
          "GHI (W/m^2)": 182.03538812785388,
          "elev": 96,
          "lat": 30.583,
          "long": -96.367,
          "name": "\"COLLEGE STATION EASTERWOOD FL\"",
          "state": "TX",
          "usaf": "722445"
         },
         {
          "GHI (W/m^2)": 191.5263698630137,
          "elev": 86,
          "lat": 31.233,
          "long": -94.75,
          "name": "\"LUFKIN ANGELINA CO\"",
          "state": "TX",
          "usaf": "722446"
         },
         {
          "GHI (W/m^2)": 189.98219178082192,
          "elev": 166,
          "lat": 32.35,
          "long": -95.4,
          "name": "\"TYLER/POUNDS FLD\"",
          "state": "TX",
          "usaf": "722448"
         },
         {
          "GHI (W/m^2)": 192.01974885844749,
          "elev": 146,
          "lat": 32.29,
          "long": -94.98,
          "name": "\"LONGVIEW GREGG COUNTY AP [OVERTON - UT]\"",
          "state": "TX",
          "usaf": "722470"
         },
         {
          "GHI (W/m^2)": 191.80650684931507,
          "elev": 77,
          "lat": 32.45,
          "long": -93.817,
          "name": "\"SHREVEPORT REGIONAL ARPT\"",
          "state": "LA",
          "usaf": "722480"
         },
         {
          "GHI (W/m^2)": 189.4708904109589,
          "elev": 55,
          "lat": 32.533,
          "long": -93.75,
          "name": "\"SHREVEPORT DOWNTOWN\"",
          "state": "LA",
          "usaf": "722484"
         },
         {
          "GHI (W/m^2)": 185.4453196347032,
          "elev": 54,
          "lat": 32.5,
          "long": -93.667,
          "name": "\"BARKSDALE AFB\"",
          "state": "LA",
          "usaf": "722485"
         },
         {
          "GHI (W/m^2)": 184.10011415525113,
          "elev": 40,
          "lat": 32.517,
          "long": -92.033,
          "name": "\"MONROE REGIONAL AP\"",
          "state": "LA",
          "usaf": "722486"
         },
         {
          "GHI (W/m^2)": 177.62431506849316,
          "elev": 34,
          "lat": 31.4,
          "long": -92.3,
          "name": "\"ALEXANDRIA ESLER REGIONAL AP\"",
          "state": "LA",
          "usaf": "722487"
         },
         {
          "GHI (W/m^2)": 192.80376712328768,
          "elev": 108,
          "lat": 31.583,
          "long": -94.717,
          "name": "\"NACOGDOCHES (AWOS)\"",
          "state": "TX",
          "usaf": "722499"
         },
         {
          "GHI (W/m^2)": 194.32054794520548,
          "elev": 6,
          "lat": 25.9,
          "long": -97.433,
          "name": "\"BROWNSVILLE S PADRE ISL INTL\"",
          "state": "TX",
          "usaf": "722500"
         },
         {
          "GHI (W/m^2)": 190.24851598173515,
          "elev": 10,
          "lat": 26.233,
          "long": -97.65,
          "name": "\"HARLINGEN RIO GRANDE VALLEY I\"",
          "state": "TX",
          "usaf": "722505"
         },
         {
          "GHI (W/m^2)": 196.78059360730595,
          "elev": 30,
          "lat": 26.31,
          "long": -98.17,
          "name": "\"MCALLEN MILLER INTL AP [EDINBURG - UT]\"",
          "state": "TX",
          "usaf": "722506"
         },
         {
          "GHI (W/m^2)": 189.18447488584474,
          "elev": 6,
          "lat": 27.88,
          "long": -97.63,
          "name": "\"CORPUS CHRISTI INTL ARPT [UT]\"",
          "state": "TX",
          "usaf": "722510"
         },
         {
          "GHI (W/m^2)": 189.08744292237444,
          "elev": 6,
          "lat": 27.683,
          "long": -97.283,
          "name": "\"CORPUS CHRISTI NAS\"",
          "state": "TX",
          "usaf": "722515"
         },
         {
          "GHI (W/m^2)": 191.39383561643837,
          "elev": 17,
          "lat": 27.5,
          "long": -97.817,
          "name": "\"KINGSVILLE\"",
          "state": "TX",
          "usaf": "722516"
         },
         {
          "GHI (W/m^2)": 192.4291095890411,
          "elev": 53,
          "lat": 27.733,
          "long": -98.033,
          "name": "\"ALICE INTL AP\"",
          "state": "TX",
          "usaf": "722517"
         },
         {
          "GHI (W/m^2)": 205.3203196347032,
          "elev": 142,
          "lat": 27.57,
          "long": -99.49,
          "name": "\"LAREDO INTL AP [UT]\"",
          "state": "TX",
          "usaf": "722520"
         },
         {
          "GHI (W/m^2)": 192.90993150684932,
          "elev": 176,
          "lat": 29.333,
          "long": -98.467,
          "name": "\"SAN ANTONIO/STINSON\"",
          "state": "TX",
          "usaf": "722523"
         },
         {
          "GHI (W/m^2)": 196.78789954337898,
          "elev": 8,
          "lat": 28.083,
          "long": -97.05,
          "name": "\"ROCKPORT/ARANSAS CO\"",
          "state": "TX",
          "usaf": "722524"
         },
         {
          "GHI (W/m^2)": 203.76301369863015,
          "elev": 141,
          "lat": 28.45,
          "long": -99.217,
          "name": "\"COTULLA FAA AP\"",
          "state": "TX",
          "usaf": "722526"
         },
         {
          "GHI (W/m^2)": 205.22739726027396,
          "elev": 247,
          "lat": 29.533,
          "long": -98.467,
          "name": "\"SAN ANTONIO INTL AP\"",
          "state": "TX",
          "usaf": "722530"
         },
         {
          "GHI (W/m^2)": 189.9664383561644,
          "elev": 280,
          "lat": 29.367,
          "long": -99.167,
          "name": "\"HONDO MUNICIPAL AP\"",
          "state": "TX",
          "usaf": "722533"
         },
         {
          "GHI (W/m^2)": 203.67648401826483,
          "elev": 208,
          "lat": 29.383,
          "long": -98.583,
          "name": "\"SAN ANTONIO KELLY FIELD AFB\"",
          "state": "TX",
          "usaf": "722535"
         },
         {
          "GHI (W/m^2)": 196.09657534246574,
          "elev": 232,
          "lat": 29.533,
          "long": -98.283,
          "name": "\"RANDOLPH AFB\"",
          "state": "TX",
          "usaf": "722536"
         },
         {
          "GHI (W/m^2)": 189.93961187214612,
          "elev": 213,
          "lat": 30.29,
          "long": -97.74,
          "name": "\"AUSTIN MUELLER MUNICIPAL AP [UT]\"",
          "state": "TX",
          "usaf": "722540"
         },
         {
          "GHI (W/m^2)": 202.53150684931506,
          "elev": 198,
          "lat": 30.317,
          "long": -97.767,
          "name": "\"CAMP MABRY\"",
          "state": "TX",
          "usaf": "722544"
         },
         {
          "GHI (W/m^2)": 203.1511415525114,
          "elev": 240,
          "lat": 30.683,
          "long": -97.683,
          "name": "\"GEORGETOWN (AWOS)\"",
          "state": "TX",
          "usaf": "722547"
         },
         {
          "GHI (W/m^2)": 191.83721461187216,
          "elev": 35,
          "lat": 28.867,
          "long": -96.933,
          "name": "\"VICTORIA REGIONAL AP\"",
          "state": "TX",
          "usaf": "722550"
         },
         {
          "GHI (W/m^2)": 182.28915525114155,
          "elev": 5,
          "lat": 28.717,
          "long": -96.25,
          "name": "\"PALACIOS MUNICIPAL AP\"",
          "state": "TX",
          "usaf": "722555"
         },
         {
          "GHI (W/m^2)": 202.06700913242008,
          "elev": 152,
          "lat": 31.617,
          "long": -97.233,
          "name": "\"WACO REGIONAL AP\"",
          "state": "TX",
          "usaf": "722560"
         },
         {
          "GHI (W/m^2)": 210.78801369863012,
          "elev": 180,
          "lat": 31.483,
          "long": -97.317,
          "name": "\"MC GREGOR (AWOS)\"",
          "state": "TX",
          "usaf": "722563"
         },
         {
          "GHI (W/m^2)": 203.15776255707763,
          "elev": 280,
          "lat": 31.133,
          "long": -97.717,
          "name": "\"FORT HOOD\"",
          "state": "TX",
          "usaf": "722570"
         },
         {
          "GHI (W/m^2)": 204.6535388127854,
          "elev": 258,
          "lat": 31.083,
          "long": -97.683,
          "name": "\"KILLEEN MUNI (AWOS)\"",
          "state": "TX",
          "usaf": "722575"
         },
         {
          "GHI (W/m^2)": 210.91541095890412,
          "elev": 312,
          "lat": 31.067,
          "long": -97.833,
          "name": "\"ROBERT GRAY AAF\"",
          "state": "TX",
          "usaf": "722576"
         },
         {
          "GHI (W/m^2)": 196.0533105022831,
          "elev": 213,
          "lat": 31.15,
          "long": -97.4,
          "name": "\"DRAUGHON MILLER CEN\"",
          "state": "TX",
          "usaf": "722577"
         },
         {
          "GHI (W/m^2)": 197.44109589041096,
          "elev": 134,
          "lat": 32.85,
          "long": -96.85,
          "name": "\"DALLAS LOVE FIELD\"",
          "state": "TX",
          "usaf": "722583"
         },
         {
          "GHI (W/m^2)": 193.21518264840182,
          "elev": 171,
          "lat": 33.633,
          "long": -95.45,
          "name": "\"COX FLD\"",
          "state": "TX",
          "usaf": "722587"
         },
         {
          "GHI (W/m^2)": 188.05479452054794,
          "elev": 163,
          "lat": 33.067,
          "long": -96.067,
          "name": "\"GREENVILLE/MAJORS\"",
          "state": "TX",
          "usaf": "722588"
         },
         {
          "GHI (W/m^2)": 203.67385844748858,
          "elev": 171,
          "lat": 32.9,
          "long": -97.017,
          "name": "\"DALLAS-FORT WORTH INTL AP\"",
          "state": "TX",
          "usaf": "722590"
         },
         {
          "GHI (W/m^2)": 189.24052511415525,
          "elev": 226,
          "lat": 32.983,
          "long": -97.317,
          "name": "\"FORT WORTH ALLIANCE\"",
          "state": "TX",
          "usaf": "722594"
         },
         {
          "GHI (W/m^2)": 197.49155251141553,
          "elev": 185,
          "lat": 32.767,
          "long": -97.45,
          "name": "\"FORT WORTH NAS\"",
          "state": "TX",
          "usaf": "722595"
         },
         {
          "GHI (W/m^2)": 186.24543378995435,
          "elev": 209,
          "lat": 32.817,
          "long": -97.367,
          "name": "\"FORT WORTH MEACHAM\"",
          "state": "TX",
          "usaf": "722596"
         },
         {
          "GHI (W/m^2)": 195.66723744292239,
          "elev": 284,
          "lat": 32.783,
          "long": -98.067,
          "name": "\"MINERAL WELLS MUNICIPAL AP\"",
          "state": "TX",
          "usaf": "722597"
         },
         {
          "GHI (W/m^2)": 178.30456621004566,
          "elev": 196,
          "lat": 32.967,
          "long": -96.833,
          "name": "\"DALLAS/ADDISON ARPT\"",
          "state": "TX",
          "usaf": "722598"
         },
         {
          "GHI (W/m^2)": 198.4543378995434,
          "elev": 201,
          "lat": 32.683,
          "long": -96.867,
          "name": "\"DALLAS/REDBIRD ARPT\"",
          "state": "TX",
          "usaf": "722599"
         },
         {
          "GHI (W/m^2)": 192.29897260273972,
          "elev": 308,
          "lat": 29.38,
          "long": -100.91,
          "name": "\"DEL RIO [UT]\"",
          "state": "TX",
          "usaf": "722610"
         },
         {
          "GHI (W/m^2)": 190.71221461187216,
          "elev": 327,
          "lat": 29.367,
          "long": -100.783,
          "name": "\"DEL RIO LAUGHLIN AFB\"",
          "state": "TX",
          "usaf": "722615"
         },
         {
          "GHI (W/m^2)": 214.40616438356165,
          "elev": 584,
          "lat": 31.35,
          "long": -100.5,
          "name": "\"SAN ANGELO MATHIS FIELD\"",
          "state": "TX",
          "usaf": "722630"
         },
         {
          "GHI (W/m^2)": 203.4989726027397,
          "elev": 1216,
          "lat": 36.017,
          "long": -102.55,
          "name": "\"DALHART MUNICIPAL AP\"",
          "state": "TX",
          "usaf": "722636"
         },
         {
          "GHI (W/m^2)": 237.71210045662102,
          "elev": 1473,
          "lat": 30.367,
          "long": -104.017,
          "name": "\"MARFA AP\"",
          "state": "TX",
          "usaf": "722640"
         },
         {
          "GHI (W/m^2)": 220.7900684931507,
          "elev": 872,
          "lat": 31.95,
          "long": -102.183,
          "name": "\"MIDLAND INTERNATIONAL AP\"",
          "state": "TX",
          "usaf": "722650"
         },
         {
          "GHI (W/m^2)": 220.96712328767123,
          "elev": 856,
          "lat": 31.783,
          "long": -103.2,
          "name": "\"WINK WINKLER COUNTY AP\"",
          "state": "TX",
          "usaf": "722656"
         },
         {
          "GHI (W/m^2)": 213.3353881278539,
          "elev": 530,
          "lat": 32.47,
          "long": -99.71,
          "name": "\"ABILENE REGIONAL AP [UT]\"",
          "state": "TX",
          "usaf": "722660"
         },
         {
          "GHI (W/m^2)": 210.74920091324202,
          "elev": 992,
          "lat": 33.667,
          "long": -101.817,
          "name": "\"LUBBOCK INTERNATIONAL AP\"",
          "state": "TX",
          "usaf": "722670"
         },
         {
          "GHI (W/m^2)": 226.32066210045662,
          "elev": 1112,
          "lat": 33.3,
          "long": -104.533,
          "name": "\"ROSWELL INDUSTRIAL AIR PARK\"",
          "state": "NM",
          "usaf": "722680"
         },
         {
          "GHI (W/m^2)": 222.1525114155251,
          "elev": 2078,
          "lat": 33.467,
          "long": -105.533,
          "name": "\"SIERRA BLANCA RGNL\"",
          "state": "NM",
          "usaf": "722683"
         },
         {
          "GHI (W/m^2)": 215.72865296803653,
          "elev": 1309,
          "lat": 34.383,
          "long": -103.317,
          "name": "\"CLOVIS CANNON AFB\"",
          "state": "NM",
          "usaf": "722686"
         },
         {
          "GHI (W/m^2)": 221.81061643835616,
          "elev": 985,
          "lat": 32.333,
          "long": -104.267,
          "name": "\"CARLSBAD CAVERN CITY AIR TERM\"",
          "state": "NM",
          "usaf": "722687"
         },
         {
          "GHI (W/m^2)": 223.061301369863,
          "elev": 1284,
          "lat": 34.433,
          "long": -103.083,
          "name": "\"CLOVIS MUNI  (AWOS)\"",
          "state": "NM",
          "usaf": "722689"
         },
         {
          "GHI (W/m^2)": 236.14520547945204,
          "elev": 1393,
          "lat": 32.283,
          "long": -106.917,
          "name": "\"LAS CRUCES INTL\"",
          "state": "NM",
          "usaf": "722695"
         },
         {
          "GHI (W/m^2)": 235.71050228310503,
          "elev": 1186,
          "lat": 31.77,
          "long": -106.5,
          "name": "\"EL PASO INTERNATIONAL AP [UT]\"",
          "state": "TX",
          "usaf": "722700"
         },
         {
          "GHI (W/m^2)": 240.72979452054796,
          "elev": 1478,
          "lat": 33.233,
          "long": -107.267,
          "name": "\"TRUTH OR CONSEQUENCES MUNI AP\"",
          "state": "NM",
          "usaf": "722710"
         },
         {
          "GHI (W/m^2)": 238.67431506849314,
          "elev": 1348,
          "lat": 32.25,
          "long": -107.717,
          "name": "\"DEMING MUNI\"",
          "state": "NM",
          "usaf": "722725"
         },
         {
          "GHI (W/m^2)": 234.99543378995435,
          "elev": 1249,
          "lat": 31.467,
          "long": -109.6,
          "name": "\"DOUGLAS BISBEE-DOUGLAS INTL A\"",
          "state": "AZ",
          "usaf": "722735"
         },
         {
          "GHI (W/m^2)": 235.36860730593608,
          "elev": 777,
          "lat": 32.133,
          "long": -110.95,
          "name": "\"TUCSON INTERNATIONAL AP\"",
          "state": "AZ",
          "usaf": "722740"
         },
         {
          "GHI (W/m^2)": 228.58424657534246,
          "elev": 809,
          "lat": 32.167,
          "long": -110.883,
          "name": "\"DAVIS MONTHAN AFB\"",
          "state": "AZ",
          "usaf": "722745"
         },
         {
          "GHI (W/m^2)": 237.19600456621004,
          "elev": 950,
          "lat": 32.817,
          "long": -109.683,
          "name": "\"SAFFORD (AMOS)\"",
          "state": "AZ",
          "usaf": "722747"
         },
         {
          "GHI (W/m^2)": 235.55091324200913,
          "elev": 446,
          "lat": 32.95,
          "long": -111.767,
          "name": "\"CASA GRANDA (AWOS)\"",
          "state": "AZ",
          "usaf": "722748"
         },
         {
          "GHI (W/m^2)": 239.0642694063927,
          "elev": 337,
          "lat": 33.45,
          "long": -111.983,
          "name": "\"PHOENIX SKY HARBOR INTL AP\"",
          "state": "AZ",
          "usaf": "722780"
         },
         {
          "GHI (W/m^2)": 233.04041095890412,
          "elev": 450,
          "lat": 33.683,
          "long": -112.083,
          "name": "\"DEER VALLEY/PHOENIX\"",
          "state": "AZ",
          "usaf": "722784"
         },
         {
          "GHI (W/m^2)": 232.77865296803654,
          "elev": 331,
          "lat": 33.55,
          "long": -112.367,
          "name": "\"LUKE AFB\"",
          "state": "AZ",
          "usaf": "722785"
         },
         {
          "GHI (W/m^2)": 234.90479452054794,
          "elev": 460,
          "lat": 33.617,
          "long": -111.917,
          "name": "\"SCOTTSDALE MUNI\"",
          "state": "AZ",
          "usaf": "722789"
         },
         {
          "GHI (W/m^2)": 225.6455479452055,
          "elev": 63,
          "lat": 32.667,
          "long": -114.6,
          "name": "\"YUMA INTL ARPT\"",
          "state": "AZ",
          "usaf": "722800"
         },
         {
          "GHI (W/m^2)": 226.63630136986302,
          "elev": 462,
          "lat": 33.9,
          "long": -117.25,
          "name": "\"MARCH AFB\"",
          "state": "CA",
          "usaf": "722860"
         },
         {
          "GHI (W/m^2)": 233.4670091324201,
          "elev": 145,
          "lat": 33.833,
          "long": -116.5,
          "name": "\"PALM SPRINGS INTL\"",
          "state": "CA",
          "usaf": "722868"
         },
         {
          "GHI (W/m^2)": 217.10570776255707,
          "elev": 256,
          "lat": 33.95,
          "long": -117.45,
          "name": "\"RIVERSIDE MUNI\"",
          "state": "CA",
          "usaf": "722869"
         },
         {
          "GHI (W/m^2)": 216.9728310502283,
          "elev": 226,
          "lat": 34.2,
          "long": -118.35,
          "name": "\"BURBANK-GLENDALE-PASSADENA AP\"",
          "state": "CA",
          "usaf": "722880"
         },
         {
          "GHI (W/m^2)": 208.498401826484,
          "elev": 53,
          "lat": 34.017,
          "long": -118.45,
          "name": "\"SANTA MONICA MUNI\"",
          "state": "CA",
          "usaf": "722885"
         },
         {
          "GHI (W/m^2)": 218.26324200913243,
          "elev": 235,
          "lat": 34.217,
          "long": -118.483,
          "name": "\"VAN NUYS AIRPORT\"",
          "state": "CA",
          "usaf": "722886"
         },
         {
          "GHI (W/m^2)": 196.0461187214612,
          "elev": 27,
          "lat": 34.667,
          "long": -120.467,
          "name": "\"LOMPOC (AWOS)\"",
          "state": "CA",
          "usaf": "722895"
         },
         {
          "GHI (W/m^2)": 212.65342465753426,
          "elev": 66,
          "lat": 35.233,
          "long": -120.633,
          "name": "\"SAN LUIS CO RGNL\"",
          "state": "CA",
          "usaf": "722897"
         },
         {
          "GHI (W/m^2)": 213.67545662100457,
          "elev": 198,
          "lat": 33.967,
          "long": -117.633,
          "name": "\"CHINO AIRPORT\"",
          "state": "CA",
          "usaf": "722899"
         },
         {
          "GHI (W/m^2)": 214.35239726027396,
          "elev": 4,
          "lat": 32.733,
          "long": -117.167,
          "name": "\"SAN DIEGO LINDBERGH FIELD\"",
          "state": "CA",
          "usaf": "722900"
         },
         {
          "GHI (W/m^2)": 215.9634703196347,
          "elev": 129,
          "lat": 32.817,
          "long": -117.133,
          "name": "\"SAN DIEGO/MONTGOMER\"",
          "state": "CA",
          "usaf": "722903"
         },
         {
          "GHI (W/m^2)": 219.73196347031964,
          "elev": 159,
          "lat": 32.583,
          "long": -116.983,
          "name": "\"CHULA VISTA BROWN FIELD NAAS\"",
          "state": "CA",
          "usaf": "722904"
         },
         {
          "GHI (W/m^2)": 215.8469178082192,
          "elev": 15,
          "lat": 32.7,
          "long": -117.2,
          "name": "\"SAN DIEGO NORTH ISLAND NAS\"",
          "state": "CA",
          "usaf": "722906"
         },
         {
          "GHI (W/m^2)": 210.1716894977169,
          "elev": 23,
          "lat": 33.3,
          "long": -117.35,
          "name": "\"CAMP PENDLETON MCAS\"",
          "state": "CA",
          "usaf": "722926"
         },
         {
          "GHI (W/m^2)": 209.87077625570777,
          "elev": 100,
          "lat": 33.133,
          "long": -117.283,
          "name": "\"CARLSBAD/PALOMAR\"",
          "state": "CA",
          "usaf": "722927"
         },
         {
          "GHI (W/m^2)": 220.58972602739726,
          "elev": 140,
          "lat": 32.867,
          "long": -117.133,
          "name": "\"SAN DIEGO MIRAMAR NAS\"",
          "state": "CA",
          "usaf": "722930"
         },
         {
          "GHI (W/m^2)": 208.2821917808219,
          "elev": 30,
          "lat": 33.933,
          "long": -118.4,
          "name": "\"LOS ANGELES INTL ARPT\"",
          "state": "CA",
          "usaf": "722950"
         },
         {
          "GHI (W/m^2)": 209.0747716894977,
          "elev": 21,
          "lat": 33.917,
          "long": -118.333,
          "name": "\"JACK NORTHROP FLD H\"",
          "state": "CA",
          "usaf": "722956"
         },
         {
          "GHI (W/m^2)": 207.6304794520548,
          "elev": 8,
          "lat": 33.833,
          "long": -118.167,
          "name": "\"LONG BEACH DAUGHERTY FLD\"",
          "state": "CA",
          "usaf": "722970"
         },
         {
          "GHI (W/m^2)": 210.19018264840182,
          "elev": 29,
          "lat": 33.867,
          "long": -117.983,
          "name": "\"FULLERTON MUNICIPAL\"",
          "state": "CA",
          "usaf": "722976"
         },
         {
          "GHI (W/m^2)": 210.07865296803652,
          "elev": 16,
          "lat": 33.683,
          "long": -117.867,
          "name": "\"SANTA ANA JOHN WAYNE AP\"",
          "state": "CA",
          "usaf": "722977"
         },
         {
          "GHI (W/m^2)": 185.10365296803653,
          "elev": 9,
          "lat": 34.267,
          "long": -77.9,
          "name": "\"WILMINGTON INTERNATIONAL ARPT\"",
          "state": "NC",
          "usaf": "723013"
         },
         {
          "GHI (W/m^2)": 175.3404109589041,
          "elev": 66,
          "lat": 35.167,
          "long": -79.017,
          "name": "\"FAYETTEVILLE POPE AFB\"",
          "state": "NC",
          "usaf": "723030"
         },
         {
          "GHI (W/m^2)": 174.01392694063927,
          "elev": 59,
          "lat": 34.983,
          "long": -78.883,
          "name": "\"FAYETTEVILLE RGNL G\"",
          "state": "NC",
          "usaf": "723035"
         },
         {
          "GHI (W/m^2)": 184.97614155251142,
          "elev": 3,
          "lat": 35.267,
          "long": -75.55,
          "name": "\"CAPE HATTERAS NWS BLDG\"",
          "state": "NC",
          "usaf": "723040"
         },
         {
          "GHI (W/m^2)": 179.52842465753426,
          "elev": 4,
          "lat": 35.917,
          "long": -75.7,
          "name": "\"DARE CO RGNL\"",
          "state": "NC",
          "usaf": "723046"
         },
         {
          "GHI (W/m^2)": 181.42796803652968,
          "elev": 127,
          "lat": 35.867,
          "long": -78.783,
          "name": "\"RALEIGH DURHAM INTERNATIONAL\"",
          "state": "NC",
          "usaf": "723060"
         },
         {
          "GHI (W/m^2)": 184.1552511415525,
          "elev": 8,
          "lat": 35.633,
          "long": -77.4,
          "name": "\"PITT GREENVILLE ARP\"",
          "state": "NC",
          "usaf": "723065"
         },
         {
          "GHI (W/m^2)": 178.74463470319634,
          "elev": 33,
          "lat": 35.35,
          "long": -77.967,
          "name": "\"GOLDSBORO SEYMOUR JOHNSON AFB\"",
          "state": "NC",
          "usaf": "723066"
         },
         {
          "GHI (W/m^2)": 165.98744292237444,
          "elev": 29,
          "lat": 35.317,
          "long": -77.633,
          "name": "\"KINSTON STALLINGS AFB\"",
          "state": "NC",
          "usaf": "723067"
         },
         {
          "GHI (W/m^2)": 176.0868721461187,
          "elev": 50,
          "lat": 35.85,
          "long": -77.9,
          "name": "\"ROCKY MOUNT WILSON\"",
          "state": "NC",
          "usaf": "723068"
         },
         {
          "GHI (W/m^2)": 189.83504566210047,
          "elev": 29,
          "lat": 34.833,
          "long": -77.617,
          "name": "\"JACKSONVILLE (AWOS)\"",
          "state": "NC",
          "usaf": "723069"
         },
         {
          "GHI (W/m^2)": 169.51997716894977,
          "elev": 8,
          "lat": 36.817,
          "long": -76.033,
          "name": "\"OCEANA NAS\"",
          "state": "VA",
          "usaf": "723075"
         },
         {
          "GHI (W/m^2)": 176.3876712328767,
          "elev": 7,
          "lat": 36.9,
          "long": -76.2,
          "name": "\"NORFOLK INTERNATIONAL AP\"",
          "state": "VA",
          "usaf": "723080"
         },
         {
          "GHI (W/m^2)": 177.25034246575342,
          "elev": 12,
          "lat": 36.7,
          "long": -76.9,
          "name": "\"FRANKLIN NAAS\"",
          "state": "VA",
          "usaf": "723083"
         },
         {
          "GHI (W/m^2)": 167.67237442922374,
          "elev": 10,
          "lat": 36.95,
          "long": -76.283,
          "name": "\"NORFOLK NAS\"",
          "state": "VA",
          "usaf": "723085"
         },
         {
          "GHI (W/m^2)": 176.3689497716895,
          "elev": 13,
          "lat": 37.133,
          "long": -76.5,
          "name": "\"NEWPORT NEWS\"",
          "state": "VA",
          "usaf": "723086"
         },
         {
          "GHI (W/m^2)": 176.5175799086758,
          "elev": 11,
          "lat": 34.9,
          "long": -76.883,
          "name": "\"CHERRY POINT MCAS\"",
          "state": "NC",
          "usaf": "723090"
         },
         {
          "GHI (W/m^2)": 165.0945205479452,
          "elev": 5,
          "lat": 35.067,
          "long": -77.05,
          "name": "\"NEW BERN CRAVEN CO REGL AP\"",
          "state": "NC",
          "usaf": "723095"
         },
         {
          "GHI (W/m^2)": 165.42431506849314,
          "elev": 5,
          "lat": 34.7,
          "long": -77.383,
          "name": "\"NEW RIVER MCAF\"",
          "state": "NC",
          "usaf": "723096"
         },
         {
          "GHI (W/m^2)": 186.28493150684932,
          "elev": 65,
          "lat": 33.95,
          "long": -81.117,
          "name": "\"COLUMBIA METRO ARPT\"",
          "state": "SC",
          "usaf": "723100"
         },
         {
          "GHI (W/m^2)": 182.85308219178083,
          "elev": 44,
          "lat": 34.183,
          "long": -79.733,
          "name": "\"FLORENCE REGIONAL AP\"",
          "state": "SC",
          "usaf": "723106"
         },
         {
          "GHI (W/m^2)": 188.32614155251142,
          "elev": 244,
          "lat": 33.95,
          "long": -83.333,
          "name": "\"ATHENS BEN EPPS AP\"",
          "state": "GA",
          "usaf": "723110"
         },
         {
          "GHI (W/m^2)": 174.1530821917808,
          "elev": 319,
          "lat": 34.85,
          "long": -82.35,
          "name": "\"GREENVILLE DOWNTOWN AP\"",
          "state": "SC",
          "usaf": "723119"
         },
         {
          "GHI (W/m^2)": 186.07762557077626,
          "elev": 292,
          "lat": 34.9,
          "long": -82.217,
          "name": "\"GREER GREENV'L-SPARTANBRG AP\"",
          "state": "SC",
          "usaf": "723120"
         },
         {
          "GHI (W/m^2)": 181.01187214611872,
          "elev": 232,
          "lat": 34.5,
          "long": -82.717,
          "name": "\"ANDERSON COUNTY AP\"",
          "state": "SC",
          "usaf": "723125"
         },
         {
          "GHI (W/m^2)": 186.27317351598174,
          "elev": 222,
          "lat": 35.217,
          "long": -80.95,
          "name": "\"CHARLOTTE DOUGLAS INTL ARPT\"",
          "state": "NC",
          "usaf": "723140"
         },
         {
          "GHI (W/m^2)": 194.97271689497717,
          "elev": 141,
          "lat": 35.233,
          "long": -79.4,
          "name": "\"SOUTHERN PINES AWOS\"",
          "state": "NC",
          "usaf": "723143"
         },
         {
          "GHI (W/m^2)": 178.3134703196347,
          "elev": 348,
          "lat": 35.733,
          "long": -81.383,
          "name": "\"HICKORY REGIONAL AP\"",
          "state": "NC",
          "usaf": "723145"
         },
         {
          "GHI (W/m^2)": 180.26986301369863,
          "elev": 652,
          "lat": 35.433,
          "long": -82.533,
          "name": "\"ASHEVILLE REGIONAL ARPT\"",
          "state": "NC",
          "usaf": "723150"
         },
         {
          "GHI (W/m^2)": 178.79029680365298,
          "elev": 273,
          "lat": 36.1,
          "long": -79.95,
          "name": "\"GREENSBORO PIEDMONT TRIAD INT\"",
          "state": "NC",
          "usaf": "723170"
         },
         {
          "GHI (W/m^2)": 174.4488584474886,
          "elev": 457,
          "lat": 36.467,
          "long": -82.4,
          "name": "\"BRISTOL TRI CITY AIRPORT\"",
          "state": "TN",
          "usaf": "723183"
         },
         {
          "GHI (W/m^2)": 174.61712328767123,
          "elev": 296,
          "lat": 36.133,
          "long": -80.217,
          "name": "\"WINSTON-SALEM REYNOLDS AP\"",
          "state": "NC",
          "usaf": "723193"
         },
         {
          "GHI (W/m^2)": 176.0974885844749,
          "elev": 195,
          "lat": 34.35,
          "long": -85.167,
          "name": "\"ROME R B RUSSELL AP\"",
          "state": "GA",
          "usaf": "723200"
         },
         {
          "GHI (W/m^2)": 182.2826484018265,
          "elev": 190,
          "lat": 34.65,
          "long": -86.783,
          "name": "\"HUNTSVILLE INTL/JONES FIELD\"",
          "state": "AL",
          "usaf": "723230"
         },
         {
          "GHI (W/m^2)": 159.93972602739726,
          "elev": 165,
          "lat": 34.75,
          "long": -87.6,
          "name": "\"MUSCLE SHOALS REGIONAL AP\"",
          "state": "AL",
          "usaf": "723235"
         },
         {
          "GHI (W/m^2)": 178.75011415525114,
          "elev": 204,
          "lat": 35.033,
          "long": -85.2,
          "name": "\"CHATTANOOGA LOVELL FIELD AP\"",
          "state": "TN",
          "usaf": "723240"
         },
         {
          "GHI (W/m^2)": 178.29326484018264,
          "elev": 293,
          "lat": 35.817,
          "long": -83.983,
          "name": "\"KNOXVILLE MCGHEE TYSON AP\"",
          "state": "TN",
          "usaf": "723260"
         },
         {
          "GHI (W/m^2)": 161.43550228310502,
          "elev": 569,
          "lat": 35.95,
          "long": -85.083,
          "name": "\"CROSSVILLE MEMORIAL AP\"",
          "state": "TN",
          "usaf": "723265"
         },
         {
          "GHI (W/m^2)": 179.75730593607307,
          "elev": 177,
          "lat": 36.117,
          "long": -86.683,
          "name": "\"NASHVILLE INTERNATIONAL AP\"",
          "state": "TN",
          "usaf": "723270"
         },
         {
          "GHI (W/m^2)": 175.54052511415526,
          "elev": 146,
          "lat": 36.767,
          "long": -90.467,
          "name": "\"POPLAR BLUFF(AMOS)\"",
          "state": "MO",
          "usaf": "723300"
         },
         {
          "GHI (W/m^2)": 182.22842465753425,
          "elev": 68,
          "lat": 33.65,
          "long": -88.45,
          "name": "\"COLUMBUS AFB\"",
          "state": "MS",
          "usaf": "723306"
         },
         {
          "GHI (W/m^2)": 189.47420091324202,
          "elev": 80,
          "lat": 33.45,
          "long": -88.583,
          "name": "\"GOLDEN TRI(AWOS)\"",
          "state": "MS",
          "usaf": "723307"
         },
         {
          "GHI (W/m^2)": 181.76803652968036,
          "elev": 110,
          "lat": 34.267,
          "long": -88.767,
          "name": "\"TUPELO C D LEMONS ARPT\"",
          "state": "MS",
          "usaf": "723320"
         },
         {
          "GHI (W/m^2)": 187.20479452054795,
          "elev": 81,
          "lat": 35.067,
          "long": -89.983,
          "name": "\"MEMPHIS INTERNATIONAL AP\"",
          "state": "TN",
          "usaf": "723340"
         },
         {
          "GHI (W/m^2)": 176.80559360730592,
          "elev": 132,
          "lat": 35.6,
          "long": -88.917,
          "name": "\"JACKSON MCKELLAR-SIPES REGL A\"",
          "state": "TN",
          "usaf": "723346"
         },
         {
          "GHI (W/m^2)": 185.08858447488583,
          "elev": 103,
          "lat": 36.017,
          "long": -89.4,
          "name": "\"DYERSBURG MUNICIPAL AP\"",
          "state": "TN",
          "usaf": "723347"
         },
         {
          "GHI (W/m^2)": 186.91118721461189,
          "elev": 78,
          "lat": 34.75,
          "long": -92.233,
          "name": "\"LITTLE ROCK ADAMS FIELD\"",
          "state": "AR",
          "usaf": "723403"
         },
         {
          "GHI (W/m^2)": 173.86860730593608,
          "elev": 103,
          "lat": 34.917,
          "long": -92.15,
          "name": "\"LITTLE ROCK AFB\"",
          "state": "AR",
          "usaf": "723405"
         },
         {
          "GHI (W/m^2)": 178.83219178082192,
          "elev": 83,
          "lat": 36.133,
          "long": -90.917,
          "name": "\"WALNUT RIDGE (AWOS)\"",
          "state": "AR",
          "usaf": "723406"
         },
         {
          "GHI (W/m^2)": 176.91803652968036,
          "elev": 82,
          "lat": 35.833,
          "long": -90.65,
          "name": "\"JONESBORO MUNI\"",
          "state": "AR",
          "usaf": "723407"
         },
         {
          "GHI (W/m^2)": 169.04406392694065,
          "elev": 169,
          "lat": 34.467,
          "long": -93.1,
          "name": "\"MEMORIAL FLD\"",
          "state": "AR",
          "usaf": "723415"
         },
         {
          "GHI (W/m^2)": 189.9804794520548,
          "elev": 68,
          "lat": 34.6,
          "long": -91.567,
          "name": "\"STUTTGART (AWOS)\"",
          "state": "AR",
          "usaf": "723416"
         },
         {
          "GHI (W/m^2)": 177.8398401826484,
          "elev": 63,
          "lat": 34.167,
          "long": -91.933,
          "name": "\"PINE BLUFF FAA AP\"",
          "state": "AR",
          "usaf": "723417"
         },
         {
          "GHI (W/m^2)": 181.84657534246574,
          "elev": 110,
          "lat": 33.45,
          "long": -94,
          "name": "\"TEXARKANA WEBB FIELD\"",
          "state": "AR",
          "usaf": "723418"
         },
         {
          "GHI (W/m^2)": 182.96746575342465,
          "elev": 77,
          "lat": 33.217,
          "long": -92.817,
          "name": "\"EL DORADO GOODWIN FIELD\"",
          "state": "AR",
          "usaf": "723419"
         },
         {
          "GHI (W/m^2)": 175.13390410958905,
          "elev": 412,
          "lat": 36.183,
          "long": -94.117,
          "name": "\"SPRINGDALE MUNI\"",
          "state": "AR",
          "usaf": "723434"
         },
         {
          "GHI (W/m^2)": 191.69554794520548,
          "elev": 137,
          "lat": 35.333,
          "long": -94.367,
          "name": "\"FORT SMITH REGIONAL AP\"",
          "state": "AR",
          "usaf": "723440"
         },
         {
          "GHI (W/m^2)": 183.3884703196347,
          "elev": 364,
          "lat": 36.183,
          "long": -94.483,
          "name": "\"SILOAM SPRING(AWOS)\"",
          "state": "AR",
          "usaf": "723443"
         },
         {
          "GHI (W/m^2)": 181.1695205479452,
          "elev": 395,
          "lat": 36.35,
          "long": -94.217,
          "name": "\"BENTONVILLE (AWOS)\"",
          "state": "AR",
          "usaf": "723444"
         },
         {
          "GHI (W/m^2)": 175.44098173515982,
          "elev": 381,
          "lat": 36,
          "long": -94.167,
          "name": "\"FAYETTEVILLE DRAKE FIELD\"",
          "state": "AR",
          "usaf": "723445"
         },
         {
          "GHI (W/m^2)": 169.0066210045662,
          "elev": 419,
          "lat": 36.267,
          "long": -93.15,
          "name": "\"HARRISON FAA AP\"",
          "state": "AR",
          "usaf": "723446"
         },
         {
          "GHI (W/m^2)": 177.43550228310502,
          "elev": 350,
          "lat": 36.3,
          "long": -92.467,
          "name": "\"FLIPPIN (AWOS)\"",
          "state": "AR",
          "usaf": "723447"
         },
         {
          "GHI (W/m^2)": 182.14623287671233,
          "elev": 141,
          "lat": 35.733,
          "long": -91.65,
          "name": "\"BATESVILLE (AWOS)\"",
          "state": "AR",
          "usaf": "723448"
         },
         {
          "GHI (W/m^2)": 191.03630136986303,
          "elev": 415,
          "lat": 36.367,
          "long": -94.1,
          "name": "\"ROGERS (AWOS)\"",
          "state": "AR",
          "usaf": "723449"
         },
         {
          "GHI (W/m^2)": 169.3714611872146,
          "elev": 103,
          "lat": 37.233,
          "long": -89.567,
          "name": "\"CAPE GIRARDEAU MUNICIPAL AP\"",
          "state": "MO",
          "usaf": "723489"
         },
         {
          "GHI (W/m^2)": 179.15787671232877,
          "elev": 297,
          "lat": 37.15,
          "long": -94.5,
          "name": "\"JOPLIN MUNICIPAL AP\"",
          "state": "MO",
          "usaf": "723495"
         },
         {
          "GHI (W/m^2)": 205.0013698630137,
          "elev": 314,
          "lat": 33.983,
          "long": -98.5,
          "name": "\"WICHITA FALLS MUNICIPAL ARPT\"",
          "state": "TX",
          "usaf": "723510"
         },
         {
          "GHI (W/m^2)": 203.4216894977169,
          "elev": 414,
          "lat": 34.65,
          "long": -99.267,
          "name": "\"ALTUS AFB\"",
          "state": "OK",
          "usaf": "723520"
         },
         {
          "GHI (W/m^2)": 200.7283105022831,
          "elev": 478,
          "lat": 35,
          "long": -99.05,
          "name": "\"HOBART MUNICIPAL AP\"",
          "state": "OK",
          "usaf": "723525"
         },
         {
          "GHI (W/m^2)": 196.1054794520548,
          "elev": 586,
          "lat": 35.333,
          "long": -99.2,
          "name": "\"CLINTON-SHERMAN\"",
          "state": "OK",
          "usaf": "723526"
         },
         {
          "GHI (W/m^2)": 208.77956621004566,
          "elev": 668,
          "lat": 36.3,
          "long": -99.767,
          "name": "\"GAGE AIRPORT\"",
          "state": "OK",
          "usaf": "723527"
         },
         {
          "GHI (W/m^2)": 198.92351598173516,
          "elev": 398,
          "lat": 35.383,
          "long": -97.6,
          "name": "\"OKLAHOMA CITY WILL ROGERS WOR\"",
          "state": "OK",
          "usaf": "723530"
         },
         {
          "GHI (W/m^2)": 193.17796803652968,
          "elev": 408,
          "lat": 36.333,
          "long": -97.917,
          "name": "\"VANCE AFB\"",
          "state": "OK",
          "usaf": "723535"
         },
         {
          "GHI (W/m^2)": 189.50045662100456,
          "elev": 384,
          "lat": 35.417,
          "long": -97.383,
          "name": "\"OKLAHOMA CITY TINKER AFB\"",
          "state": "OK",
          "usaf": "723540"
         },
         {
          "GHI (W/m^2)": 184.8329908675799,
          "elev": 396,
          "lat": 35.533,
          "long": -97.65,
          "name": "\"OKLAHOMA CITY/WILEY\"",
          "state": "OK",
          "usaf": "723544"
         },
         {
          "GHI (W/m^2)": 186.93230593607305,
          "elev": 308,
          "lat": 36.15,
          "long": -97.083,
          "name": "\"STILLWATER RGNL\"",
          "state": "OK",
          "usaf": "723545"
         },
         {
          "GHI (W/m^2)": 189.3021689497717,
          "elev": 318,
          "lat": 36.61,
          "long": -97.49,
          "name": "\"PONCA CITY MUNICIPAL AP [SGP - ARM]\"",
          "state": "OK",
          "usaf": "723546"
         },
         {
          "GHI (W/m^2)": 200.69417808219177,
          "elev": 369,
          "lat": 34.65,
          "long": -98.4,
          "name": "\"FORT SILL POST FIELD AF\"",
          "state": "OK",
          "usaf": "723550"
         },
         {
          "GHI (W/m^2)": 189.2763698630137,
          "elev": 198,
          "lat": 36.2,
          "long": -95.883,
          "name": "\"TULSA INTERNATIONAL AIRPORT\"",
          "state": "OK",
          "usaf": "723560"
         },
         {
          "GHI (W/m^2)": 175.05388127853882,
          "elev": 218,
          "lat": 36.767,
          "long": -96.017,
          "name": "\"BARTLESVILLE/PHILLI\"",
          "state": "OK",
          "usaf": "723565"
         },
         {
          "GHI (W/m^2)": 188.34063926940638,
          "elev": 232,
          "lat": 34.9,
          "long": -95.783,
          "name": "\"MCALESTER MUNICIPAL AP\"",
          "state": "OK",
          "usaf": "723566"
         },
         {
          "GHI (W/m^2)": 198.60456621004568,
          "elev": 338,
          "lat": 34.567,
          "long": -98.417,
          "name": "\"LAWTON MUNICIPAL\"",
          "state": "OK",
          "usaf": "723575"
         },
         {
          "GHI (W/m^2)": 218.14908675799086,
          "elev": 1512,
          "lat": 36.45,
          "long": -103.15,
          "name": "\"CLAYTON MUNICIPAL AIRPARK\"",
          "state": "NM",
          "usaf": "723600"
         },
         {
          "GHI (W/m^2)": 202.55091324200913,
          "elev": 595,
          "lat": 34.433,
          "long": -100.283,
          "name": "\"CHILDRESS MUNICIPAL AP\"",
          "state": "TX",
          "usaf": "723604"
         },
         {
          "GHI (W/m^2)": 217.3222602739726,
          "elev": 1971,
          "lat": 35.517,
          "long": -108.783,
          "name": "\"GALLUP SEN CLARKE FLD\"",
          "state": "NM",
          "usaf": "723627"
         },
         {
          "GHI (W/m^2)": 210.44908675799087,
          "elev": 1068,
          "lat": 34.99,
          "long": -101.9,
          "name": "\"AMARILLO INTERNATIONAL AP [CANYON - UT]\"",
          "state": "TX",
          "usaf": "723630"
         },
         {
          "GHI (W/m^2)": 226.07305936073058,
          "elev": 1619,
          "lat": 35.04,
          "long": -106.62,
          "name": "\"ALBUQUERQUE INTL ARPT [ISIS]\"",
          "state": "NM",
          "usaf": "723650"
         },
         {
          "GHI (W/m^2)": 226.72511415525113,
          "elev": 1934,
          "lat": 35.617,
          "long": -106.083,
          "name": "\"SATA FE COUNTY MUNICIPAL AP\"",
          "state": "NM",
          "usaf": "723656"
         },
         {
          "GHI (W/m^2)": 221.96495433789954,
          "elev": 1675,
          "lat": 36.75,
          "long": -108.233,
          "name": "\"FARMINGTON FOUR CORNERS REGL\"",
          "state": "NM",
          "usaf": "723658"
         },
         {
          "GHI (W/m^2)": 221.96175799086757,
          "elev": 2161,
          "lat": 36.45,
          "long": -105.667,
          "name": "\"TAOS MUNI APT(AWOS)\"",
          "state": "NM",
          "usaf": "723663"
         },
         {
          "GHI (W/m^2)": 214.1054794520548,
          "elev": 1235,
          "lat": 35.183,
          "long": -103.6,
          "name": "\"TUCUMCARI FAA AP\"",
          "state": "NM",
          "usaf": "723676"
         },
         {
          "GHI (W/m^2)": 216.68801369863013,
          "elev": 2093,
          "lat": 35.65,
          "long": -105.15,
          "name": "\"LAS VEGAS MUNICIPAL ARPT\"",
          "state": "NM",
          "usaf": "723677"
         },
         {
          "GHI (W/m^2)": 237.1865296803653,
          "elev": 1033,
          "lat": 35.267,
          "long": -113.95,
          "name": "\"KINGMAN (AMOS)\"",
          "state": "AZ",
          "usaf": "723700"
         },
         {
          "GHI (W/m^2)": 223.62271689497717,
          "elev": 1304,
          "lat": 36.933,
          "long": -111.45,
          "name": "\"PAGE MUNI (AMOS)\"",
          "state": "AZ",
          "usaf": "723710"
         },
         {
          "GHI (W/m^2)": 222.79760273972602,
          "elev": 1537,
          "lat": 34.65,
          "long": -112.417,
          "name": "\"PRESCOTT LOVE FIELD\"",
          "state": "AZ",
          "usaf": "723723"
         },
         {
          "GHI (W/m^2)": 227.85924657534247,
          "elev": 1490,
          "lat": 35.033,
          "long": -110.717,
          "name": "\"WINSLOW MUNICIPAL AP\"",
          "state": "AZ",
          "usaf": "723740"
         },
         {
          "GHI (W/m^2)": 225.17077625570775,
          "elev": 1954,
          "lat": 34.267,
          "long": -110,
          "name": "\"SHOW LOW MUNICIPAL\"",
          "state": "AZ",
          "usaf": "723747"
         },
         {
          "GHI (W/m^2)": 216.72020547945206,
          "elev": 2132,
          "lat": 35.133,
          "long": -111.667,
          "name": "\"FLAGSTAFF PULLIAM ARPT\"",
          "state": "AZ",
          "usaf": "723755"
         },
         {
          "GHI (W/m^2)": 216.69440639269408,
          "elev": 2065,
          "lat": 35.95,
          "long": -112.15,
          "name": "\"GRAND CANYON NATL P\"",
          "state": "AZ",
          "usaf": "723783"
         },
         {
          "GHI (W/m^2)": 236.90936073059362,
          "elev": 279,
          "lat": 34.767,
          "long": -114.617,
          "name": "\"NEEDLES AIRPORT\"",
          "state": "CA",
          "usaf": "723805"
         },
         {
          "GHI (W/m^2)": 226.49440639269406,
          "elev": 706,
          "lat": 34.9,
          "long": -117.867,
          "name": "\"EDWARDS AFB\"",
          "state": "CA",
          "usaf": "723810"
         },
         {
          "GHI (W/m^2)": 238.54075342465754,
          "elev": 586,
          "lat": 34.85,
          "long": -116.8,
          "name": "\"DAGGETT BARSTOW-DAGGETT AP\"",
          "state": "CA",
          "usaf": "723815"
         },
         {
          "GHI (W/m^2)": 238.00627853881278,
          "elev": 713,
          "lat": 34.733,
          "long": -118.217,
          "name": "\"LANCASTER GEN WM FOX FIELD\"",
          "state": "CA",
          "usaf": "723816"
         },
         {
          "GHI (W/m^2)": 241.00673515981734,
          "elev": 769,
          "lat": 34.633,
          "long": -118.083,
          "name": "\"PALMDALE AIRPORT\"",
          "state": "CA",
          "usaf": "723820"
         },
         {
          "GHI (W/m^2)": 237.6335616438356,
          "elev": 1377,
          "lat": 34.75,
          "long": -118.717,
          "name": "\"SANDBERG\"",
          "state": "CA",
          "usaf": "723830"
         },
         {
          "GHI (W/m^2)": 216.30753424657533,
          "elev": 149,
          "lat": 35.433,
          "long": -119.05,
          "name": "\"BAKERSFIELD MEADOWS FIELD\"",
          "state": "CA",
          "usaf": "723840"
         },
         {
          "GHI (W/m^2)": 231.98424657534247,
          "elev": 648,
          "lat": 36.083,
          "long": -115.15,
          "name": "\"LAS VEGAS MCCARRAN INTL AP\"",
          "state": "NV",
          "usaf": "723860"
         },
         {
          "GHI (W/m^2)": 216.39326484018264,
          "elev": 573,
          "lat": 36.25,
          "long": -115.033,
          "name": "\"NELLIS AFB\"",
          "state": "NV",
          "usaf": "723865"
         },
         {
          "GHI (W/m^2)": 230.5576484018265,
          "elev": 935,
          "lat": 36.63,
          "long": -116.02,
          "name": "\"MERCURY DESERT ROCK AP [SURFRAD]\"",
          "state": "NV",
          "usaf": "723870"
         },
         {
          "GHI (W/m^2)": 214.7107305936073,
          "elev": 102,
          "lat": 36.783,
          "long": -119.717,
          "name": "\"FRESNO YOSEMITE INTL AP\"",
          "state": "CA",
          "usaf": "723890"
         },
         {
          "GHI (W/m^2)": 214.4716894977169,
          "elev": 135,
          "lat": 36.033,
          "long": -119.067,
          "name": "\"PORTERVILLE (AWOS)\"",
          "state": "CA",
          "usaf": "723895"
         },
         {
          "GHI (W/m^2)": 216.16232876712328,
          "elev": 89,
          "lat": 36.317,
          "long": -119.4,
          "name": "\"VISALIA MUNI (AWOS)\"",
          "state": "CA",
          "usaf": "723896"
         },
         {
          "GHI (W/m^2)": 208.6752283105023,
          "elev": 3,
          "lat": 34.117,
          "long": -119.117,
          "name": "\"POINT MUGU NF\"",
          "state": "CA",
          "usaf": "723910"
         },
         {
          "GHI (W/m^2)": 211.97488584474885,
          "elev": 3,
          "lat": 34.433,
          "long": -119.85,
          "name": "\"SANTA BARBARA MUNICIPAL AP\"",
          "state": "CA",
          "usaf": "723925"
         },
         {
          "GHI (W/m^2)": 207.2665525114155,
          "elev": 23,
          "lat": 34.217,
          "long": -119.083,
          "name": "\"CAMARILLO (AWOS)\"",
          "state": "CA",
          "usaf": "723926"
         },
         {
          "GHI (W/m^2)": 213.1049086757991,
          "elev": 11,
          "lat": 34.2,
          "long": -119.2,
          "name": "\"OXNARD AIRPORT\"",
          "state": "CA",
          "usaf": "723927"
         },
         {
          "GHI (W/m^2)": 216.0365296803653,
          "elev": 77,
          "lat": 34.917,
          "long": -120.467,
          "name": "\"SANTA MARIA PUBLIC ARPT\"",
          "state": "CA",
          "usaf": "723940"
         },
         {
          "GHI (W/m^2)": 227.67602739726027,
          "elev": 244,
          "lat": 35.667,
          "long": -120.633,
          "name": "\"PASO ROBLES MUNICIPAL ARPT\"",
          "state": "CA",
          "usaf": "723965"
         },
         {
          "GHI (W/m^2)": 177.37933789954337,
          "elev": 50,
          "lat": 37.517,
          "long": -77.317,
          "name": "\"RICHMOND INTERNATIONAL AP\"",
          "state": "VA",
          "usaf": "724010"
         },
         {
          "GHI (W/m^2)": 171.7329908675799,
          "elev": 60,
          "lat": 37.183,
          "long": -77.517,
          "name": "\"DINWIDDIE CO\"",
          "state": "VA",
          "usaf": "724014"
         },
         {
          "GHI (W/m^2)": 161.94954337899543,
          "elev": 190,
          "lat": 38.133,
          "long": -78.45,
          "name": "\"CHARLOTTESVILLE FAA\"",
          "state": "VA",
          "usaf": "724016"
         },
         {
          "GHI (W/m^2)": 169.7662100456621,
          "elev": 125,
          "lat": 37.35,
          "long": -78.433,
          "name": "\"FARMVILLE\"",
          "state": "VA",
          "usaf": "724017"
         },
         {
          "GHI (W/m^2)": 170.27990867579908,
          "elev": 15,
          "lat": 37.65,
          "long": -75.767,
          "name": "\"MELFA/ACCOMACK ARPT\"",
          "state": "VA",
          "usaf": "724026"
         },
         {
          "GHI (W/m^2)": 169.07785388127854,
          "elev": 82,
          "lat": 38.98,
          "long": -77.47,
          "name": "\"WASHINGTON DC DULLES INT'L AR [STERLING - ISIS]\"",
          "state": "VA",
          "usaf": "724030"
         },
         {
          "GHI (W/m^2)": 174.04098173515982,
          "elev": 26,
          "lat": 38.267,
          "long": -77.45,
          "name": "\"SHANNON ARPT\"",
          "state": "VA",
          "usaf": "724033"
         },
         {
          "GHI (W/m^2)": 175.6966894977169,
          "elev": 4,
          "lat": 38.5,
          "long": -77.3,
          "name": "\"QUANTICO MCAS\"",
          "state": "VA",
          "usaf": "724035"
         },
         {
          "GHI (W/m^2)": 191.30639269406393,
          "elev": 59,
          "lat": 38.717,
          "long": -77.517,
          "name": "\"MANASSAS MUNI(AWOS)\"",
          "state": "VA",
          "usaf": "724036"
         },
         {
          "GHI (W/m^2)": 166.84246575342465,
          "elev": 27,
          "lat": 38.717,
          "long": -77.183,
          "name": "\"DAVISON AAF\"",
          "state": "VA",
          "usaf": "724037"
         },
         {
          "GHI (W/m^2)": 173.77739726027397,
          "elev": 14,
          "lat": 38.3,
          "long": -76.417,
          "name": "\"PATUXENT RIVER NAS\"",
          "state": "MD",
          "usaf": "724040"
         },
         {
          "GHI (W/m^2)": 171.550799086758,
          "elev": 15,
          "lat": 38.333,
          "long": -75.517,
          "name": "\"SALISBURY WICOMICO CO AP\"",
          "state": "MD",
          "usaf": "724045"
         },
         {
          "GHI (W/m^2)": 166.27100456621005,
          "elev": 3,
          "lat": 38.867,
          "long": -77.033,
          "name": "\"WASHINGTON DC REAGAN AP\"",
          "state": "VA",
          "usaf": "724050"
         },
         {
          "GHI (W/m^2)": 172.51221461187214,
          "elev": 222,
          "lat": 39.15,
          "long": -78.15,
          "name": "\"WINCHESTER RGNL\"",
          "state": "VA",
          "usaf": "724053"
         },
         {
          "GHI (W/m^2)": 167.08812785388128,
          "elev": 119,
          "lat": 39.083,
          "long": -77.567,
          "name": "\"LEESBURG/GODFREY\"",
          "state": "VA",
          "usaf": "724055"
         },
         {
          "GHI (W/m^2)": 166.46929223744291,
          "elev": 780,
          "lat": 36.9,
          "long": -81.35,
          "name": "\"MARION / WYTHEVILLE\"",
          "state": "VA",
          "usaf": "724056"
         },
         {
          "GHI (W/m^2)": 168.6343607305936,
          "elev": 631,
          "lat": 36.683,
          "long": -82.033,
          "name": "\"ABINGTON\"",
          "state": "VA",
          "usaf": "724058"
         },
         {
          "GHI (W/m^2)": 169.90319634703195,
          "elev": 45,
          "lat": 39.167,
          "long": -76.683,
          "name": "\"BALTIMORE BLT-WASHNGTN INT'L\"",
          "state": "MD",
          "usaf": "724060"
         },
         {
          "GHI (W/m^2)": 154.53093607305937,
          "elev": 220,
          "lat": 39.7,
          "long": -77.733,
          "name": "\"HAGERSTOWN RGNL RIC\"",
          "state": "MD",
          "usaf": "724066"
         },
         {
          "GHI (W/m^2)": 168.94406392694063,
          "elev": 18,
          "lat": 39.45,
          "long": -74.567,
          "name": "\"ATLANTIC CITY INTL AP\"",
          "state": "NJ",
          "usaf": "724070"
         },
         {
          "GHI (W/m^2)": 159.51849315068492,
          "elev": 21,
          "lat": 39.367,
          "long": -75.083,
          "name": "\"MILLVILLE MUNICIPAL AP\"",
          "state": "NJ",
          "usaf": "724075"
         },
         {
          "GHI (W/m^2)": 167.69577625570776,
          "elev": 2,
          "lat": 39.867,
          "long": -75.233,
          "name": "\"PHILADELPHIA INTERNATIONAL AP\"",
          "state": "PA",
          "usaf": "724080"
         },
         {
          "GHI (W/m^2)": 172.16095890410958,
          "elev": 26,
          "lat": 40.183,
          "long": -74.067,
          "name": "\"BELMAR ASC\"",
          "state": "NJ",
          "usaf": "724084"
         },
         {
          "GHI (W/m^2)": 159.57408675799087,
          "elev": 30,
          "lat": 40.083,
          "long": -75.017,
          "name": "\"PHILADELPHIA NE PHILADELPHIA\"",
          "state": "PA",
          "usaf": "724085"
         },
         {
          "GHI (W/m^2)": 165.2640410958904,
          "elev": 102,
          "lat": 40.2,
          "long": -75.15,
          "name": "\"WILLOW GROVE NAS\"",
          "state": "PA",
          "usaf": "724086"
         },
         {
          "GHI (W/m^2)": 160.6812785388128,
          "elev": 7,
          "lat": 39.133,
          "long": -75.467,
          "name": "\"DOVER AFB\"",
          "state": "DE",
          "usaf": "724088"
         },
         {
          "GHI (W/m^2)": 168.7845890410959,
          "elev": 23,
          "lat": 39.667,
          "long": -75.6,
          "name": "\"WILMINGTON NEW CASTLE CNTY AP\"",
          "state": "DE",
          "usaf": "724089"
         },
         {
          "GHI (W/m^2)": 156.19155251141552,
          "elev": 53,
          "lat": 40.883,
          "long": -74.283,
          "name": "\"CALDWELL/ESSEX CO.\"",
          "state": "NJ",
          "usaf": "724094"
         },
         {
          "GHI (W/m^2)": 163.72180365296805,
          "elev": 65,
          "lat": 40.283,
          "long": -74.817,
          "name": "\"TRENTON MERCER COUNTY AP\"",
          "state": "NJ",
          "usaf": "724095"
         },
         {
          "GHI (W/m^2)": 158.0648401826484,
          "elev": 45,
          "lat": 40.017,
          "long": -74.6,
          "name": "\"MCGUIRE AFB\"",
          "state": "NJ",
          "usaf": "724096"
         },
         {
          "GHI (W/m^2)": 182.35730593607306,
          "elev": 286,
          "lat": 37.333,
          "long": -79.2,
          "name": "\"LYNCHBURG REGIONAL ARPT\"",
          "state": "VA",
          "usaf": "724100"
         },
         {
          "GHI (W/m^2)": 175.60091324200914,
          "elev": 366,
          "lat": 38.267,
          "long": -78.9,
          "name": "\"STAUNTON/SHENANDOAH\"",
          "state": "VA",
          "usaf": "724105"
         },
         {
          "GHI (W/m^2)": 163.42043378995433,
          "elev": 176,
          "lat": 36.567,
          "long": -79.333,
          "name": "\"DANVILLE FAA AP\"",
          "state": "VA",
          "usaf": "724106"
         },
         {
          "GHI (W/m^2)": 185.45559360730593,
          "elev": 834,
          "lat": 36.767,
          "long": -80.817,
          "name": "\"HILLSVILLE\"",
          "state": "VA",
          "usaf": "724107"
         },
         {
          "GHI (W/m^2)": 175.96141552511415,
          "elev": 350,
          "lat": 37.317,
          "long": -79.967,
          "name": "\"ROANOKE REGIONAL AP\"",
          "state": "VA",
          "usaf": "724110"
         },
         {
          "GHI (W/m^2)": 165.1747716894977,
          "elev": 650,
          "lat": 37.217,
          "long": -80.417,
          "name": "\"VIRGINIA TECH ARPT\"",
          "state": "VA",
          "usaf": "724113"
         },
         {
          "GHI (W/m^2)": 162.28082191780823,
          "elev": 1156,
          "lat": 37.95,
          "long": -79.833,
          "name": "\"HOT SPRINGS/INGALLS\"",
          "state": "VA",
          "usaf": "724115"
         },
         {
          "GHI (W/m^2)": 165.81586757990868,
          "elev": 642,
          "lat": 37.133,
          "long": -80.683,
          "name": "\"PULASKI\"",
          "state": "VA",
          "usaf": "724116"
         },
         {
          "GHI (W/m^2)": 172.46563926940638,
          "elev": 817,
          "lat": 36.983,
          "long": -82.533,
          "name": "\"WISE/LONESOME PINE\"",
          "state": "VA",
          "usaf": "724117"
         },
         {
          "GHI (W/m^2)": 154.16095890410958,
          "elev": 763,
          "lat": 37.8,
          "long": -81.117,
          "name": "\"BECKLEY RALEIGH CO MEM AP\"",
          "state": "WV",
          "usaf": "724120"
         },
         {
          "GHI (W/m^2)": 157.74988584474886,
          "elev": 803,
          "lat": 37.27,
          "long": -81.24,
          "name": "\"BLUEFIELD/MERCER CO [NREL]\"",
          "state": "WV",
          "usaf": "724125"
         },
         {
          "GHI (W/m^2)": 147.69292237442923,
          "elev": 702,
          "lat": 37.867,
          "long": -80.4,
          "name": "\"LEWISBURG/GREENBRIE\"",
          "state": "WV",
          "usaf": "724127"
         },
         {
          "GHI (W/m^2)": 168.07157534246576,
          "elev": 310,
          "lat": 38.383,
          "long": -81.583,
          "name": "\"CHARLESTON YEAGER ARPT\"",
          "state": "WV",
          "usaf": "724140"
         },
         {
          "GHI (W/m^2)": 154.68687214611873,
          "elev": 594,
          "lat": 38.883,
          "long": -79.85,
          "name": "\"ELKINS ELKINS-RANDOLPH CO ARP\"",
          "state": "WV",
          "usaf": "724170"
         },
         {
          "GHI (W/m^2)": 152.77431506849314,
          "elev": 380,
          "lat": 39.283,
          "long": -80.233,
          "name": "\"HARRISON MARION RGN\"",
          "state": "WV",
          "usaf": "724175"
         },
         {
          "GHI (W/m^2)": 141.4453196347032,
          "elev": 378,
          "lat": 39.65,
          "long": -79.917,
          "name": "\"MORGANTOWN HART FIELD\"",
          "state": "WV",
          "usaf": "724176"
         },
         {
          "GHI (W/m^2)": 154.7043378995434,
          "elev": 162,
          "lat": 39.4,
          "long": -77.983,
          "name": "\"MARTINSBURG EASTERN WV REG AP\"",
          "state": "WV",
          "usaf": "724177"
         },
         {
          "GHI (W/m^2)": 165.93150684931507,
          "elev": 265,
          "lat": 39.05,
          "long": -84.667,
          "name": "\"CINCINNATI NORTHERN KY AP\"",
          "state": "KY",
          "usaf": "724210"
         },
         {
          "GHI (W/m^2)": 168.25559360730594,
          "elev": 294,
          "lat": 38.033,
          "long": -84.6,
          "name": "\"LEXINGTON BLUEGRASS AP\"",
          "state": "KY",
          "usaf": "724220"
         },
         {
          "GHI (W/m^2)": 173.89988584474887,
          "elev": 147,
          "lat": 38.183,
          "long": -85.733,
          "name": "\"LOUISVILLE STANDIFORD FIELD\"",
          "state": "KY",
          "usaf": "724230"
         },
         {
          "GHI (W/m^2)": 153.51255707762556,
          "elev": 165,
          "lat": 38.233,
          "long": -85.667,
          "name": "\"LOUISVILLE BOWMAN FIELD\"",
          "state": "KY",
          "usaf": "724235"
         },
         {
          "GHI (W/m^2)": 167.09063926940638,
          "elev": 416,
          "lat": 37.583,
          "long": -83.317,
          "name": "\"JACKSON JULIAN CARROLL AP\"",
          "state": "KY",
          "usaf": "724236"
         },
         {
          "GHI (W/m^2)": 176.99851598173515,
          "elev": 117,
          "lat": 37.817,
          "long": -87.683,
          "name": "\"HENDERSON CITY\"",
          "state": "KY",
          "usaf": "724238"
         },
         {
          "GHI (W/m^2)": 162.64623287671233,
          "elev": 239,
          "lat": 37.9,
          "long": -85.967,
          "name": "\"FORT KNOX GODMAN AAF\"",
          "state": "KY",
          "usaf": "724240"
         },
         {
          "GHI (W/m^2)": 164.45856164383562,
          "elev": 362,
          "lat": 37.083,
          "long": -84.083,
          "name": "\"LONDON-CORBIN AP\"",
          "state": "KY",
          "usaf": "724243"
         },
         {
          "GHI (W/m^2)": 165.1150684931507,
          "elev": 253,
          "lat": 38.383,
          "long": -82.55,
          "name": "\"HUNTINGTON TRI-STATE ARPT\"",
          "state": "WV",
          "usaf": "724250"
         },
         {
          "GHI (W/m^2)": 144.5626712328767,
          "elev": 253,
          "lat": 39.35,
          "long": -81.433,
          "name": "\"PARKERSBURG WOOD COUNTY AP\"",
          "state": "WV",
          "usaf": "724273"
         },
         {
          "GHI (W/m^2)": 152.82054794520548,
          "elev": 359,
          "lat": 40.183,
          "long": -80.65,
          "name": "\"WHEELING OHIO COUNTY AP\"",
          "state": "WV",
          "usaf": "724275"
         },
         {
          "GHI (W/m^2)": 158.8986301369863,
          "elev": 247,
          "lat": 39.983,
          "long": -82.883,
          "name": "\"COLUMBUS PORT COLUMBUS INTL A\"",
          "state": "OH",
          "usaf": "724280"
         },
         {
          "GHI (W/m^2)": 141.1546803652968,
          "elev": 268,
          "lat": 39.95,
          "long": -81.9,
          "name": "\"ZANESVILLE MUNICIPAL AP\"",
          "state": "OH",
          "usaf": "724286"
         },
         {
          "GHI (W/m^2)": 152.52888127853882,
          "elev": 283,
          "lat": 40.067,
          "long": -83.067,
          "name": "\"OHIO STATE UNIVERSI\"",
          "state": "OH",
          "usaf": "724288"
         },
         {
          "GHI (W/m^2)": 162.5189497716895,
          "elev": 305,
          "lat": 39.9,
          "long": -84.217,
          "name": "\"DAYTON INTERNATIONAL AIRPORT\"",
          "state": "OH",
          "usaf": "724290"
         },
         {
          "GHI (W/m^2)": 154.52865296803654,
          "elev": 149,
          "lat": 39.1,
          "long": -84.417,
          "name": "\"CINCINNATI MUNICIPAL AP LUNKI\"",
          "state": "OH",
          "usaf": "724297"
         },
         {
          "GHI (W/m^2)": 176.53789954337898,
          "elev": 116,
          "lat": 38.05,
          "long": -87.533,
          "name": "\"EVANSVILLE REGIONAL AP\"",
          "state": "IN",
          "usaf": "724320"
         },
         {
          "GHI (W/m^2)": 169.3033105022831,
          "elev": 146,
          "lat": 38.317,
          "long": -88.867,
          "name": "\"MOUNT VERNON (AWOS)\"",
          "state": "IL",
          "usaf": "724335"
         },
         {
          "GHI (W/m^2)": 158.39372146118723,
          "elev": 128,
          "lat": 37.767,
          "long": -89.25,
          "name": "\"SOUTHERN ILLINOIS\"",
          "state": "IL",
          "usaf": "724336"
         },
         {
          "GHI (W/m^2)": 169.11324200913242,
          "elev": 135,
          "lat": 38.55,
          "long": -89.85,
          "name": "\"BELLEVILLE SCOTT AFB\"",
          "state": "IL",
          "usaf": "724338"
         },
         {
          "GHI (W/m^2)": 157.65034246575343,
          "elev": 144,
          "lat": 37.75,
          "long": -89.017,
          "name": "\"MARION REGIONAL\"",
          "state": "IL",
          "usaf": "724339"
         },
         {
          "GHI (W/m^2)": 175.14988584474887,
          "elev": 173,
          "lat": 38.75,
          "long": -90.367,
          "name": "\"ST LOUIS LAMBERT INT'L ARPT\"",
          "state": "MO",
          "usaf": "724340"
         },
         {
          "GHI (W/m^2)": 170.02728310502283,
          "elev": 141,
          "lat": 38.65,
          "long": -90.65,
          "name": "\"ST LOUIS SPIRIT OF ST LOUIS A\"",
          "state": "MO",
          "usaf": "724345"
         },
         {
          "GHI (W/m^2)": 173.54075342465754,
          "elev": 124,
          "lat": 37.05,
          "long": -88.767,
          "name": "\"PADUCAH BARKLEY REGIONAL AP\"",
          "state": "KY",
          "usaf": "724350"
         },
         {
          "GHI (W/m^2)": 169.9851598173516,
          "elev": 283,
          "lat": 38,
          "long": -84.6,
          "name": "\"SOMERSET(AWOS)\"",
          "state": "KY",
          "usaf": "724354"
         },
         {
          "GHI (W/m^2)": 175.93367579908676,
          "elev": 161,
          "lat": 38.25,
          "long": -86.95,
          "name": "\"HUNTINGBURG\"",
          "state": "IN",
          "usaf": "724365"
         },
         {
          "GHI (W/m^2)": 148.1025114155251,
          "elev": 175,
          "lat": 39.45,
          "long": -87.3,
          "name": "\"TERRE HAUTE HULMAN REGIONAL A\"",
          "state": "IN",
          "usaf": "724373"
         },
         {
          "GHI (W/m^2)": 145.4203196347032,
          "elev": 264,
          "lat": 39.133,
          "long": -86.617,
          "name": "\"MONROE CO\"",
          "state": "IN",
          "usaf": "724375"
         },
         {
          "GHI (W/m^2)": 171.28881278538813,
          "elev": 241,
          "lat": 39.717,
          "long": -86.267,
          "name": "\"INDIANAPOLIS INTL AP\"",
          "state": "IN",
          "usaf": "724380"
         },
         {
          "GHI (W/m^2)": 148.77728310502283,
          "elev": 183,
          "lat": 40.417,
          "long": -86.933,
          "name": "\"LAFAYETTE PURDUE UNIV AP\"",
          "state": "IN",
          "usaf": "724386"
         },
         {
          "GHI (W/m^2)": 173.42808219178082,
          "elev": 179,
          "lat": 39.85,
          "long": -89.683,
          "name": "\"SPRINGFIELD CAPITAL AP\"",
          "state": "IL",
          "usaf": "724390"
         },
         {
          "GHI (W/m^2)": 155.563698630137,
          "elev": 233,
          "lat": 39.933,
          "long": -91.2,
          "name": "\"QUINCY MUNI BALDWIN FLD\"",
          "state": "IL",
          "usaf": "724396"
         },
         {
          "GHI (W/m^2)": 159.35422374429223,
          "elev": 272,
          "lat": 40.467,
          "long": -88.917,
          "name": "\"CENTRAL ILLINOIS RG\"",
          "state": "IL",
          "usaf": "724397"
         },
         {
          "GHI (W/m^2)": 181.0912100456621,
          "elev": 384,
          "lat": 37.233,
          "long": -93.383,
          "name": "\"SPRINGFIELD REGIONAL ARPT\"",
          "state": "MO",
          "usaf": "724400"
         },
         {
          "GHI (W/m^2)": 180.13698630136986,
          "elev": 272,
          "lat": 38.817,
          "long": -92.217,
          "name": "\"COLUMBIA REGIONAL AIRPORT\"",
          "state": "MO",
          "usaf": "724450"
         },
         {
          "GHI (W/m^2)": 186.26997716894977,
          "elev": 274,
          "lat": 37.767,
          "long": -90.4,
          "name": "\"FARMINGTON\"",
          "state": "MO",
          "usaf": "724454"
         },
         {
          "GHI (W/m^2)": 161.17808219178082,
          "elev": 294,
          "lat": 40.1,
          "long": -92.55,
          "name": "\"KIRKSVILLE REGIONAL AP\"",
          "state": "MO",
          "usaf": "724455"
         },
         {
          "GHI (W/m^2)": 157.5497716894977,
          "elev": 336,
          "lat": 38.133,
          "long": -91.767,
          "name": "\"VICHY ROLLA NATL ARPT\"",
          "state": "MO",
          "usaf": "724456"
         },
         {
          "GHI (W/m^2)": 169.3970319634703,
          "elev": 351,
          "lat": 37.75,
          "long": -92.15,
          "name": "\"FT LNRD WD AAF\"",
          "state": "MO",
          "usaf": "724457"
         },
         {
          "GHI (W/m^2)": 174.99566210045663,
          "elev": 167,
          "lat": 38.583,
          "long": -92.15,
          "name": "\"JEFFERSON CITY MEM\"",
          "state": "MO",
          "usaf": "724458"
         },
         {
          "GHI (W/m^2)": 170.561301369863,
          "elev": 265,
          "lat": 38.1,
          "long": -92.55,
          "name": "\"KAISER MEM (AWOS)\"",
          "state": "MO",
          "usaf": "724459"
         },
         {
          "GHI (W/m^2)": 181.18801369863013,
          "elev": 298,
          "lat": 39.3,
          "long": -94.717,
          "name": "\"KANSAS CITY INT'L ARPT\"",
          "state": "MO",
          "usaf": "724460"
         },
         {
          "GHI (W/m^2)": 165.15068493150685,
          "elev": 226,
          "lat": 39.117,
          "long": -94.6,
          "name": "\"KANSAS CITY DOWNTOWN AP\"",
          "state": "MO",
          "usaf": "724463"
         },
         {
          "GHI (W/m^2)": 176.2837899543379,
          "elev": 255,
          "lat": 38.717,
          "long": -93.55,
          "name": "\"WHITEMAN AFB\"",
          "state": "MO",
          "usaf": "724467"
         },
         {
          "GHI (W/m^2)": 177.62157534246575,
          "elev": 334,
          "lat": 38.85,
          "long": -94.733,
          "name": "\"OLATHE/JOHNSON CO.\"",
          "state": "KS",
          "usaf": "724468"
         },
         {
          "GHI (W/m^2)": 177.9087899543379,
          "elev": 331,
          "lat": 38.833,
          "long": -94.883,
          "name": "\"OLATHE JOHNSON CO INDUSTRIAL\"",
          "state": "KS",
          "usaf": "724475"
         },
         {
          "GHI (W/m^2)": 171.59075342465752,
          "elev": 247,
          "lat": 39.767,
          "long": -94.9,
          "name": "\"ST JOSEPH ROSECRANS MEMORIAL\"",
          "state": "MO",
          "usaf": "724490"
         },
         {
          "GHI (W/m^2)": 192.34657534246574,
          "elev": 402,
          "lat": 37.65,
          "long": -97.433,
          "name": "\"WICHITA MID-CONTINENT AP\"",
          "state": "KS",
          "usaf": "724500"
         },
         {
          "GHI (W/m^2)": 191.0582191780822,
          "elev": 433,
          "lat": 37.75,
          "long": -97.217,
          "name": "\"WICHITA/COL. JABARA\"",
          "state": "KS",
          "usaf": "724504"
         },
         {
          "GHI (W/m^2)": 178.28470319634704,
          "elev": 414,
          "lat": 37.617,
          "long": -97.267,
          "name": "\"MCCONNELL AFB\"",
          "state": "KS",
          "usaf": "724505"
         },
         {
          "GHI (W/m^2)": 190.04041095890412,
          "elev": 463,
          "lat": 38.067,
          "long": -97.867,
          "name": "\"HUTCHINSON MUNICIPAL AP\"",
          "state": "KS",
          "usaf": "724506"
         },
         {
          "GHI (W/m^2)": 173.68333333333334,
          "elev": 298,
          "lat": 37.667,
          "long": -95.483,
          "name": "\"CHANUTE MARTIN JOHNSON AP\"",
          "state": "KS",
          "usaf": "724507"
         },
         {
          "GHI (W/m^2)": 187.3675799086758,
          "elev": 467,
          "lat": 38.05,
          "long": -97.283,
          "name": "\"NEWTON (AWOS)\"",
          "state": "KS",
          "usaf": "724509"
         },
         {
          "GHI (W/m^2)": 202.22785388127855,
          "elev": 785,
          "lat": 37.767,
          "long": -99.967,
          "name": "\"DODGE CITY REGIONAL AP\"",
          "state": "KS",
          "usaf": "724510"
         },
         {
          "GHI (W/m^2)": 196.9972602739726,
          "elev": 878,
          "lat": 37.933,
          "long": -100.717,
          "name": "\"GARDEN CITY MUNICIPAL AP\"",
          "state": "KS",
          "usaf": "724515"
         },
         {
          "GHI (W/m^2)": 205.64463470319635,
          "elev": 901,
          "lat": 37.033,
          "long": -100.967,
          "name": "\"LIBERAL MUNI\"",
          "state": "KS",
          "usaf": "724516"
         },
         {
          "GHI (W/m^2)": 198.03082191780823,
          "elev": 575,
          "lat": 38.35,
          "long": -98.867,
          "name": "\"GREAT BEND (AWOS)\"",
          "state": "KS",
          "usaf": "724517"
         },
         {
          "GHI (W/m^2)": 191.88824200913243,
          "elev": 609,
          "lat": 38.85,
          "long": -99.267,
          "name": "\"HAYS MUNI (AWOS)\"",
          "state": "KS",
          "usaf": "724518"
         },
         {
          "GHI (W/m^2)": 173.40833333333333,
          "elev": 324,
          "lat": 39.05,
          "long": -96.767,
          "name": "\"FORT RILEY MARSHALL AAF\"",
          "state": "KS",
          "usaf": "724550"
         },
         {
          "GHI (W/m^2)": 172.82876712328766,
          "elev": 330,
          "lat": 39.133,
          "long": -96.667,
          "name": "\"MANHATTAN RGNL\"",
          "state": "KS",
          "usaf": "724555"
         },
         {
          "GHI (W/m^2)": 169.18561643835616,
          "elev": 368,
          "lat": 38.333,
          "long": -96.183,
          "name": "\"EMPORIA MUNICIPAL AP\"",
          "state": "KS",
          "usaf": "724556"
         },
         {
          "GHI (W/m^2)": 178.83310502283106,
          "elev": 269,
          "lat": 39.067,
          "long": -95.633,
          "name": "\"TOPEKA MUNICIPAL AP\"",
          "state": "KS",
          "usaf": "724560"
         },
         {
          "GHI (W/m^2)": 179.55399543378996,
          "elev": 325,
          "lat": 38.95,
          "long": -95.667,
          "name": "\"TOPEKA FORBES FIELD\"",
          "state": "KS",
          "usaf": "724565"
         },
         {
          "GHI (W/m^2)": 181.10228310502282,
          "elev": 448,
          "lat": 39.55,
          "long": -97.65,
          "name": "\"CONCORDIA BLOSSER MUNI AP\"",
          "state": "KS",
          "usaf": "724580"
         },
         {
          "GHI (W/m^2)": 179.32739726027398,
          "elev": 566,
          "lat": 38.883,
          "long": -98.817,
          "name": "\"RUSSELL MUNICIPAL AP\"",
          "state": "KS",
          "usaf": "724585"
         },
         {
          "GHI (W/m^2)": 181.8288812785388,
          "elev": 385,
          "lat": 38.817,
          "long": -97.667,
          "name": "\"SALINA MUNICIPAL AP\"",
          "state": "KS",
          "usaf": "724586"
         },
         {
          "GHI (W/m^2)": 223.23059360730593,
          "elev": 2296,
          "lat": 37.433,
          "long": -105.867,
          "name": "\"ALAMOSA SAN LUIS VALLEY RGNL\"",
          "state": "CO",
          "usaf": "724620"
         },
         {
          "GHI (W/m^2)": 212.26678082191782,
          "elev": 2038,
          "lat": 37.15,
          "long": -107.75,
          "name": "\"DURANGO/LA PLATA CO\"",
          "state": "CO",
          "usaf": "724625"
         },
         {
          "GHI (W/m^2)": 200.68801369863013,
          "elev": 1281,
          "lat": 38.05,
          "long": -103.533,
          "name": "\"LA JUNTA MUNICIPAL AP\"",
          "state": "CO",
          "usaf": "724635"
         },
         {
          "GHI (W/m^2)": 204.29748858447488,
          "elev": 1129,
          "lat": 38.067,
          "long": -102.683,
          "name": "\"LAMAR MUNICIPAL\"",
          "state": "CO",
          "usaf": "724636"
         },
         {
          "GHI (W/m^2)": 210.85,
          "elev": 1428,
          "lat": 38.283,
          "long": -104.5,
          "name": "\"PUEBLO MEMORIAL AP\"",
          "state": "CO",
          "usaf": "724640"
         },
         {
          "GHI (W/m^2)": 209.09737442922375,
          "elev": 1751,
          "lat": 37.267,
          "long": -104.333,
          "name": "\"TRINIDAD LAS ANIMAS COUNTY AP\"",
          "state": "CO",
          "usaf": "724645"
         },
         {
          "GHI (W/m^2)": 199.1041095890411,
          "elev": 1111,
          "lat": 39.367,
          "long": -101.7,
          "name": "\"GOODLAND RENNER FIELD\"",
          "state": "KS",
          "usaf": "724650"
         },
         {
          "GHI (W/m^2)": 184.16997716894977,
          "elev": 667,
          "lat": 39.383,
          "long": -99.833,
          "name": "\"HILL CITY MUNICIPAL AP\"",
          "state": "KS",
          "usaf": "724655"
         },
         {
          "GHI (W/m^2)": 196.90947488584476,
          "elev": 1872,
          "lat": 38.817,
          "long": -104.717,
          "name": "\"COLORADO SPRINGS MUNI AP\"",
          "state": "CO",
          "usaf": "724660"
         },
         {
          "GHI (W/m^2)": 194.60753424657534,
          "elev": 1695,
          "lat": 39.183,
          "long": -103.717,
          "name": "\"LIMON\"",
          "state": "CO",
          "usaf": "724665"
         },
         {
          "GHI (W/m^2)": 184.9255707762557,
          "elev": 1829,
          "lat": 39.742,
          "long": -105.179,
          "name": "\"DENVER/CENTENNIAL [GOLDEN - NREL]\"",
          "state": "CO",
          "usaf": "724666"
         },
         {
          "GHI (W/m^2)": 191.01837899543378,
          "elev": 3026,
          "lat": 39.217,
          "long": -106.317,
          "name": "\"LEADVILLE/LAKE CO.\"",
          "state": "CO",
          "usaf": "724673"
         },
         {
          "GHI (W/m^2)": 193.8,
          "elev": 1980,
          "lat": 39.65,
          "long": -106.917,
          "name": "\"EAGLE COUNTY AP\"",
          "state": "CO",
          "usaf": "724675"
         },
         {
          "GHI (W/m^2)": 197.70011415525113,
          "elev": 2444,
          "lat": 39.217,
          "long": -106.867,
          "name": "\"ASPEN PITKIN CO SAR\"",
          "state": "CO",
          "usaf": "724676"
         },
         {
          "GHI (W/m^2)": 209.80011415525115,
          "elev": 2339,
          "lat": 38.533,
          "long": -106.933,
          "name": "\"GUNNISON CO. (AWOS)\"",
          "state": "CO",
          "usaf": "724677"
         },
         {
          "GHI (W/m^2)": 189.54029680365298,
          "elev": 1726,
          "lat": 39.717,
          "long": -104.75,
          "name": "\"AURORA BUCKLEY FIELD ANGB\"",
          "state": "CO",
          "usaf": "724695"
         },
         {
          "GHI (W/m^2)": 193.15867579908675,
          "elev": 1421,
          "lat": 40.167,
          "long": -103.233,
          "name": "\"AKRON WASHINGTON CO AP\"",
          "state": "CO",
          "usaf": "724698"
         },
         {
          "GHI (W/m^2)": 188.88093607305936,
          "elev": 1689,
          "lat": 40.13,
          "long": -105.24,
          "name": "\"BROOMFIELD/JEFFCO [BOULDER - SURFRAD]\"",
          "state": "CO",
          "usaf": "724699"
         },
         {
          "GHI (W/m^2)": 209.3961187214612,
          "elev": 1841,
          "lat": 37.617,
          "long": -109.483,
          "name": "\"BLANDING\"",
          "state": "UT",
          "usaf": "724723"
         },
         {
          "GHI (W/m^2)": 201.27328767123288,
          "elev": 1313,
          "lat": 38.367,
          "long": -110.717,
          "name": "\"HANKSVILLE\"",
          "state": "UT",
          "usaf": "724735"
         },
         {
          "GHI (W/m^2)": 229.4708904109589,
          "elev": 896,
          "lat": 37.083,
          "long": -113.6,
          "name": "\"SAINT GEORGE (AWOS)\"",
          "state": "UT",
          "usaf": "724754"
         },
         {
          "GHI (W/m^2)": 215.79360730593606,
          "elev": 1703,
          "lat": 37.7,
          "long": -113.1,
          "name": "\"CEDAR CITY MUNICIPAL AP\"",
          "state": "UT",
          "usaf": "724755"
         },
         {
          "GHI (W/m^2)": 207.82956621004567,
          "elev": 2312,
          "lat": 37.7,
          "long": -112.15,
          "name": "\"BRYCE CNYN FAA AP\"",
          "state": "UT",
          "usaf": "724756"
         },
         {
          "GHI (W/m^2)": 207.13059360730594,
          "elev": 1475,
          "lat": 39.133,
          "long": -108.533,
          "name": "\"GRAND JUNCTION WALKER FIELD\"",
          "state": "CO",
          "usaf": "724760"
         },
         {
          "GHI (W/m^2)": 190.43550228310502,
          "elev": 1755,
          "lat": 38.5,
          "long": -107.9,
          "name": "\"MONTROSE CO. ARPT\"",
          "state": "CO",
          "usaf": "724765"
         },
         {
          "GHI (W/m^2)": 212.16837899543378,
          "elev": 1803,
          "lat": 37.3,
          "long": -108.633,
          "name": "\"CORTEZ/MONTEZUMA CO\"",
          "state": "CO",
          "usaf": "724767"
         },
         {
          "GHI (W/m^2)": 192.163698630137,
          "elev": 1420,
          "lat": 40.433,
          "long": -104.633,
          "name": "\"GREELEY/WELD (AWOS)\"",
          "state": "CO",
          "usaf": "724768"
         },
         {
          "GHI (W/m^2)": 192.71358447488583,
          "elev": 1529,
          "lat": 40.45,
          "long": -105.017,
          "name": "\"FORT COLLINS (AWOS)\"",
          "state": "CO",
          "usaf": "724769"
         },
         {
          "GHI (W/m^2)": 212.55011415525115,
          "elev": 1000,
          "lat": 38.58,
          "long": -109.54,
          "name": "\"MOAB/CANYONLANDS [UO]\"",
          "state": "UT",
          "usaf": "724776"
         },
         {
          "GHI (W/m^2)": 197.43447488584474,
          "elev": 1414,
          "lat": 39.333,
          "long": -112.583,
          "name": "\"DELTA\"",
          "state": "UT",
          "usaf": "724795"
         },
         {
          "GHI (W/m^2)": 230.50650684931506,
          "elev": 1250,
          "lat": 37.367,
          "long": -118.35,
          "name": "\"BISHOP AIRPORT\"",
          "state": "CA",
          "usaf": "724800"
         },
         {
          "GHI (W/m^2)": 214.01974885844749,
          "elev": 47,
          "lat": 37.283,
          "long": -120.517,
          "name": "\"MERCED/MACREADY FLD\"",
          "state": "CA",
          "usaf": "724815"
         },
         {
          "GHI (W/m^2)": 205.83447488584474,
          "elev": 5,
          "lat": 38.5,
          "long": -121.5,
          "name": "\"SACRAMENTO EXECUTIVE ARPT\"",
          "state": "CA",
          "usaf": "724830"
         },
         {
          "GHI (W/m^2)": 194.76381278538813,
          "elev": 38,
          "lat": 39.133,
          "long": -121.433,
          "name": "\"BEALE AFB\"",
          "state": "CA",
          "usaf": "724837"
         },
         {
          "GHI (W/m^2)": 205.80045662100457,
          "elev": 19,
          "lat": 39.1,
          "long": -121.567,
          "name": "\"YUBA CO\"",
          "state": "CA",
          "usaf": "724838"
         },
         {
          "GHI (W/m^2)": 206.4437214611872,
          "elev": 7,
          "lat": 38.7,
          "long": -121.583,
          "name": "\"SACRAMENTO METROPOLITAN AP\"",
          "state": "CA",
          "usaf": "724839"
         },
         {
          "GHI (W/m^2)": 218.32671232876712,
          "elev": 1655,
          "lat": 38.067,
          "long": -117.083,
          "name": "\"TONOPAH AIRPORT\"",
          "state": "NV",
          "usaf": "724855"
         },
         {
          "GHI (W/m^2)": 203.53892694063927,
          "elev": 1909,
          "lat": 39.3,
          "long": -114.85,
          "name": "\"ELY YELLAND FIELD\"",
          "state": "NV",
          "usaf": "724860"
         },
         {
          "GHI (W/m^2)": 209.20376712328766,
          "elev": 1342,
          "lat": 39.483,
          "long": -119.767,
          "name": "\"RENO TAHOE INTERNATIONAL AP\"",
          "state": "NV",
          "usaf": "724880"
         },
         {
          "GHI (W/m^2)": 217.63276255707763,
          "elev": 1199,
          "lat": 39.417,
          "long": -118.717,
          "name": "\"FALLON NAAS\"",
          "state": "NV",
          "usaf": "724885"
         },
         {
          "GHI (W/m^2)": 196.69269406392695,
          "elev": 50,
          "lat": 36.6,
          "long": -121.867,
          "name": "\"MONTEREY NAF\"",
          "state": "CA",
          "usaf": "724915"
         },
         {
          "GHI (W/m^2)": 201.87180365296803,
          "elev": 21,
          "lat": 36.667,
          "long": -121.6,
          "name": "\"SALINAS MUNICIPAL AP\"",
          "state": "CA",
          "usaf": "724917"
         },
         {
          "GHI (W/m^2)": 209.50319634703197,
          "elev": 7,
          "lat": 37.9,
          "long": -121.233,
          "name": "\"STOCKTON METROPOLITAN ARPT\"",
          "state": "CA",
          "usaf": "724920"
         },
         {
          "GHI (W/m^2)": 210.05616438356165,
          "elev": 30,
          "lat": 37.633,
          "long": -120.95,
          "name": "\"MODESTO CITY-COUNTY AP\"",
          "state": "CA",
          "usaf": "724926"
         },
         {
          "GHI (W/m^2)": 208.44189497716894,
          "elev": 121,
          "lat": 37.7,
          "long": -121.817,
          "name": "\"LIVERMORE MUNICIPAL\"",
          "state": "CA",
          "usaf": "724927"
         },
         {
          "GHI (W/m^2)": 193.10981735159817,
          "elev": 2,
          "lat": 37.717,
          "long": -122.217,
          "name": "\"OAKLAND METROPOLITAN ARPT\"",
          "state": "CA",
          "usaf": "724930"
         },
         {
          "GHI (W/m^2)": 203.20456621004567,
          "elev": 14,
          "lat": 37.667,
          "long": -122.117,
          "name": "\"HAYWARD AIR TERM\"",
          "state": "CA",
          "usaf": "724935"
         },
         {
          "GHI (W/m^2)": 202.53630136986303,
          "elev": 7,
          "lat": 38,
          "long": -122.05,
          "name": "\"CONCORD CONCORD-BUCHANAN FIEL\"",
          "state": "CA",
          "usaf": "724936"
         },
         {
          "GHI (W/m^2)": 195.93995433789954,
          "elev": 2,
          "lat": 37.617,
          "long": -122.4,
          "name": "\"SAN FRANCISCO INTL AP\"",
          "state": "CA",
          "usaf": "724940"
         },
         {
          "GHI (W/m^2)": 206.63824200913243,
          "elev": 16,
          "lat": 37.367,
          "long": -121.933,
          "name": "\"SAN JOSE INTL AP\"",
          "state": "CA",
          "usaf": "724945"
         },
         {
          "GHI (W/m^2)": 202.36050228310503,
          "elev": 10,
          "lat": 38.217,
          "long": -122.283,
          "name": "\"NAPA CO. AIRPORT\"",
          "state": "CA",
          "usaf": "724955"
         },
         {
          "GHI (W/m^2)": 193.34566210045662,
          "elev": 38,
          "lat": 38.517,
          "long": -122.817,
          "name": "\"SANTA ROSA (AWOS)\"",
          "state": "CA",
          "usaf": "724957"
         },
         {
          "GHI (W/m^2)": 162.32659817351598,
          "elev": 3,
          "lat": 40.717,
          "long": -74.183,
          "name": "\"NEWARK INTERNATIONAL ARPT\"",
          "state": "NJ",
          "usaf": "725020"
         },
         {
          "GHI (W/m^2)": 149.53344748858447,
          "elev": 3,
          "lat": 40.85,
          "long": -74.067,
          "name": "\"TETERBORO AIRPORT\"",
          "state": "NJ",
          "usaf": "725025"
         },
         {
          "GHI (W/m^2)": 154.28504566210046,
          "elev": 222,
          "lat": 41.483,
          "long": -73.133,
          "name": "\"OXFORD (AWOS)\"",
          "state": "CT",
          "usaf": "725029"
         },
         {
          "GHI (W/m^2)": 163.97134703196346,
          "elev": 3,
          "lat": 40.783,
          "long": -73.883,
          "name": "\"NEW YORK LAGUARDIA ARPT\"",
          "state": "NY",
          "usaf": "725030"
         },
         {
          "GHI (W/m^2)": 168.04760273972602,
          "elev": 40,
          "lat": 40.783,
          "long": -73.967,
          "name": "\"NEW YORK CENTRAL PRK OBS BELV\"",
          "state": "NY",
          "usaf": "725033"
         },
         {
          "GHI (W/m^2)": 160.68230593607305,
          "elev": 26,
          "lat": 40.783,
          "long": -73.1,
          "name": "\"ISLIP LONG ISL MACARTHUR AP\"",
          "state": "NY",
          "usaf": "725035"
         },
         {
          "GHI (W/m^2)": 144.5722602739726,
          "elev": 47,
          "lat": 41.633,
          "long": -73.883,
          "name": "\"POUGHKEEPSIE DUTCHESS CO AP\"",
          "state": "NY",
          "usaf": "725036"
         },
         {
          "GHI (W/m^2)": 152.01301369863015,
          "elev": 122,
          "lat": 41.067,
          "long": -73.717,
          "name": "\"WHITE PLAINS WESTCHESTER CO A\"",
          "state": "NY",
          "usaf": "725037"
         },
         {
          "GHI (W/m^2)": 151.2881278538813,
          "elev": 177,
          "lat": 41.5,
          "long": -74.1,
          "name": "\"STEWART FIELD\"",
          "state": "NY",
          "usaf": "725038"
         },
         {
          "GHI (W/m^2)": 161.95570776255707,
          "elev": 3,
          "lat": 41.183,
          "long": -73.15,
          "name": "\"BRIDGEPORT SIKORSKY MEMORIAL\"",
          "state": "CT",
          "usaf": "725040"
         },
         {
          "GHI (W/m^2)": 156.312899543379,
          "elev": 2,
          "lat": 41.267,
          "long": -72.883,
          "name": "\"NEW HAVEN TWEED AIRPORT\"",
          "state": "CT",
          "usaf": "725045"
         },
         {
          "GHI (W/m^2)": 143.5562785388128,
          "elev": 3,
          "lat": 41.333,
          "long": -72.05,
          "name": "\"GROTON NEW LONDON AP\"",
          "state": "CT",
          "usaf": "725046"
         },
         {
          "GHI (W/m^2)": 154.13470319634703,
          "elev": 134,
          "lat": 41.917,
          "long": -71.5,
          "name": "\"PAWTUCKET (AWOS)\"",
          "state": "RI",
          "usaf": "725054"
         },
         {
          "GHI (W/m^2)": 148.19577625570776,
          "elev": 34,
          "lat": 41.167,
          "long": -71.583,
          "name": "\"BLOCK ISLAND STATE ARPT\"",
          "state": "RI",
          "usaf": "725058"
         },
         {
          "GHI (W/m^2)": 151.2769406392694,
          "elev": 40,
          "lat": 41.65,
          "long": -70.517,
          "name": "\"OTIS ANGB\"",
          "state": "MA",
          "usaf": "725060"
         },
         {
          "GHI (W/m^2)": 154.38230593607307,
          "elev": 14,
          "lat": 41.25,
          "long": -70.067,
          "name": "\"NANTUCKET MEMORIAL AP\"",
          "state": "MA",
          "usaf": "725063"
         },
         {
          "GHI (W/m^2)": 143.1269406392694,
          "elev": 45,
          "lat": 41.917,
          "long": -70.733,
          "name": "\"PLYMOUTH MUNICIPAL\"",
          "state": "MA",
          "usaf": "725064"
         },
         {
          "GHI (W/m^2)": 162.06940639269408,
          "elev": 25,
          "lat": 41.667,
          "long": -70.95,
          "name": "\"NEW BEDFORD RGNL\"",
          "state": "MA",
          "usaf": "725065"
         },
         {
          "GHI (W/m^2)": 139.93424657534246,
          "elev": 21,
          "lat": 41.4,
          "long": -70.617,
          "name": "\"MARTHAS VINEYARD\"",
          "state": "MA",
          "usaf": "725066"
         },
         {
          "GHI (W/m^2)": 150.43481735159818,
          "elev": 17,
          "lat": 41.667,
          "long": -70.283,
          "name": "\"BARNSTABLE MUNI BOA\"",
          "state": "MA",
          "usaf": "725067"
         },
         {
          "GHI (W/m^2)": 158.67397260273972,
          "elev": 16,
          "lat": 41.717,
          "long": -71.433,
          "name": "\"PROVIDENCE T F GREEN STATE AR\"",
          "state": "RI",
          "usaf": "725070"
         },
         {
          "GHI (W/m^2)": 151.8148401826484,
          "elev": 2,
          "lat": 42.067,
          "long": -70.217,
          "name": "\"PROVINCETOWN (AWOS)\"",
          "state": "MA",
          "usaf": "725073"
         },
         {
          "GHI (W/m^2)": 145.3093607305936,
          "elev": 201,
          "lat": 42.7,
          "long": -73.167,
          "name": "\"NORTH ADAMS\"",
          "state": "MA",
          "usaf": "725075"
         },
         {
          "GHI (W/m^2)": 156.52762557077625,
          "elev": 49,
          "lat": 41.933,
          "long": -72.683,
          "name": "\"HARTFORD BRADLEY INTL AP\"",
          "state": "CT",
          "usaf": "725080"
         },
         {
          "GHI (W/m^2)": 159.35821917808218,
          "elev": 139,
          "lat": 41.367,
          "long": -73.483,
          "name": "\"DANBURY MUNICIPAL\"",
          "state": "CT",
          "usaf": "725086"
         },
         {
          "GHI (W/m^2)": 152.7093607305936,
          "elev": 6,
          "lat": 41.733,
          "long": -72.65,
          "name": "\"HARTFORD BRAINARD FD\"",
          "state": "CT",
          "usaf": "725087"
         },
         {
          "GHI (W/m^2)": 147.43013698630136,
          "elev": 34,
          "lat": 42.583,
          "long": -70.917,
          "name": "\"BEVERLY MUNI\"",
          "state": "MA",
          "usaf": "725088"
         },
         {
          "GHI (W/m^2)": 160.71210045662102,
          "elev": 6,
          "lat": 42.367,
          "long": -71.017,
          "name": "\"BOSTON LOGAN INT'L ARPT\"",
          "state": "MA",
          "usaf": "725090"
         },
         {
          "GHI (W/m^2)": 159.21563926940638,
          "elev": 300,
          "lat": 42.267,
          "long": -71.883,
          "name": "\"WORCHESTER REGIONAL ARPT\"",
          "state": "MA",
          "usaf": "725095"
         },
         {
          "GHI (W/m^2)": 146.37180365296803,
          "elev": 15,
          "lat": 42.183,
          "long": -71.183,
          "name": "\"NORWOOD MEMORIAL\"",
          "state": "MA",
          "usaf": "725098"
         },
         {
          "GHI (W/m^2)": 153.22876712328767,
          "elev": 104,
          "lat": 40.367,
          "long": -75.967,
          "name": "\"READING SPAATZ FIELD\"",
          "state": "PA",
          "usaf": "725103"
         },
         {
          "GHI (W/m^2)": 151.72682648401826,
          "elev": 92,
          "lat": 40.2,
          "long": -76.767,
          "name": "\"MIDDLETOWN HARRISBURG INTL AP\"",
          "state": "PA",
          "usaf": "725115"
         },
         {
          "GHI (W/m^2)": 150.475799086758,
          "elev": 126,
          "lat": 40.117,
          "long": -76.3,
          "name": "\"LANCASTER\"",
          "state": "PA",
          "usaf": "725116"
         },
         {
          "GHI (W/m^2)": 156.36929223744292,
          "elev": 361,
          "lat": 40.133,
          "long": -80.283,
          "name": "\"WASHINGTON (AWOS)\"",
          "state": "PA",
          "usaf": "725117"
         },
         {
          "GHI (W/m^2)": 162.18550228310502,
          "elev": 104,
          "lat": 40.217,
          "long": -76.85,
          "name": "\"HARRISBURG CAPITAL CITY ARPT\"",
          "state": "PA",
          "usaf": "725118"
         },
         {
          "GHI (W/m^2)": 159.7148401826484,
          "elev": 380,
          "lat": 40.783,
          "long": -79.95,
          "name": "\"BUTLER CO. (AWOS)\"",
          "state": "PA",
          "usaf": "725124"
         },
         {
          "GHI (W/m^2)": 150.09018264840182,
          "elev": 553,
          "lat": 41.183,
          "long": -78.9,
          "name": "\"DUBOIS FAA AP\"",
          "state": "PA",
          "usaf": "725125"
         },
         {
          "GHI (W/m^2)": 154.90456621004566,
          "elev": 451,
          "lat": 40.3,
          "long": -78.317,
          "name": "\"ALTOONA BLAIR CO ARPT\"",
          "state": "PA",
          "usaf": "725126"
         },
         {
          "GHI (W/m^2)": 143.3818493150685,
          "elev": 695,
          "lat": 40.317,
          "long": -78.833,
          "name": "\"JOHNSTOWN CAMBRIA COUNTY AP\"",
          "state": "PA",
          "usaf": "725127"
         },
         {
          "GHI (W/m^2)": 153.05228310502284,
          "elev": 376,
          "lat": 40.72,
          "long": -77.93,
          "name": "\"STATE COLLEGE [PENN STATE - SURFRAD]\"",
          "state": "PA",
          "usaf": "725128"
         },
         {
          "GHI (W/m^2)": 156.14794520547946,
          "elev": 284,
          "lat": 41.333,
          "long": -75.733,
          "name": "\"WILKES-BARRE SCRANTON INTL AP\"",
          "state": "PA",
          "usaf": "725130"
         },
         {
          "GHI (W/m^2)": 155.9428082191781,
          "elev": 158,
          "lat": 41.25,
          "long": -76.917,
          "name": "\"WILLIAMSPORT REGIONAL AP\"",
          "state": "PA",
          "usaf": "725140"
         },
         {
          "GHI (W/m^2)": 150.986301369863,
          "elev": 428,
          "lat": 41.7,
          "long": -74.8,
          "name": "\"MONTICELLO(AWOS)\"",
          "state": "NY",
          "usaf": "725145"
         },
         {
          "GHI (W/m^2)": 152.91495433789953,
          "elev": 488,
          "lat": 42.2,
          "long": -75.983,
          "name": "\"BINGHAMTON EDWIN A LINK FIELD\"",
          "state": "NY",
          "usaf": "725150"
         },
         {
          "GHI (W/m^2)": 137.06963470319636,
          "elev": 291,
          "lat": 42.167,
          "long": -76.9,
          "name": "\"ELMIRA CORNING REGIONAL AP\"",
          "state": "NY",
          "usaf": "725156"
         },
         {
          "GHI (W/m^2)": 155.54600456621006,
          "elev": 246,
          "lat": 43.517,
          "long": -72.95,
          "name": "\"RUTLAND STATE\"",
          "state": "VT",
          "usaf": "725165"
         },
         {
          "GHI (W/m^2)": 161.13835616438357,
          "elev": 119,
          "lat": 40.65,
          "long": -75.45,
          "name": "\"ALLENTOWN LEHIGH VALLEY INTL\"",
          "state": "PA",
          "usaf": "725170"
         },
         {
          "GHI (W/m^2)": 160.9197488584475,
          "elev": 84,
          "lat": 42.75,
          "long": -73.8,
          "name": "\"ALBANY COUNTY AP\"",
          "state": "NY",
          "usaf": "725180"
         },
         {
          "GHI (W/m^2)": 135.50091324200912,
          "elev": 98,
          "lat": 43.35,
          "long": -73.617,
          "name": "\"GLENS FALLS AP\"",
          "state": "NY",
          "usaf": "725185"
         },
         {
          "GHI (W/m^2)": 155.7310502283105,
          "elev": 125,
          "lat": 43.117,
          "long": -76.1,
          "name": "\"SYRACUSE HANCOCK INT'L ARPT\"",
          "state": "NY",
          "usaf": "725190"
         },
         {
          "GHI (W/m^2)": 140.54052511415526,
          "elev": 217,
          "lat": 43.15,
          "long": -75.383,
          "name": "\"UTICA ONEIDA COUNTY AP\"",
          "state": "NY",
          "usaf": "725197"
         },
         {
          "GHI (W/m^2)": 158.82305936073058,
          "elev": 350,
          "lat": 40.5,
          "long": -80.233,
          "name": "\"PITTSBURGH INTERNATIONAL AP\"",
          "state": "PA",
          "usaf": "725200"
         },
         {
          "GHI (W/m^2)": 140.32100456621004,
          "elev": 380,
          "lat": 40.35,
          "long": -79.917,
          "name": "\"PITTSBURGH ALLEGHENY CO AP\"",
          "state": "PA",
          "usaf": "725205"
         },
         {
          "GHI (W/m^2)": 153.82751141552512,
          "elev": 368,
          "lat": 40.917,
          "long": -81.433,
          "name": "\"AKRON AKRON-CANTON REG AP\"",
          "state": "OH",
          "usaf": "725210"
         },
         {
          "GHI (W/m^2)": 141.3503424657534,
          "elev": 525,
          "lat": 42.15,
          "long": -79.267,
          "name": "\"JAMESTOWN (AWOS)\"",
          "state": "NY",
          "usaf": "725235"
         },
         {
          "GHI (W/m^2)": 157.06449771689498,
          "elev": 235,
          "lat": 41.4,
          "long": -81.85,
          "name": "\"CLEVELAND HOPKINS INTL AP\"",
          "state": "OH",
          "usaf": "725240"
         },
         {
          "GHI (W/m^2)": 144.3343607305936,
          "elev": 182,
          "lat": 41.517,
          "long": -81.683,
          "name": "\"BURKE LAKEFRONT\"",
          "state": "OH",
          "usaf": "725245"
         },
         {
          "GHI (W/m^2)": 157.24417808219178,
          "elev": 395,
          "lat": 40.817,
          "long": -82.517,
          "name": "\"MANSFIELD LAHM MUNICIPAL ARPT\"",
          "state": "OH",
          "usaf": "725246"
         },
         {
          "GHI (W/m^2)": 151.76769406392694,
          "elev": 360,
          "lat": 41.25,
          "long": -80.667,
          "name": "\"YOUNGSTOWN REGIONAL AIRPORT\"",
          "state": "OH",
          "usaf": "725250"
         },
         {
          "GHI (W/m^2)": 155.07305936073058,
          "elev": 222,
          "lat": 42.083,
          "long": -80.183,
          "name": "\"ERIE INTERNATIONAL AP\"",
          "state": "PA",
          "usaf": "725260"
         },
         {
          "GHI (W/m^2)": 153.51118721461188,
          "elev": 645,
          "lat": 41.8,
          "long": -78.633,
          "name": "\"BRADFORD REGIONAL AP\"",
          "state": "PA",
          "usaf": "725266"
         },
         {
          "GHI (W/m^2)": 155.82077625570776,
          "elev": 470,
          "lat": 41.383,
          "long": -79.867,
          "name": "\"FRANKLIN\"",
          "state": "PA",
          "usaf": "725267"
         },
         {
          "GHI (W/m^2)": 155.1340182648402,
          "elev": 215,
          "lat": 42.933,
          "long": -78.733,
          "name": "\"BUFFALO NIAGARA INTL AP\"",
          "state": "NY",
          "usaf": "725280"
         },
         {
          "GHI (W/m^2)": 135.94098173515982,
          "elev": 180,
          "lat": 43.1,
          "long": -78.95,
          "name": "\"NIAGARA FALLS AF\"",
          "state": "NY",
          "usaf": "725287"
         },
         {
          "GHI (W/m^2)": 154.09634703196346,
          "elev": 183,
          "lat": 43.117,
          "long": -77.683,
          "name": "\"ROCHESTER GREATER ROCHESTER I\"",
          "state": "NY",
          "usaf": "725290"
         },
         {
          "GHI (W/m^2)": 160.57602739726028,
          "elev": 201,
          "lat": 41.983,
          "long": -87.917,
          "name": "\"CHICAGO OHARE INTL AP\"",
          "state": "IL",
          "usaf": "725300"
         },
         {
          "GHI (W/m^2)": 159.15388127853882,
          "elev": 231,
          "lat": 41.917,
          "long": -88.25,
          "name": "\"W. CHICAGO/DU PAGE\"",
          "state": "IL",
          "usaf": "725305"
         },
         {
          "GHI (W/m^2)": 167.41883561643834,
          "elev": 126,
          "lat": 38.567,
          "long": -90.15,
          "name": "\"CAHOKIA/ST. LOUIS\"",
          "state": "IL",
          "usaf": "725314"
         },
         {
          "GHI (W/m^2)": 155.4920091324201,
          "elev": 213,
          "lat": 40.06,
          "long": -88.37,
          "name": "\"UNIV OF ILLINOIS WI [BONDVILLE - SURFRAD]\"",
          "state": "IL",
          "usaf": "725315"
         },
         {
          "GHI (W/m^2)": 151.6513698630137,
          "elev": 213,
          "lat": 39.833,
          "long": -88.867,
          "name": "\"DECATUR\"",
          "state": "IL",
          "usaf": "725316"
         },
         {
          "GHI (W/m^2)": 170.1675799086758,
          "elev": 199,
          "lat": 40.667,
          "long": -89.683,
          "name": "\"PEORIA GREATER PEORIA AP\"",
          "state": "IL",
          "usaf": "725320"
         },
         {
          "GHI (W/m^2)": 162.5796803652968,
          "elev": 197,
          "lat": 41.75,
          "long": -89.667,
          "name": "\"STERLING ROCKFALLS\"",
          "state": "IL",
          "usaf": "725326"
         },
         {
          "GHI (W/m^2)": 161.35730593607306,
          "elev": 241,
          "lat": 41,
          "long": -85.2,
          "name": "\"FORT WAYNE INTL AP\"",
          "state": "IN",
          "usaf": "725330"
         },
         {
          "GHI (W/m^2)": 156.0728310502283,
          "elev": 253,
          "lat": 40.65,
          "long": -86.15,
          "name": "\"GRISSOM ARB\"",
          "state": "IN",
          "usaf": "725335"
         },
         {
          "GHI (W/m^2)": 150.63915525114155,
          "elev": 293,
          "lat": 40.233,
          "long": -85.4,
          "name": "\"DELAWARE CO JOHNSON\"",
          "state": "IN",
          "usaf": "725336"
         },
         {
          "GHI (W/m^2)": 157.21929223744291,
          "elev": 186,
          "lat": 41.783,
          "long": -87.75,
          "name": "\"CHICAGO MIDWAY AP\"",
          "state": "IL",
          "usaf": "725340"
         },
         {
          "GHI (W/m^2)": 143.99977168949772,
          "elev": 222,
          "lat": 42.417,
          "long": -87.867,
          "name": "\"CHICAGO/WAUKEGAN\"",
          "state": "IL",
          "usaf": "725347"
         },
         {
          "GHI (W/m^2)": 159.8851598173516,
          "elev": 236,
          "lat": 41.7,
          "long": -86.333,
          "name": "\"SOUTH BEND MICHIANA RGNL AP\"",
          "state": "IN",
          "usaf": "725350"
         },
         {
          "GHI (W/m^2)": 162.75228310502283,
          "elev": 204,
          "lat": 41.583,
          "long": -83.8,
          "name": "\"TOLEDO EXPRESS AIRPORT\"",
          "state": "OH",
          "usaf": "725360"
         },
         {
          "GHI (W/m^2)": 149.3900684931507,
          "elev": 244,
          "lat": 41.017,
          "long": -83.667,
          "name": "\"FINDLAY AIRPORT\"",
          "state": "OH",
          "usaf": "725366"
         },
         {
          "GHI (W/m^2)": 157.78002283105022,
          "elev": 194,
          "lat": 42.217,
          "long": -83.35,
          "name": "\"DETROIT METROPOLITAN ARPT\"",
          "state": "MI",
          "usaf": "725370"
         },
         {
          "GHI (W/m^2)": 150.8068493150685,
          "elev": 256,
          "lat": 42.217,
          "long": -83.75,
          "name": "\"ANN ARBOR MUNICIPAL\"",
          "state": "MI",
          "usaf": "725374"
         },
         {
          "GHI (W/m^2)": 148.72648401826484,
          "elev": 190,
          "lat": 42.4,
          "long": -83,
          "name": "\"DETROIT CITY AIRPORT\"",
          "state": "MI",
          "usaf": "725375"
         },
         {
          "GHI (W/m^2)": 154.81826484018265,
          "elev": 218,
          "lat": 42.233,
          "long": -83.533,
          "name": "\"DETROIT WILLOW RUN AP\"",
          "state": "MI",
          "usaf": "725376"
         },
         {
          "GHI (W/m^2)": 144.55890410958904,
          "elev": 177,
          "lat": 42.617,
          "long": -82.833,
          "name": "\"MOUNT CLEMENS SELFRIDGE FLD\"",
          "state": "MI",
          "usaf": "725377"
         },
         {
          "GHI (W/m^2)": 155.63196347031965,
          "elev": 293,
          "lat": 42.633,
          "long": -83.983,
          "name": "\"HOWELL\"",
          "state": "MI",
          "usaf": "725378"
         },
         {
          "GHI (W/m^2)": 151.41598173515982,
          "elev": 198,
          "lat": 42.917,
          "long": -82.533,
          "name": "\"ST.CLAIR COUNTY INT\"",
          "state": "MI",
          "usaf": "725384"
         },
         {
          "GHI (W/m^2)": 156.12328767123287,
          "elev": 256,
          "lat": 42.783,
          "long": -84.583,
          "name": "\"LANSING CAPITAL CITY ARPT\"",
          "state": "MI",
          "usaf": "725390"
         },
         {
          "GHI (W/m^2)": 146.5865296803653,
          "elev": 304,
          "lat": 42.267,
          "long": -84.467,
          "name": "\"JACKSON REYNOLDS FIELD\"",
          "state": "MI",
          "usaf": "725395"
         },
         {
          "GHI (W/m^2)": 149.41084474885844,
          "elev": 283,
          "lat": 42.3,
          "long": -85.25,
          "name": "\"BATTLE CREEK KELLOGG AP\"",
          "state": "MI",
          "usaf": "725396"
         },
         {
          "GHI (W/m^2)": 162.4343607305936,
          "elev": 223,
          "lat": 42.2,
          "long": -89.1,
          "name": "\"ROCKFORD GREATER ROCKFORD AP\"",
          "state": "IL",
          "usaf": "725430"
         },
         {
          "GHI (W/m^2)": 168.07956621004567,
          "elev": 180,
          "lat": 41.467,
          "long": -90.517,
          "name": "\"MOLINE QUAD CITY INTL AP\"",
          "state": "IL",
          "usaf": "725440"
         },
         {
          "GHI (W/m^2)": 148.24029680365297,
          "elev": 256,
          "lat": 41.883,
          "long": -91.717,
          "name": "\"CEDAR RAPIDS MUNICIPAL AP\"",
          "state": "IA",
          "usaf": "725450"
         },
         {
          "GHI (W/m^2)": 153.77796803652967,
          "elev": 360,
          "lat": 41.4,
          "long": -95.05,
          "name": "\"ATLANTIC\"",
          "state": "IA",
          "usaf": "725453"
         },
         {
          "GHI (W/m^2)": 149.12876712328767,
          "elev": 230,
          "lat": 41.283,
          "long": -91.667,
          "name": "\"WASHINGTON\"",
          "state": "IA",
          "usaf": "725454"
         },
         {
          "GHI (W/m^2)": 169.87465753424658,
          "elev": 211,
          "lat": 40.783,
          "long": -91.117,
          "name": "\"BURLINGTON MUNICIPAL AP\"",
          "state": "IA",
          "usaf": "725455"
         },
         {
          "GHI (W/m^2)": 174.77899543378996,
          "elev": 205,
          "lat": 40.467,
          "long": -91.433,
          "name": "\"KEOKUK MUNI\"",
          "state": "IA",
          "usaf": "725456"
         },
         {
          "GHI (W/m^2)": 153.30239726027398,
          "elev": 372,
          "lat": 43.083,
          "long": -94.267,
          "name": "\"ALGONA\"",
          "state": "IA",
          "usaf": "725457"
         },
         {
          "GHI (W/m^2)": 174.6994292237443,
          "elev": 292,
          "lat": 41.533,
          "long": -93.667,
          "name": "\"DES MOINES INTL AP\"",
          "state": "IA",
          "usaf": "725460"
         },
         {
          "GHI (W/m^2)": 142.83344748858448,
          "elev": 343,
          "lat": 43.067,
          "long": -92.617,
          "name": "\"CHARLES CITY\"",
          "state": "IA",
          "usaf": "725463"
         },
         {
          "GHI (W/m^2)": 144.1203196347032,
          "elev": 290,
          "lat": 41.683,
          "long": -93.017,
          "name": "\"NEWTON MUNI\"",
          "state": "IA",
          "usaf": "725464"
         },
         {
          "GHI (W/m^2)": 150.00970319634703,
          "elev": 257,
          "lat": 41.1,
          "long": -92.45,
          "name": "\"OTTUMWA INDUSTRIAL AP\"",
          "state": "IA",
          "usaf": "725465"
         },
         {
          "GHI (W/m^2)": 161.33767123287672,
          "elev": 296,
          "lat": 40.75,
          "long": -95.417,
          "name": "\"SHENANDOAH MUNI\"",
          "state": "IA",
          "usaf": "725467"
         },
         {
          "GHI (W/m^2)": 158.71609589041097,
          "elev": 375,
          "lat": 42.05,
          "long": -94.783,
          "name": "\"CARROLL\"",
          "state": "IA",
          "usaf": "725468"
         },
         {
          "GHI (W/m^2)": 152.75433789954337,
          "elev": 320,
          "lat": 41.033,
          "long": -93.367,
          "name": "\"CHARITON\"",
          "state": "IA",
          "usaf": "725469"
         },
         {
          "GHI (W/m^2)": 154.48367579908677,
          "elev": 322,
          "lat": 42.4,
          "long": -90.7,
          "name": "\"DUBUQUE REGIONAL AP\"",
          "state": "IA",
          "usaf": "725470"
         },
         {
          "GHI (W/m^2)": 158.15045662100457,
          "elev": 216,
          "lat": 41.833,
          "long": -90.333,
          "name": "\"CLINTON MUNI (AWOS)\"",
          "state": "IA",
          "usaf": "725473"
         },
         {
          "GHI (W/m^2)": 161.50125570776257,
          "elev": 394,
          "lat": 41.017,
          "long": -94.367,
          "name": "\"CRESTON\"",
          "state": "IA",
          "usaf": "725474"
         },
         {
          "GHI (W/m^2)": 151.28367579908675,
          "elev": 259,
          "lat": 42.233,
          "long": -91.167,
          "name": "\"MONTICELLO MUNI\"",
          "state": "IA",
          "usaf": "725475"
         },
         {
          "GHI (W/m^2)": 158.85102739726028,
          "elev": 353,
          "lat": 43.283,
          "long": -91.733,
          "name": "\"DECORAH\"",
          "state": "IA",
          "usaf": "725476"
         },
         {
          "GHI (W/m^2)": 159.56952054794522,
          "elev": 388,
          "lat": 41.983,
          "long": -95.383,
          "name": "\"DENISON\"",
          "state": "IA",
          "usaf": "725477"
         },
         {
          "GHI (W/m^2)": 153.92374429223744,
          "elev": 342,
          "lat": 42.433,
          "long": -93.867,
          "name": "\"WEBSTER CITY\"",
          "state": "IA",
          "usaf": "725478"
         },
         {
          "GHI (W/m^2)": 164.10593607305935,
          "elev": 303,
          "lat": 40.717,
          "long": -95.033,
          "name": "\"CLARINDA\"",
          "state": "IA",
          "usaf": "725479"
         },
         {
          "GHI (W/m^2)": 164.8824200913242,
          "elev": 264,
          "lat": 42.55,
          "long": -92.4,
          "name": "\"WATERLOO MUNICIPAL AP\"",
          "state": "IA",
          "usaf": "725480"
         },
         {
          "GHI (W/m^2)": 162.20696347031964,
          "elev": 221,
          "lat": 40.667,
          "long": -91.333,
          "name": "\"FORT MADISON\"",
          "state": "IA",
          "usaf": "725483"
         },
         {
          "GHI (W/m^2)": 162.0818493150685,
          "elev": 365,
          "lat": 42.783,
          "long": -96.2,
          "name": "\"LE MARS\"",
          "state": "IA",
          "usaf": "725484"
         },
         {
          "GHI (W/m^2)": 162.66929223744293,
          "elev": 364,
          "lat": 43.15,
          "long": -93.333,
          "name": "\"MASON CITY MUNICIPAL ARPT\"",
          "state": "IA",
          "usaf": "725485"
         },
         {
          "GHI (W/m^2)": 145.9763698630137,
          "elev": 354,
          "lat": 42.05,
          "long": -93.85,
          "name": "\"BOONE MUNI\"",
          "state": "IA",
          "usaf": "725486"
         },
         {
          "GHI (W/m^2)": 161.7123287671233,
          "elev": 167,
          "lat": 41.367,
          "long": -91.15,
          "name": "\"MUSCATINE\"",
          "state": "IA",
          "usaf": "725487"
         },
         {
          "GHI (W/m^2)": 148.8994292237443,
          "elev": 328,
          "lat": 42.683,
          "long": -91.967,
          "name": "\"OELWEN\"",
          "state": "IA",
          "usaf": "725488"
         },
         {
          "GHI (W/m^2)": 156.98093607305935,
          "elev": 431,
          "lat": 42.983,
          "long": -96.067,
          "name": "\"ORANGE CITY\"",
          "state": "IA",
          "usaf": "725489"
         },
         {
          "GHI (W/m^2)": 161.12568493150684,
          "elev": 355,
          "lat": 42.55,
          "long": -94.183,
          "name": "\"FORT DODGE (AWOS)\"",
          "state": "IA",
          "usaf": "725490"
         },
         {
          "GHI (W/m^2)": 161.73892694063926,
          "elev": 283,
          "lat": 41.3,
          "long": -93.117,
          "name": "\"KNOXVILLE\"",
          "state": "IA",
          "usaf": "725493"
         },
         {
          "GHI (W/m^2)": 164.3173515981735,
          "elev": 318,
          "lat": 41.017,
          "long": -95.267,
          "name": "\"RED OAK\"",
          "state": "IA",
          "usaf": "725494"
         },
         {
          "GHI (W/m^2)": 149.51849315068492,
          "elev": 432,
          "lat": 43.217,
          "long": -95.833,
          "name": "\"SHELDON\"",
          "state": "IA",
          "usaf": "725495"
         },
         {
          "GHI (W/m^2)": 155.99155251141553,
          "elev": 454,
          "lat": 42.6,
          "long": -95.233,
          "name": "\"STORM LAKE\"",
          "state": "IA",
          "usaf": "725496"
         },
         {
          "GHI (W/m^2)": 157.31095890410958,
          "elev": 382,
          "lat": 41.267,
          "long": -95.767,
          "name": "\"COUNCIL BLUFFS\"",
          "state": "IA",
          "usaf": "725497"
         },
         {
          "GHI (W/m^2)": 163.45570776255707,
          "elev": 299,
          "lat": 41.317,
          "long": -95.9,
          "name": "\"OMAHA EPPLEY AIRFIELD\"",
          "state": "NE",
          "usaf": "725500"
         },
         {
          "GHI (W/m^2)": 167.31952054794522,
          "elev": 357,
          "lat": 40.833,
          "long": -96.767,
          "name": "\"LINCOLN MUNICIPAL ARPT\"",
          "state": "NE",
          "usaf": "725510"
         },
         {
          "GHI (W/m^2)": 179.72328767123287,
          "elev": 403,
          "lat": 40.3,
          "long": -96.75,
          "name": "\"BEATRICE MUNICIPAL\"",
          "state": "NE",
          "usaf": "725515"
         },
         {
          "GHI (W/m^2)": 183.1425799086758,
          "elev": 561,
          "lat": 40.967,
          "long": -98.317,
          "name": "\"GRAND ISLAND CENTRAL NE REGIO\"",
          "state": "NE",
          "usaf": "725520"
         },
         {
          "GHI (W/m^2)": 174.85970319634703,
          "elev": 631,
          "lat": 41.617,
          "long": -98.95,
          "name": "\"ORD/SHARP FIELD\"",
          "state": "NE",
          "usaf": "725524"
         },
         {
          "GHI (W/m^2)": 176.1351598173516,
          "elev": 596,
          "lat": 40.6,
          "long": -98.433,
          "name": "\"HASTINGS MUNICIPAL\"",
          "state": "NE",
          "usaf": "725525"
         },
         {
          "GHI (W/m^2)": 178.5074200913242,
          "elev": 649,
          "lat": 40.733,
          "long": -99,
          "name": "\"KEARNEY MUNI (AWOS)\"",
          "state": "NE",
          "usaf": "725526"
         },
         {
          "GHI (W/m^2)": 161.0070776255708,
          "elev": 312,
          "lat": 41.767,
          "long": -96.167,
          "name": "\"TEKAMAH (ASOS)\"",
          "state": "NE",
          "usaf": "725527"
         },
         {
          "GHI (W/m^2)": 175.23938356164385,
          "elev": 399,
          "lat": 41.367,
          "long": -96.017,
          "name": "\"OMAHA WSFO\"",
          "state": "NE",
          "usaf": "725530"
         },
         {
          "GHI (W/m^2)": 166.44908675799087,
          "elev": 300,
          "lat": 40.083,
          "long": -95.6,
          "name": "\"FALLS CITY/BRENNER\"",
          "state": "NE",
          "usaf": "725533"
         },
         {
          "GHI (W/m^2)": 161.78561643835616,
          "elev": 319,
          "lat": 41.117,
          "long": -95.917,
          "name": "\"BELLEVUE OFFUTT AFB\"",
          "state": "NE",
          "usaf": "725540"
         },
         {
          "GHI (W/m^2)": 166.03013698630136,
          "elev": 776,
          "lat": 41.433,
          "long": -99.65,
          "name": "\"BROKEN BOW MUNI\"",
          "state": "NE",
          "usaf": "725555"
         },
         {
          "GHI (W/m^2)": 182.5165525114155,
          "elev": 789,
          "lat": 42.583,
          "long": -100,
          "name": "\"AINSWORTH MUNICIPAL\"",
          "state": "NE",
          "usaf": "725556"
         },
         {
          "GHI (W/m^2)": 179.12123287671233,
          "elev": 472,
          "lat": 41.983,
          "long": -97.433,
          "name": "\"NORFOLK KARL STEFAN MEM ARPT\"",
          "state": "NE",
          "usaf": "725560"
         },
         {
          "GHI (W/m^2)": 160.51232876712328,
          "elev": 379,
          "lat": 41.45,
          "long": -96.517,
          "name": "\"FREMONT MUNI ARPT\"",
          "state": "NE",
          "usaf": "725564"
         },
         {
          "GHI (W/m^2)": 168.5865296803653,
          "elev": 451,
          "lat": 41.45,
          "long": -97.333,
          "name": "\"COLUMBUS MUNI\"",
          "state": "NE",
          "usaf": "725565"
         },
         {
          "GHI (W/m^2)": 163.50913242009133,
          "elev": 619,
          "lat": 42.467,
          "long": -98.683,
          "name": "\"O`NEILL/BAKER FIELD\"",
          "state": "NE",
          "usaf": "725566"
         },
         {
          "GHI (W/m^2)": 173.1966894977169,
          "elev": 333,
          "lat": 42.383,
          "long": -96.383,
          "name": "\"SIOUX CITY SIOUX GATEWAY AP\"",
          "state": "IA",
          "usaf": "725570"
         },
         {
          "GHI (W/m^2)": 187.51415525114155,
          "elev": 1313,
          "lat": 41.1,
          "long": -102.983,
          "name": "\"SIDNEY MUNICIPAL AP\"",
          "state": "NE",
          "usaf": "725610"
         },
         {
          "GHI (W/m^2)": 184.49680365296803,
          "elev": 847,
          "lat": 41.117,
          "long": -100.667,
          "name": "\"NORTH PLATTE REGIONAL AP\"",
          "state": "NE",
          "usaf": "725620"
         },
         {
          "GHI (W/m^2)": 193.8884703196347,
          "elev": 786,
          "lat": 40.2,
          "long": -100.583,
          "name": "\"MCCOOK MUNICIPAL\"",
          "state": "NE",
          "usaf": "725625"
         },
         {
          "GHI (W/m^2)": 188.1711187214612,
          "elev": 998,
          "lat": 40.517,
          "long": -101.617,
          "name": "\"IMPERIAL FAA AP\"",
          "state": "NE",
          "usaf": "725626"
         },
         {
          "GHI (W/m^2)": 167.76495433789955,
          "elev": 704,
          "lat": 40.45,
          "long": -99.333,
          "name": "\"BREWSTER FIELD ARPT\"",
          "state": "NE",
          "usaf": "725628"
         },
         {
          "GHI (W/m^2)": 190.7972602739726,
          "elev": 1198,
          "lat": 42.05,
          "long": -102.8,
          "name": "\"ALLIANCE MUNICIPAL\"",
          "state": "NE",
          "usaf": "725635"
         },
         {
          "GHI (W/m^2)": 183.4091324200913,
          "elev": 1011,
          "lat": 42.833,
          "long": -103.083,
          "name": "\"CHADRON MUNICIPAL AP\"",
          "state": "NE",
          "usaf": "725636"
         },
         {
          "GHI (W/m^2)": 183.25079908675798,
          "elev": 1867,
          "lat": 41.15,
          "long": -104.8,
          "name": "\"CHEYENNE MUNICIPAL ARPT\"",
          "state": "WY",
          "usaf": "725640"
         },
         {
          "GHI (W/m^2)": 187.21883561643835,
          "elev": 2215,
          "lat": 41.317,
          "long": -105.683,
          "name": "\"LARAMIE GENERAL BREES FIELD\"",
          "state": "WY",
          "usaf": "725645"
         },
         {
          "GHI (W/m^2)": 190.66438356164383,
          "elev": 1650,
          "lat": 39.833,
          "long": -104.65,
          "name": "\"DENVER INTL AP\"",
          "state": "CO",
          "usaf": "725650"
         },
         {
          "GHI (W/m^2)": 185.03070776255709,
          "elev": 1202,
          "lat": 41.867,
          "long": -103.6,
          "name": "\"SCOTTSBLUFF W B HEILIG FIELD\"",
          "state": "NE",
          "usaf": "725660"
         },
         {
          "GHI (W/m^2)": 173.03824200913243,
          "elev": 789,
          "lat": 42.867,
          "long": -100.55,
          "name": "\"VALENTINE MILLER FIELD\"",
          "state": "NE",
          "usaf": "725670"
         },
         {
          "GHI (W/m^2)": 184.46666666666667,
          "elev": 1627,
          "lat": 42.9,
          "long": -106.467,
          "name": "\"CASPER NATRONA CO INTL AP\"",
          "state": "WY",
          "usaf": "725690"
         },
         {
          "GHI (W/m^2)": 190.1205479452055,
          "elev": 1915,
          "lat": 40.5,
          "long": -107.533,
          "name": "\"CRAIG-MOFFAT\"",
          "state": "CO",
          "usaf": "725700"
         },
         {
          "GHI (W/m^2)": 197.97785388127855,
          "elev": 1608,
          "lat": 40.433,
          "long": -109.517,
          "name": "\"VERNAL\"",
          "state": "UT",
          "usaf": "725705"
         },
         {
          "GHI (W/m^2)": 191.09908675799088,
          "elev": 2012,
          "lat": 40.483,
          "long": -107.217,
          "name": "\"HAYDEN/YAMPA (AWOS)\"",
          "state": "CO",
          "usaf": "725715"
         },
         {
          "GHI (W/m^2)": 193.10627853881277,
          "elev": 1691,
          "lat": 39.533,
          "long": -107.717,
          "name": "\"RIFLE/GARFIELD RGNL\"",
          "state": "CO",
          "usaf": "725717"
         },
         {
          "GHI (W/m^2)": 189.93047945205478,
          "elev": 1288,
          "lat": 40.77,
          "long": -111.97,
          "name": "\"SALT LAKE CITY INT'L ARPT [ISIS]\"",
          "state": "UT",
          "usaf": "725720"
         },
         {
          "GHI (W/m^2)": 197.80844748858448,
          "elev": 1369,
          "lat": 40.217,
          "long": -111.717,
          "name": "\"PROVO MUNI (AWOS)\"",
          "state": "UT",
          "usaf": "725724"
         },
         {
          "GHI (W/m^2)": 193.32134703196348,
          "elev": 1000,
          "lat": 41.46,
          "long": -109.44,
          "name": "\"ROCK SPRINGS ARPT [GREEN RIVER - UO]\"",
          "state": "WY",
          "usaf": "725744"
         },
         {
          "GHI (W/m^2)": 199.56107305936072,
          "elev": 2053,
          "lat": 41.8,
          "long": -107.2,
          "name": "\"RAWLINS MUNICIPAL AP\"",
          "state": "WY",
          "usaf": "725745"
         },
         {
          "GHI (W/m^2)": 205.39657534246575,
          "elev": 1362,
          "lat": 41.2,
          "long": -112.017,
          "name": "\"OGDEN HINKLEY AIRPORT\"",
          "state": "UT",
          "usaf": "725750"
         },
         {
          "GHI (W/m^2)": 194.78310502283105,
          "elev": 1459,
          "lat": 41.117,
          "long": -111.967,
          "name": "\"OGDEN HILL AFB\"",
          "state": "UT",
          "usaf": "725755"
         },
         {
          "GHI (W/m^2)": 191.75616438356164,
          "elev": 1694,
          "lat": 42.817,
          "long": -108.733,
          "name": "\"LANDER HUNT FIELD\"",
          "state": "WY",
          "usaf": "725760"
         },
         {
          "GHI (W/m^2)": 188.78207762557076,
          "elev": 1663,
          "lat": 43.05,
          "long": -108.45,
          "name": "\"RIVERTON MUNICIPL AP\"",
          "state": "WY",
          "usaf": "725765"
         },
         {
          "GHI (W/m^2)": 192.80011415525115,
          "elev": 2183,
          "lat": 41.283,
          "long": -111.033,
          "name": "\"EVANSTON/BURNS FLD\"",
          "state": "WY",
          "usaf": "725775"
         },
         {
          "GHI (W/m^2)": 179.33961187214612,
          "elev": 2016,
          "lat": 43.6,
          "long": -110.733,
          "name": "\"JACKSON HOLE\"",
          "state": "WY",
          "usaf": "725776"
         },
         {
          "GHI (W/m^2)": 186.99931506849316,
          "elev": 1353,
          "lat": 42.917,
          "long": -112.567,
          "name": "\"POCATELLO REGIONAL AP\"",
          "state": "ID",
          "usaf": "725780"
         },
         {
          "GHI (W/m^2)": 184.7304794520548,
          "elev": 1441,
          "lat": 43.517,
          "long": -112.067,
          "name": "\"IDAHO FALLS FANNING FIELD\"",
          "state": "ID",
          "usaf": "725785"
         },
         {
          "GHI (W/m^2)": 183.17659817351597,
          "elev": 1362,
          "lat": 42.15,
          "long": -112.283,
          "name": "\"MALAD CITY\"",
          "state": "ID",
          "usaf": "725786"
         },
         {
          "GHI (W/m^2)": 202.937899543379,
          "elev": 1189,
          "lat": 40.067,
          "long": -118.55,
          "name": "\"LOVELOCK DERBY FIELD\"",
          "state": "NV",
          "usaf": "725805"
         },
         {
          "GHI (W/m^2)": 201.2445205479452,
          "elev": 1291,
          "lat": 40.717,
          "long": -114.033,
          "name": "\"WENDOVER USAF AUXILIARY FIELD\"",
          "state": "UT",
          "usaf": "725810"
         },
         {
          "GHI (W/m^2)": 196.38527397260273,
          "elev": 1548,
          "lat": 40.833,
          "long": -115.8,
          "name": "\"ELKO MUNICIPAL ARPT\"",
          "state": "NV",
          "usaf": "725825"
         },
         {
          "GHI (W/m^2)": 202.6607305936073,
          "elev": 1310,
          "lat": 40.9,
          "long": -117.8,
          "name": "\"WINNEMUCCA MUNICIPAL ARPT\"",
          "state": "NV",
          "usaf": "725830"
         },
         {
          "GHI (W/m^2)": 207.6810502283105,
          "elev": 1609,
          "lat": 39.3,
          "long": -120.717,
          "name": "\"BLUE CANYON AP\"",
          "state": "CA",
          "usaf": "725845"
         },
         {
          "GHI (W/m^2)": 194.66849315068492,
          "elev": 1798,
          "lat": 39.317,
          "long": -120.133,
          "name": "\"TRUCKEE-TAHOE\"",
          "state": "CA",
          "usaf": "725846"
         },
         {
          "GHI (W/m^2)": 212.20536529680365,
          "elev": 1909,
          "lat": 38.9,
          "long": -120,
          "name": "\"SOUTH LAKE TAHOE\"",
          "state": "CA",
          "usaf": "725847"
         },
         {
          "GHI (W/m^2)": 182.66301369863012,
          "elev": 1620,
          "lat": 43.5,
          "long": -114.3,
          "name": "\"HAILEY/FRIEDMAN MEM\"",
          "state": "ID",
          "usaf": "725865"
         },
         {
          "GHI (W/m^2)": 196.91849315068492,
          "elev": 1200,
          "lat": 42.55,
          "long": -114.35,
          "name": "\"JOSLIN FLD MAGIC VA [TWIN FALLS - UO]\"",
          "state": "ID",
          "usaf": "725866"
         },
         {
          "GHI (W/m^2)": 192.90319634703195,
          "elev": 1267,
          "lat": 42.533,
          "long": -113.767,
          "name": "\"BURLEY MUNICIPAL ARPT\"",
          "state": "ID",
          "usaf": "725867"
         },
         {
          "GHI (W/m^2)": 175.06552511415526,
          "elev": 1780,
          "lat": 42.65,
          "long": -111.583,
          "name": "\"SODA SPRINGS/TIGERT\"",
          "state": "ID",
          "usaf": "725868"
         },
         {
          "GHI (W/m^2)": 192.68584474885844,
          "elev": 1220,
          "lat": 42.22,
          "long": -121.74,
          "name": "\"KLAMATH FALLS INTL AP [UO]\"",
          "state": "OR",
          "usaf": "725895"
         },
         {
          "GHI (W/m^2)": 202.510502283105,
          "elev": 189,
          "lat": 39.133,
          "long": -123.2,
          "name": "\"UKIAH MUNICIPAL AP\"",
          "state": "CA",
          "usaf": "725905"
         },
         {
          "GHI (W/m^2)": 202.92488584474887,
          "elev": 106,
          "lat": 40.15,
          "long": -122.25,
          "name": "\"RED BLUFF MUNICIPAL ARPT\"",
          "state": "CA",
          "usaf": "725910"
         },
         {
          "GHI (W/m^2)": 196.9574200913242,
          "elev": 153,
          "lat": 40.517,
          "long": -122.317,
          "name": "\"REDDING MUNICIPAL ARPT\"",
          "state": "CA",
          "usaf": "725920"
         },
         {
          "GHI (W/m^2)": 161.2269406392694,
          "elev": 62,
          "lat": 40.983,
          "long": -124.1,
          "name": "\"ARCATA AIRPORT\"",
          "state": "CA",
          "usaf": "725945"
         },
         {
          "GHI (W/m^2)": 164.82294520547944,
          "elev": 17,
          "lat": 41.783,
          "long": -124.233,
          "name": "\"CRESCENT CITY FAA AI\"",
          "state": "CA",
          "usaf": "725946"
         },
         {
          "GHI (W/m^2)": 199.68481735159818,
          "elev": 803,
          "lat": 41.783,
          "long": -122.467,
          "name": "\"MONTAGUE SISKIYOU COUNTY AP\"",
          "state": "CA",
          "usaf": "725955"
         },
         {
          "GHI (W/m^2)": 202.25810502283105,
          "elev": 1341,
          "lat": 41.5,
          "long": -120.533,
          "name": "\"ALTURAS\"",
          "state": "CA",
          "usaf": "725958"
         },
         {
          "GHI (W/m^2)": 181.9892694063927,
          "elev": 595,
          "lat": 42.19,
          "long": -122.7,
          "name": "\"MEDFORD ROGUE VALLEY INTL AP [ASHLAND - UO]\"",
          "state": "OR",
          "usaf": "725970"
         },
         {
          "GHI (W/m^2)": 193.99075342465753,
          "elev": 1168,
          "lat": 42.6,
          "long": -123.367,
          "name": "\"SEXTON SUMMIT\"",
          "state": "OR",
          "usaf": "725975"
         },
         {
          "GHI (W/m^2)": 194.5595890410959,
          "elev": 1441,
          "lat": 42.167,
          "long": -120.4,
          "name": "\"LAKEVIEW (AWOS)\"",
          "state": "OR",
          "usaf": "725976"
         },
         {
          "GHI (W/m^2)": 158.06038812785388,
          "elev": 106,
          "lat": 43.2,
          "long": -71.5,
          "name": "\"CONCORD MUNICIPAL ARPT\"",
          "state": "NH",
          "usaf": "726050"
         },
         {
          "GHI (W/m^2)": 146.3554794520548,
          "elev": 31,
          "lat": 43.083,
          "long": -70.817,
          "name": "\"PEASE INTL TRADEPOR\"",
          "state": "NH",
          "usaf": "726055"
         },
         {
          "GHI (W/m^2)": 161.7329908675799,
          "elev": 14,
          "lat": 43.65,
          "long": -70.3,
          "name": "\"PORTLAND INTL JETPORT\"",
          "state": "ME",
          "usaf": "726060"
         },
         {
          "GHI (W/m^2)": 153.14691780821917,
          "elev": 74,
          "lat": 43.4,
          "long": -70.717,
          "name": "\"SANFORD MUNI (AWOS)\"",
          "state": "ME",
          "usaf": "726064"
         },
         {
          "GHI (W/m^2)": 156.49166666666667,
          "elev": 101,
          "lat": 44.533,
          "long": -69.683,
          "name": "\"WATERVILLE (AWOS)\"",
          "state": "ME",
          "usaf": "726073"
         },
         {
          "GHI (W/m^2)": 142.87739726027397,
          "elev": 26,
          "lat": 44.45,
          "long": -68.367,
          "name": "\"BAR HARBOR (AWOS)\"",
          "state": "ME",
          "usaf": "726077"
         },
         {
          "GHI (W/m^2)": 149.42351598173516,
          "elev": 17,
          "lat": 44.067,
          "long": -69.1,
          "name": "\"ROCKLAND/KNOX(AWOS)\"",
          "state": "ME",
          "usaf": "726079"
         },
         {
          "GHI (W/m^2)": 138.14029680365297,
          "elev": 309,
          "lat": 47.283,
          "long": -68.317,
          "name": "\"NORTHERN AROOSTOOK\"",
          "state": "ME",
          "usaf": "726083"
         },
         {
          "GHI (W/m^2)": 139.5853881278539,
          "elev": 56,
          "lat": 44.8,
          "long": -68.817,
          "name": "\"BANGOR INTERNATIONAL AP\"",
          "state": "ME",
          "usaf": "726088"
         },
         {
          "GHI (W/m^2)": 141.11552511415525,
          "elev": 176,
          "lat": 43.35,
          "long": -72.517,
          "name": "\"SPRINGFIELD/HARTNES\"",
          "state": "VT",
          "usaf": "726115"
         },
         {
          "GHI (W/m^2)": 143.1958904109589,
          "elev": 182,
          "lat": 43.633,
          "long": -72.3,
          "name": "\"LEBANON MUNICIPAL\"",
          "state": "NH",
          "usaf": "726116"
         },
         {
          "GHI (W/m^2)": 131.43641552511414,
          "elev": 1910,
          "lat": 44.267,
          "long": -71.3,
          "name": "\"MOUNT WASHINGTON\"",
          "state": "NH",
          "usaf": "726130"
         },
         {
          "GHI (W/m^2)": 137.9804794520548,
          "elev": 343,
          "lat": 44.2,
          "long": -72.567,
          "name": "\"MONTPELIER AP\"",
          "state": "VT",
          "usaf": "726145"
         },
         {
          "GHI (W/m^2)": 160.7353881278539,
          "elev": 166,
          "lat": 43.567,
          "long": -71.417,
          "name": "\"LACONIA MUNI (AWOS)\"",
          "state": "NH",
          "usaf": "726155"
         },
         {
          "GHI (W/m^2)": 137.11438356164385,
          "elev": 353,
          "lat": 44.583,
          "long": -71.183,
          "name": "\"BERLIN MUNICIPAL\"",
          "state": "NH",
          "usaf": "726160"
         },
         {
          "GHI (W/m^2)": 157.35045662100455,
          "elev": 153,
          "lat": 42.9,
          "long": -72.267,
          "name": "\"DILLANT HOPKINS\"",
          "state": "NH",
          "usaf": "726165"
         },
         {
          "GHI (W/m^2)": 153.10707762557078,
          "elev": 101,
          "lat": 44.467,
          "long": -73.15,
          "name": "\"BURLINGTON INTERNATIONAL AP\"",
          "state": "VT",
          "usaf": "726170"
         },
         {
          "GHI (W/m^2)": 155.39817351598174,
          "elev": 88,
          "lat": 44.05,
          "long": -70.283,
          "name": "\"AUBURN-LEWISTON\"",
          "state": "ME",
          "usaf": "726184"
         },
         {
          "GHI (W/m^2)": 136.96746575342465,
          "elev": 107,
          "lat": 44.317,
          "long": -69.8,
          "name": "\"AUGUSTA AIRPORT\"",
          "state": "ME",
          "usaf": "726185"
         },
         {
          "GHI (W/m^2)": 137.788698630137,
          "elev": 124,
          "lat": 45.65,
          "long": -68.683,
          "name": "\"MILLINOCKET MUNICIPAL AP\"",
          "state": "ME",
          "usaf": "726196"
         },
         {
          "GHI (W/m^2)": 154.08287671232875,
          "elev": 65,
          "lat": 44.933,
          "long": -74.85,
          "name": "\"MASSENA AP\"",
          "state": "NY",
          "usaf": "726223"
         },
         {
          "GHI (W/m^2)": 134.76164383561644,
          "elev": 97,
          "lat": 44,
          "long": -76.017,
          "name": "\"WATERTOWN AP\"",
          "state": "NY",
          "usaf": "726227"
         },
         {
          "GHI (W/m^2)": 145.22157534246574,
          "elev": 520,
          "lat": 44.383,
          "long": -74.2,
          "name": "\"ADIRONDACK RGNL\"",
          "state": "NY",
          "usaf": "726228"
         },
         {
          "GHI (W/m^2)": 158.31381278538814,
          "elev": 242,
          "lat": 42.883,
          "long": -85.517,
          "name": "\"GRAND RAPIDS KENT COUNTY INT'\"",
          "state": "MI",
          "usaf": "726350"
         },
         {
          "GHI (W/m^2)": 149.7763698630137,
          "elev": 196,
          "lat": 42.133,
          "long": -86.433,
          "name": "\"BENTON HARBOR/ROSS\"",
          "state": "MI",
          "usaf": "726355"
         },
         {
          "GHI (W/m^2)": 146.92853881278538,
          "elev": 273,
          "lat": 42.233,
          "long": -85.55,
          "name": "\"KALAMAZOO BATTLE CR\"",
          "state": "MI",
          "usaf": "726357"
         },
         {
          "GHI (W/m^2)": 159.36461187214613,
          "elev": 190,
          "lat": 43.167,
          "long": -86.233,
          "name": "\"MUSKEGON COUNTY ARPT\"",
          "state": "MI",
          "usaf": "726360"
         },
         {
          "GHI (W/m^2)": 155.21563926940638,
          "elev": 234,
          "lat": 42.967,
          "long": -83.75,
          "name": "\"FLINT BISHOP INTL ARPT\"",
          "state": "MI",
          "usaf": "726370"
         },
         {
          "GHI (W/m^2)": 141.6670091324201,
          "elev": 306,
          "lat": 42.667,
          "long": -83.417,
          "name": "\"OAKLAND CO INTL\"",
          "state": "MI",
          "usaf": "726375"
         },
         {
          "GHI (W/m^2)": 153.45947488584474,
          "elev": 201,
          "lat": 43.533,
          "long": -84.083,
          "name": "\"SAGINAW TRI CITY INTL AP\"",
          "state": "MI",
          "usaf": "726379"
         },
         {
          "GHI (W/m^2)": 146.93812785388127,
          "elev": 351,
          "lat": 44.367,
          "long": -84.683,
          "name": "\"HOUGHTON LAKE ROSCOMMON CO AR\"",
          "state": "MI",
          "usaf": "726380"
         },
         {
          "GHI (W/m^2)": 148.54429223744293,
          "elev": 396,
          "lat": 44.283,
          "long": -85.417,
          "name": "\"CADILLAC WEXFORD CO AP\"",
          "state": "MI",
          "usaf": "726384"
         },
         {
          "GHI (W/m^2)": 151.6667808219178,
          "elev": 189,
          "lat": 44.267,
          "long": -86.25,
          "name": "\"MANISTEE (AWOS)\"",
          "state": "MI",
          "usaf": "726385"
         },
         {
          "GHI (W/m^2)": 151.65696347031962,
          "elev": 188,
          "lat": 44.733,
          "long": -85.583,
          "name": "\"TRAVERSE CITY CHERRY CAPITAL\"",
          "state": "MI",
          "usaf": "726387"
         },
         {
          "GHI (W/m^2)": 154.9618721461187,
          "elev": 210,
          "lat": 45.067,
          "long": -83.583,
          "name": "\"ALPENA COUNTY REGIONAL AP\"",
          "state": "MI",
          "usaf": "726390"
         },
         {
          "GHI (W/m^2)": 149.70947488584474,
          "elev": 188,
          "lat": 44.45,
          "long": -83.4,
          "name": "\"OSCODA WURTSMITH AFB\"",
          "state": "MI",
          "usaf": "726395"
         },
         {
          "GHI (W/m^2)": 160.59737442922375,
          "elev": 205,
          "lat": 42.95,
          "long": -87.9,
          "name": "\"MILWAUKEE MITCHELL INTL AP\"",
          "state": "WI",
          "usaf": "726400"
         },
         {
          "GHI (W/m^2)": 147.20376712328766,
          "elev": 496,
          "lat": 45.933,
          "long": -89.733,
          "name": "\"MINOCQUA/WOODRUFF\"",
          "state": "WI",
          "usaf": "726404"
         },
         {
          "GHI (W/m^2)": 162.9494292237443,
          "elev": 262,
          "lat": 43.13,
          "long": -89.33,
          "name": "\"MADISON DANE CO REGIONAL ARPT [ISIS]\"",
          "state": "WI",
          "usaf": "726410"
         },
         {
          "GHI (W/m^2)": 147.98573059360731,
          "elev": 246,
          "lat": 42.617,
          "long": -89.033,
          "name": "\"JANESVILLE/ROCK CO.\"",
          "state": "WI",
          "usaf": "726415"
         },
         {
          "GHI (W/m^2)": 146.55456621004566,
          "elev": 219,
          "lat": 43.2,
          "long": -90.183,
          "name": "\"LONE ROCK FAA AP\"",
          "state": "WI",
          "usaf": "726416"
         },
         {
          "GHI (W/m^2)": 160.9150684931507,
          "elev": 198,
          "lat": 43.867,
          "long": -91.25,
          "name": "\"LA CROSSE MUNICIPAL ARPT\"",
          "state": "WI",
          "usaf": "726430"
         },
         {
          "GHI (W/m^2)": 157.81198630136987,
          "elev": 271,
          "lat": 44.867,
          "long": -91.483,
          "name": "\"EAU CLAIRE COUNTY AP\"",
          "state": "WI",
          "usaf": "726435"
         },
         {
          "GHI (W/m^2)": 156.6470319634703,
          "elev": 398,
          "lat": 43.9,
          "long": -92.5,
          "name": "\"ROCHESTER INTERNATIONAL ARPT\"",
          "state": "MN",
          "usaf": "726440"
         },
         {
          "GHI (W/m^2)": 157.12865296803653,
          "elev": 209,
          "lat": 44.483,
          "long": -88.133,
          "name": "\"GREEN BAY AUSTIN STRAUBEL INT\"",
          "state": "WI",
          "usaf": "726450"
         },
         {
          "GHI (W/m^2)": 147.90559360730595,
          "elev": 198,
          "lat": 44.133,
          "long": -87.683,
          "name": "\"MANITOWAC MUNI AWOS\"",
          "state": "WI",
          "usaf": "726455"
         },
         {
          "GHI (W/m^2)": 151.70205479452054,
          "elev": 253,
          "lat": 43.983,
          "long": -88.55,
          "name": "\"WITTMAN RGNL\"",
          "state": "WI",
          "usaf": "726456"
         },
         {
          "GHI (W/m^2)": 151.376598173516,
          "elev": 280,
          "lat": 44.25,
          "long": -88.517,
          "name": "\"APPLETON/OUTAGAMIE\"",
          "state": "WI",
          "usaf": "726457"
         },
         {
          "GHI (W/m^2)": 150.2541095890411,
          "elev": 221,
          "lat": 44.85,
          "long": -87.417,
          "name": "\"STURGEON BAY\"",
          "state": "WI",
          "usaf": "726458"
         },
         {
          "GHI (W/m^2)": 149.16415525114155,
          "elev": 366,
          "lat": 44.917,
          "long": -89.633,
          "name": "\"WAUSAU MUNICIPAL ARPT\"",
          "state": "WI",
          "usaf": "726463"
         },
         {
          "GHI (W/m^2)": 152.26678082191782,
          "elev": 254,
          "lat": 43.167,
          "long": -88.717,
          "name": "\"WATERTOWN\"",
          "state": "WI",
          "usaf": "726464"
         },
         {
          "GHI (W/m^2)": 152.90639269406392,
          "elev": 389,
          "lat": 44.783,
          "long": -89.667,
          "name": "\"MOSINEE/CENTRAL WI\"",
          "state": "WI",
          "usaf": "726465"
         },
         {
          "GHI (W/m^2)": 149.9019406392694,
          "elev": 347,
          "lat": 45.483,
          "long": -91.717,
          "name": "\"RICE LAKE MUNICIPAL\"",
          "state": "WI",
          "usaf": "726467"
         },
         {
          "GHI (W/m^2)": 153.5461187214612,
          "elev": 449,
          "lat": 45.7,
          "long": -90.4,
          "name": "\"PHILLIPS/PRICE CO.\"",
          "state": "WI",
          "usaf": "726468"
         },
         {
          "GHI (W/m^2)": 150.1496575342466,
          "elev": 187,
          "lat": 45.75,
          "long": -87.033,
          "name": "\"ESCANABA (AWOS)\"",
          "state": "MI",
          "usaf": "726480"
         },
         {
          "GHI (W/m^2)": 144.5345890410959,
          "elev": 191,
          "lat": 45.133,
          "long": -87.633,
          "name": "\"MENOMINEE (AWOS)\"",
          "state": "MI",
          "usaf": "726487"
         },
         {
          "GHI (W/m^2)": 156.76381278538813,
          "elev": 244,
          "lat": 41.05,
          "long": -91.983,
          "name": "\"FAIR FIELD\"",
          "state": "IA",
          "usaf": "726498"
         },
         {
          "GHI (W/m^2)": 152.9307077625571,
          "elev": 401,
          "lat": 43.4,
          "long": -94.75,
          "name": "\"ESTHERVILLE MUNI\"",
          "state": "IA",
          "usaf": "726499"
         },
         {
          "GHI (W/m^2)": 145.15981735159818,
          "elev": 408,
          "lat": 43.167,
          "long": -95.15,
          "name": "\"SPENCER\"",
          "state": "IA",
          "usaf": "726500"
         },
         {
          "GHI (W/m^2)": 168.3720319634703,
          "elev": 433,
          "lat": 43.583,
          "long": -96.75,
          "name": "\"SIOUX FALLS FOSS FIELD\"",
          "state": "SD",
          "usaf": "726510"
         },
         {
          "GHI (W/m^2)": 159.5791095890411,
          "elev": 502,
          "lat": 44.3,
          "long": -96.817,
          "name": "\"BROOKINGS (AWOS)\"",
          "state": "SD",
          "usaf": "726515"
         },
         {
          "GHI (W/m^2)": 163.025,
          "elev": 408,
          "lat": 42.917,
          "long": -97.383,
          "name": "\"CHAN GURNEY MUNI\"",
          "state": "SD",
          "usaf": "726525"
         },
         {
          "GHI (W/m^2)": 170.18299086757992,
          "elev": 390,
          "lat": 44.4,
          "long": -98.217,
          "name": "\"HURON REGIONAL ARPT\"",
          "state": "SD",
          "usaf": "726540"
         },
         {
          "GHI (W/m^2)": 141.17808219178082,
          "elev": 397,
          "lat": 48.017,
          "long": -92.867,
          "name": "\"ORR\"",
          "state": "MN",
          "usaf": "726544"
         },
         {
          "GHI (W/m^2)": 155.47716894977168,
          "elev": 397,
          "lat": 43.767,
          "long": -98.033,
          "name": "\"MITCHELL (AWOS)\"",
          "state": "SD",
          "usaf": "726545"
         },
         {
          "GHI (W/m^2)": 146.92488584474887,
          "elev": 532,
          "lat": 44.933,
          "long": -97.15,
          "name": "\"WATERTOWN MUNICIPAL AP\"",
          "state": "SD",
          "usaf": "726546"
         },
         {
          "GHI (W/m^2)": 158.38755707762556,
          "elev": 425,
          "lat": 45.65,
          "long": -95.317,
          "name": "\"GLENWOOD (ASOS)\"",
          "state": "MN",
          "usaf": "726547"
         },
         {
          "GHI (W/m^2)": 161.16518264840184,
          "elev": 311,
          "lat": 45.55,
          "long": -94.05,
          "name": "\"ST CLOUD REGIONAL ARPT\"",
          "state": "MN",
          "usaf": "726550"
         },
         {
          "GHI (W/m^2)": 140.05593607305937,
          "elev": 374,
          "lat": 46.4,
          "long": -94.133,
          "name": "\"BRAINERD/WIELAND\"",
          "state": "MN",
          "usaf": "726555"
         },
         {
          "GHI (W/m^2)": 133.27374429223744,
          "elev": 312,
          "lat": 44.55,
          "long": -95.083,
          "name": "\"REDWOOD FALLS MUNI\"",
          "state": "MN",
          "usaf": "726556"
         },
         {
          "GHI (W/m^2)": 148.51780821917808,
          "elev": 433,
          "lat": 45.883,
          "long": -95.4,
          "name": "\"ALEXANDRIA MUNICIPAL AP\"",
          "state": "MN",
          "usaf": "726557"
         },
         {
          "GHI (W/m^2)": 147.2810502283105,
          "elev": 390,
          "lat": 46.7,
          "long": -92.5,
          "name": "\"CLOQUET (AWOS)\"",
          "state": "MN",
          "usaf": "726558"
         },
         {
          "GHI (W/m^2)": 155.56506849315068,
          "elev": 359,
          "lat": 44.45,
          "long": -95.817,
          "name": "\"MARSHALL/RYAN(AWOS)\"",
          "state": "MN",
          "usaf": "726559"
         },
         {
          "GHI (W/m^2)": 143.2219178082192,
          "elev": 361,
          "lat": 46.283,
          "long": -96.15,
          "name": "\"FERGUS FALLS(AWOS)\"",
          "state": "MN",
          "usaf": "726560"
         },
         {
          "GHI (W/m^2)": 151.86141552511415,
          "elev": 322,
          "lat": 44.333,
          "long": -93.317,
          "name": "\"FARIBAULT MUNI AWOS\"",
          "state": "MN",
          "usaf": "726563"
         },
         {
          "GHI (W/m^2)": 146.97968036529682,
          "elev": 239,
          "lat": 44.583,
          "long": -92.483,
          "name": "\"RED WING\"",
          "state": "MN",
          "usaf": "726564"
         },
         {
          "GHI (W/m^2)": 154.67260273972602,
          "elev": 344,
          "lat": 45.567,
          "long": -95.967,
          "name": "\"MORRIS MUNI (AWOS)\"",
          "state": "MN",
          "usaf": "726565"
         },
         {
          "GHI (W/m^2)": 159.0060502283105,
          "elev": 529,
          "lat": 43.983,
          "long": -96.317,
          "name": "\"PIPESTONE (AWOS)\"",
          "state": "MN",
          "usaf": "726566"
         },
         {
          "GHI (W/m^2)": 153.06792237442923,
          "elev": 308,
          "lat": 44.317,
          "long": -94.5,
          "name": "\"NEW ULM MUNI (AWOS)\"",
          "state": "MN",
          "usaf": "726567"
         },
         {
          "GHI (W/m^2)": 152.20970319634702,
          "elev": 350,
          "lat": 44.117,
          "long": -93.25,
          "name": "\"OWATONNA (AWOS)\"",
          "state": "MN",
          "usaf": "726568"
         },
         {
          "GHI (W/m^2)": 147.260502283105,
          "elev": 323,
          "lat": 44.867,
          "long": -94.383,
          "name": "\"HUTCHINSON (AWOS)\"",
          "state": "MN",
          "usaf": "726569"
         },
         {
          "GHI (W/m^2)": 150.56940639269408,
          "elev": 389,
          "lat": 44.633,
          "long": -90.183,
          "name": "\"MARSHFIELD MUNI\"",
          "state": "WI",
          "usaf": "726574"
         },
         {
          "GHI (W/m^2)": 137.46609589041097,
          "elev": 265,
          "lat": 45.067,
          "long": -93.35,
          "name": "\"MINNEAPOLIS/CRYSTAL\"",
          "state": "MN",
          "usaf": "726575"
         },
         {
          "GHI (W/m^2)": 154.76518264840183,
          "elev": 345,
          "lat": 45.117,
          "long": -95.083,
          "name": "\"WILLMAR\"",
          "state": "MN",
          "usaf": "726576"
         },
         {
          "GHI (W/m^2)": 141.79828767123288,
          "elev": 342,
          "lat": 45.95,
          "long": -94.35,
          "name": "\"LITTLE FALLS (AWOS)\"",
          "state": "MN",
          "usaf": "726578"
         },
         {
          "GHI (W/m^2)": 152.29155251141552,
          "elev": 283,
          "lat": 44.817,
          "long": -93.45,
          "name": "\"FLYING CLOUD\"",
          "state": "MN",
          "usaf": "726579"
         },
         {
          "GHI (W/m^2)": 159.6845890410959,
          "elev": 254,
          "lat": 44.883,
          "long": -93.233,
          "name": "\"MINNEAPOLIS-ST PAUL INT'L ARP\"",
          "state": "MN",
          "usaf": "726580"
         },
         {
          "GHI (W/m^2)": 160.03949771689497,
          "elev": 347,
          "lat": 45.1,
          "long": -94.5,
          "name": "\"LITCHFIELD MUNI\"",
          "state": "MN",
          "usaf": "726583"
         },
         {
          "GHI (W/m^2)": 146.82397260273973,
          "elev": 220,
          "lat": 44.933,
          "long": -93.05,
          "name": "\"ST PAUL DOWNTOWN AP\"",
          "state": "MN",
          "usaf": "726584"
         },
         {
          "GHI (W/m^2)": 152.062100456621,
          "elev": 311,
          "lat": 44.217,
          "long": -93.917,
          "name": "\"MANKATO(AWOS)\"",
          "state": "MN",
          "usaf": "726585"
         },
         {
          "GHI (W/m^2)": 160.64783105022832,
          "elev": 354,
          "lat": 43.65,
          "long": -94.417,
          "name": "\"FAIRMONT MUNI(AWOS)\"",
          "state": "MN",
          "usaf": "726586"
         },
         {
          "GHI (W/m^2)": 157.95262557077626,
          "elev": 480,
          "lat": 43.65,
          "long": -95.583,
          "name": "\"WORTHINGTON (AWOS)\"",
          "state": "MN",
          "usaf": "726587"
         },
         {
          "GHI (W/m^2)": 142.3527397260274,
          "elev": 200,
          "lat": 44.083,
          "long": -91.7,
          "name": "\"WINONA MUNI (AWOS)\"",
          "state": "MN",
          "usaf": "726588"
         },
         {
          "GHI (W/m^2)": 148.91655251141552,
          "elev": 383,
          "lat": 43.683,
          "long": -93.367,
          "name": "\"ALBERT LEA (AWOS)\"",
          "state": "MN",
          "usaf": "726589"
         },
         {
          "GHI (W/m^2)": 161.81141552511414,
          "elev": 398,
          "lat": 45.45,
          "long": -98.417,
          "name": "\"ABERDEEN REGIONAL ARPT\"",
          "state": "SD",
          "usaf": "726590"
         },
         {
          "GHI (W/m^2)": 157.78778538812784,
          "elev": 250,
          "lat": 44.85,
          "long": -93.15,
          "name": "\"SOUTH ST PAUL MUNI\"",
          "state": "MN",
          "usaf": "726603"
         },
         {
          "GHI (W/m^2)": 179.00171232876713,
          "elev": 963,
          "lat": 44.05,
          "long": -103.05,
          "name": "\"RAPID CITY REGIONAL ARPT\"",
          "state": "SD",
          "usaf": "726620"
         },
         {
          "GHI (W/m^2)": 163.99988584474886,
          "elev": 980,
          "lat": 44.15,
          "long": -103.1,
          "name": "\"ELLSWORTH AFB\"",
          "state": "SD",
          "usaf": "726625"
         },
         {
          "GHI (W/m^2)": 156.1747716894977,
          "elev": 464,
          "lat": 45.15,
          "long": -87.15,
          "name": "\"ANTIGO\\LANG(AWOS)\"",
          "state": "WI",
          "usaf": "726626"
         },
         {
          "GHI (W/m^2)": 178.2062785388128,
          "elev": 1230,
          "lat": 44.35,
          "long": -105.533,
          "name": "\"GILLETTE/GILLETTE-C\"",
          "state": "WY",
          "usaf": "726650"
         },
         {
          "GHI (W/m^2)": 174.90570776255709,
          "elev": 1208,
          "lat": 44.767,
          "long": -106.967,
          "name": "\"SHERIDAN COUNTY ARPT\"",
          "state": "WY",
          "usaf": "726660"
         },
         {
          "GHI (W/m^2)": 182.79018264840184,
          "elev": 1294,
          "lat": 43.967,
          "long": -107.95,
          "name": "\"WORLAND MUNICIPAL\"",
          "state": "WY",
          "usaf": "726665"
         },
         {
          "GHI (W/m^2)": 154.88949771689497,
          "elev": 749,
          "lat": 47.133,
          "long": -104.8,
          "name": "\"GLENDIVE(AWOS)\"",
          "state": "MT",
          "usaf": "726676"
         },
         {
          "GHI (W/m^2)": 152.7953196347032,
          "elev": 508,
          "lat": 45.533,
          "long": -100.433,
          "name": "\"MOBRIDGE\"",
          "state": "SD",
          "usaf": "726685"
         },
         {
          "GHI (W/m^2)": 171.72705479452054,
          "elev": 528,
          "lat": 44.383,
          "long": -100.283,
          "name": "\"PIERRE MUNICIPAL AP\"",
          "state": "SD",
          "usaf": "726686"
         },
         {
          "GHI (W/m^2)": 179.79041095890412,
          "elev": 1553,
          "lat": 44.517,
          "long": -109.017,
          "name": "\"CODY MUNI (AWOS)\"",
          "state": "WY",
          "usaf": "726700"
         },
         {
          "GHI (W/m^2)": 171.48527397260273,
          "elev": 1087,
          "lat": 45.8,
          "long": -108.55,
          "name": "\"BILLINGS LOGAN INT'L ARPT\"",
          "state": "MT",
          "usaf": "726770"
         },
         {
          "GHI (W/m^2)": 161.72968036529682,
          "elev": 1263,
          "lat": 47.05,
          "long": -109.45,
          "name": "\"LEWISTOWN MUNICIPAL ARPT\"",
          "state": "MT",
          "usaf": "726776"
         },
         {
          "GHI (W/m^2)": 171.36358447488584,
          "elev": 1689,
          "lat": 45.95,
          "long": -112.5,
          "name": "\"BUTTE BERT MOONEY ARPT\"",
          "state": "MT",
          "usaf": "726785"
         },
         {
          "GHI (W/m^2)": 166.91883561643834,
          "elev": 1349,
          "lat": 45.8,
          "long": -111.15,
          "name": "\"BOZEMAN GALLATIN FIELD\"",
          "state": "MT",
          "usaf": "726797"
         },
         {
          "GHI (W/m^2)": 170.2400684931507,
          "elev": 1418,
          "lat": 45.7,
          "long": -110.45,
          "name": "\"LIVINGSTON MISSION FIELD\"",
          "state": "MT",
          "usaf": "726798"
         },
         {
          "GHI (W/m^2)": 184.55308219178082,
          "elev": 701,
          "lat": 43.62,
          "long": -116.21,
          "name": "\"BOISE AIR TERMINAL [UO]\"",
          "state": "ID",
          "usaf": "726810"
         },
         {
          "GHI (W/m^2)": 193.59497716894978,
          "elev": 740,
          "lat": 43.633,
          "long": -116.633,
          "name": "\"CALDWELL (AWOS)\"",
          "state": "ID",
          "usaf": "726813"
         },
         {
          "GHI (W/m^2)": 191.4568493150685,
          "elev": 912,
          "lat": 43.05,
          "long": -115.867,
          "name": "\"MOUNTAIN HOME AFB\"",
          "state": "ID",
          "usaf": "726815"
         },
         {
          "GHI (W/m^2)": 183.78550228310502,
          "elev": 1271,
          "lat": 43.52,
          "long": -119.02,
          "name": "\"BURNS MUNICIPAL ARPT [UO]\"",
          "state": "OR",
          "usaf": "726830"
         },
         {
          "GHI (W/m^2)": 181.56712328767122,
          "elev": 933,
          "lat": 44.25,
          "long": -121.167,
          "name": "\"REDMOND ROBERTS FIELD\"",
          "state": "OR",
          "usaf": "726835"
         },
         {
          "GHI (W/m^2)": 177.81826484018265,
          "elev": 1233,
          "lat": 45.117,
          "long": -113.883,
          "name": "\"SALMON/LEMHI (AWOS)\"",
          "state": "ID",
          "usaf": "726865"
         },
         {
          "GHI (W/m^2)": 173.65844748858447,
          "elev": 452,
          "lat": 45.7,
          "long": -118.833,
          "name": "\"PENDLETON E OR REGIONAL AP\"",
          "state": "OR",
          "usaf": "726880"
         },
         {
          "GHI (W/m^2)": 172.0447488584475,
          "elev": 827,
          "lat": 45.283,
          "long": -118,
          "name": "\"LA GRANDE MUNI AP\"",
          "state": "OR",
          "usaf": "726884"
         },
         {
          "GHI (W/m^2)": 176.78675799086759,
          "elev": 1027,
          "lat": 44.833,
          "long": -117.817,
          "name": "\"BAKER MUNICIPAL AP\"",
          "state": "OR",
          "usaf": "726886"
         },
         {
          "GHI (W/m^2)": 164.96632420091325,
          "elev": 160,
          "lat": 43.233,
          "long": -123.35,
          "name": "\"ROSEBURG REGIONAL AP\"",
          "state": "OR",
          "usaf": "726904"
         },
         {
          "GHI (W/m^2)": 161.53493150684932,
          "elev": 2,
          "lat": 43.417,
          "long": -124.25,
          "name": "\"NORTH BEND MUNI AIRPORT\"",
          "state": "OR",
          "usaf": "726917"
         },
         {
          "GHI (W/m^2)": 154.3563926940639,
          "elev": 109,
          "lat": 44.05,
          "long": -123.07,
          "name": "\"EUGENE MAHLON SWEET ARPT [UO]\"",
          "state": "OR",
          "usaf": "726930"
         },
         {
          "GHI (W/m^2)": 154.22351598173515,
          "elev": 60,
          "lat": 44.9,
          "long": -123,
          "name": "\"SALEM MCNARY FIELD\"",
          "state": "OR",
          "usaf": "726940"
         },
         {
          "GHI (W/m^2)": 159.1224885844749,
          "elev": 77,
          "lat": 44.483,
          "long": -123.283,
          "name": "\"CORVALLIS MUNI\"",
          "state": "OR",
          "usaf": "726945"
         },
         {
          "GHI (W/m^2)": 151.54577625570775,
          "elev": 60,
          "lat": 45.25,
          "long": -122.767,
          "name": "\"AURORA STATE\"",
          "state": "OR",
          "usaf": "726959"
         },
         {
          "GHI (W/m^2)": 146.7746575342466,
          "elev": 6,
          "lat": 45.6,
          "long": -122.617,
          "name": "\"PORTLAND INTERNATIONAL AP\"",
          "state": "OR",
          "usaf": "726980"
         },
         {
          "GHI (W/m^2)": 146.6972602739726,
          "elev": 11,
          "lat": 45.55,
          "long": -122.4,
          "name": "\"PORTLAND/TROUTDALE\"",
          "state": "OR",
          "usaf": "726985"
         },
         {
          "GHI (W/m^2)": 151.15970319634704,
          "elev": 62,
          "lat": 45.533,
          "long": -122.95,
          "name": "\"PORTLAND/HILLSBORO\"",
          "state": "OR",
          "usaf": "726986"
         },
         {
          "GHI (W/m^2)": 170.85673515981736,
          "elev": 73,
          "lat": 45.617,
          "long": -121.15,
          "name": "\"THE DALLES MUNICIPAL ARPT\"",
          "state": "WA",
          "usaf": "726988"
         },
         {
          "GHI (W/m^2)": 135.10627853881277,
          "elev": 150,
          "lat": 46.117,
          "long": -67.8,
          "name": "\"HOULTON INTL ARPT\"",
          "state": "ME",
          "usaf": "727033"
         },
         {
          "GHI (W/m^2)": 138.90102739726026,
          "elev": 190,
          "lat": 46.867,
          "long": -68.033,
          "name": "\"CARIBOU MUNICIPAL ARPT\"",
          "state": "ME",
          "usaf": "727120"
         },
         {
          "GHI (W/m^2)": 150.57625570776256,
          "elev": 163,
          "lat": 46.683,
          "long": -68.05,
          "name": "\"PRESQUE ISLE MUNICIP\"",
          "state": "ME",
          "usaf": "727130"
         },
         {
          "GHI (W/m^2)": 139.7821917808219,
          "elev": 21,
          "lat": 43.967,
          "long": -69.717,
          "name": "\"WISCASSET\"",
          "state": "ME",
          "usaf": "727135"
         },
         {
          "GHI (W/m^2)": 152.6181506849315,
          "elev": 219,
          "lat": 46.467,
          "long": -84.35,
          "name": "\"SAULT STE MARIE SANDERSON FIE\"",
          "state": "MI",
          "usaf": "727340"
         },
         {
          "GHI (W/m^2)": 138.59315068493152,
          "elev": 250,
          "lat": 46.25,
          "long": -84.467,
          "name": "\"CHIPPEWA CO INTL\"",
          "state": "MI",
          "usaf": "727344"
         },
         {
          "GHI (W/m^2)": 144.87534246575342,
          "elev": 218,
          "lat": 45.567,
          "long": -84.783,
          "name": "\"PELLSTON EMMET COUNTY AP\"",
          "state": "MI",
          "usaf": "727347"
         },
         {
          "GHI (W/m^2)": 140.8293378995434,
          "elev": 507,
          "lat": 45.633,
          "long": -89.467,
          "name": "\"RHINELANDER ONEIDA\"",
          "state": "WI",
          "usaf": "727415"
         },
         {
          "GHI (W/m^2)": 142.29212328767125,
          "elev": 360,
          "lat": 45.817,
          "long": -88.117,
          "name": "\"IRON MOUNTAIN/FORD\"",
          "state": "MI",
          "usaf": "727437"
         },
         {
          "GHI (W/m^2)": 141.97237442922375,
          "elev": 327,
          "lat": 47.167,
          "long": -88.5,
          "name": "\"HANCOCK HOUGHTON CO AP\"",
          "state": "MI",
          "usaf": "727440"
         },
         {
          "GHI (W/m^2)": 149.7857305936073,
          "elev": 328,
          "lat": 47.05,
          "long": -91.75,
          "name": "\"TWO HARBORS\"",
          "state": "MN",
          "usaf": "727444"
         },
         {
          "GHI (W/m^2)": 150.21963470319633,
          "elev": 375,
          "lat": 46.533,
          "long": -90.133,
          "name": "\"IRONWOOD (AWOS)\"",
          "state": "MI",
          "usaf": "727445"
         },
         {
          "GHI (W/m^2)": 153.23287671232876,
          "elev": 433,
          "lat": 46.833,
          "long": -92.217,
          "name": "\"DULUTH INTERNATIONAL ARPT\"",
          "state": "MN",
          "usaf": "727450"
         },
         {
          "GHI (W/m^2)": 149.81746575342467,
          "elev": 273,
          "lat": 47.85,
          "long": -96.617,
          "name": "\"CROOKSTON MUNI FLD\"",
          "state": "MN",
          "usaf": "727452"
         },
         {
          "GHI (W/m^2)": 138.34988584474885,
          "elev": 437,
          "lat": 46.9,
          "long": -95.067,
          "name": "\"PARK RAPIDS MUNICIPAL AP\"",
          "state": "MN",
          "usaf": "727453"
         },
         {
          "GHI (W/m^2)": 136.22876712328767,
          "elev": 411,
          "lat": 47.383,
          "long": -92.85,
          "name": "\"HIBBING CHISHOLM-HIBBING AP\"",
          "state": "MN",
          "usaf": "727455"
         },
         {
          "GHI (W/m^2)": 155.862100456621,
          "elev": 426,
          "lat": 46.833,
          "long": -95.883,
          "name": "\"DETROIT LAKES(AWOS)\"",
          "state": "MN",
          "usaf": "727457"
         },
         {
          "GHI (W/m^2)": 148.0824200913242,
          "elev": 413,
          "lat": 47.217,
          "long": -93.517,
          "name": "\"GRAND RAPIDS(AWOS)\"",
          "state": "MN",
          "usaf": "727458"
         },
         {
          "GHI (W/m^2)": 139.31917808219177,
          "elev": 455,
          "lat": 47.817,
          "long": -91.833,
          "name": "\"ELY MUNI\"",
          "state": "MN",
          "usaf": "727459"
         },
         {
          "GHI (W/m^2)": 143.99874429223743,
          "elev": 359,
          "lat": 48.567,
          "long": -93.4,
          "name": "\"INTERNATIONAL FALLS INTL AP\"",
          "state": "MN",
          "usaf": "727470"
         },
         {
          "GHI (W/m^2)": 149.01678082191782,
          "elev": 350,
          "lat": 46.267,
          "long": -92.567,
          "name": "\"CRANE LAKE (AWOS)\"",
          "state": "MN",
          "usaf": "727473"
         },
         {
          "GHI (W/m^2)": 143.36986301369862,
          "elev": 421,
          "lat": 47.4,
          "long": -92.5,
          "name": "\"EVELETH MUNI (AWOS)\"",
          "state": "MN",
          "usaf": "727474"
         },
         {
          "GHI (W/m^2)": 152.28938356164383,
          "elev": 309,
          "lat": 45.883,
          "long": -93.267,
          "name": "\"MORA MUNI (AWOS)\"",
          "state": "MN",
          "usaf": "727475"
         },
         {
          "GHI (W/m^2)": 150.53550228310502,
          "elev": 330,
          "lat": 48.717,
          "long": -94.6,
          "name": "\"BAUDETTE INTERNATIONAL AP\"",
          "state": "MN",
          "usaf": "727476"
         },
         {
          "GHI (W/m^2)": 139.1505707762557,
          "elev": 323,
          "lat": 48.85,
          "long": -95.7,
          "name": "\"ROSEAU MUNI (AWOS)\"",
          "state": "MN",
          "usaf": "727477"
         },
         {
          "GHI (W/m^2)": 143.92945205479452,
          "elev": 250,
          "lat": 48.783,
          "long": -96.95,
          "name": "\"HALLOCK\"",
          "state": "MN",
          "usaf": "727478"
         },
         {
          "GHI (W/m^2)": 154.19486301369864,
          "elev": 287,
          "lat": 45.567,
          "long": -93.267,
          "name": "\"CAMBRIDGE MUNI\"",
          "state": "MN",
          "usaf": "727503"
         },
         {
          "GHI (W/m^2)": 136.84760273972603,
          "elev": 367,
          "lat": 46.55,
          "long": -93.683,
          "name": "\"AITKIN NDB(AWOS)\"",
          "state": "MN",
          "usaf": "727504"
         },
         {
          "GHI (W/m^2)": 147.42568493150685,
          "elev": 388,
          "lat": 47.583,
          "long": -95.767,
          "name": "\"FOSSTON(AWOS)\"",
          "state": "MN",
          "usaf": "727505"
         },
         {
          "GHI (W/m^2)": 142.87876712328767,
          "elev": 317,
          "lat": 45.317,
          "long": -95.65,
          "name": "\"BENSON MUNI\"",
          "state": "MN",
          "usaf": "727507"
         },
         {
          "GHI (W/m^2)": 160.44897260273973,
          "elev": 274,
          "lat": 46.933,
          "long": -96.817,
          "name": "\"FARGO HECTOR INTERNATIONAL AP\"",
          "state": "ND",
          "usaf": "727530"
         },
         {
          "GHI (W/m^2)": 153.01632420091323,
          "elev": 313,
          "lat": 45.7,
          "long": -96.5,
          "name": "\"WHEATON NDB (AWOS)\"",
          "state": "MN",
          "usaf": "727533"
         },
         {
          "GHI (W/m^2)": 142.9428082191781,
          "elev": 455,
          "lat": 46.917,
          "long": -98.683,
          "name": "\"JAMESTOWN MUNICIPAL ARPT\"",
          "state": "ND",
          "usaf": "727535"
         },
         {
          "GHI (W/m^2)": 147.60810502283104,
          "elev": 420,
          "lat": 47.5,
          "long": -94.933,
          "name": "\"BEMIDJI MUNICIPAL\"",
          "state": "MN",
          "usaf": "727550"
         },
         {
          "GHI (W/m^2)": 145.7058219178082,
          "elev": 340,
          "lat": 48.067,
          "long": -96.183,
          "name": "\"THIEF RIVER(AWOS)\"",
          "state": "MN",
          "usaf": "727555"
         },
         {
          "GHI (W/m^2)": 150.2609589041096,
          "elev": 331,
          "lat": 47.2,
          "long": -91.4,
          "name": "\"SILVER BAY\"",
          "state": "MN",
          "usaf": "727556"
         },
         {
          "GHI (W/m^2)": 147.28972602739725,
          "elev": 375,
          "lat": 43.667,
          "long": -92.933,
          "name": "\"AUSTIN MUNI\"",
          "state": "MN",
          "usaf": "727566"
         },
         {
          "GHI (W/m^2)": 153.87705479452055,
          "elev": 443,
          "lat": 48.117,
          "long": -98.917,
          "name": "\"DEVILS LAKE(AWOS)\"",
          "state": "ND",
          "usaf": "727573"
         },
         {
          "GHI (W/m^2)": 139.35171232876712,
          "elev": 276,
          "lat": 47.967,
          "long": -97.4,
          "name": "\"GRAND FORKS AF\"",
          "state": "ND",
          "usaf": "727575"
         },
         {
          "GHI (W/m^2)": 151.17020547945205,
          "elev": 256,
          "lat": 47.95,
          "long": -97.183,
          "name": "\"GRAND FORKS INTERNATIONAL AP\"",
          "state": "ND",
          "usaf": "727576"
         },
         {
          "GHI (W/m^2)": 165.67442922374428,
          "elev": 502,
          "lat": 46.77,
          "long": -100.77,
          "name": "\"BISMARCK MUNICIPAL ARPT [ISIS]\"",
          "state": "ND",
          "usaf": "727640"
         },
         {
          "GHI (W/m^2)": 156.12808219178083,
          "elev": 788,
          "lat": 46.8,
          "long": -102.8,
          "name": "\"DICKINSON MUNICIPAL AP\"",
          "state": "ND",
          "usaf": "727645"
         },
         {
          "GHI (W/m^2)": 157.27191780821917,
          "elev": 580,
          "lat": 48.2,
          "long": -103.65,
          "name": "\"WILLISTON SLOULIN INTL AP\"",
          "state": "ND",
          "usaf": "727670"
         },
         {
          "GHI (W/m^2)": 150.17043378995433,
          "elev": 497,
          "lat": 48.417,
          "long": -101.35,
          "name": "\"MINOT AFB\"",
          "state": "ND",
          "usaf": "727675"
         },
         {
          "GHI (W/m^2)": 161.0972602739726,
          "elev": 523,
          "lat": 48.267,
          "long": -101.283,
          "name": "\"MINOT FAA AP\"",
          "state": "ND",
          "usaf": "727676"
         },
         {
          "GHI (W/m^2)": 162.48607305936073,
          "elev": 699,
          "lat": 48.217,
          "long": -106.617,
          "name": "\"GLASGOW INTL ARPT\"",
          "state": "MT",
          "usaf": "727680"
         },
         {
          "GHI (W/m^2)": 151.57146118721462,
          "elev": 634,
          "lat": 48.31,
          "long": -105.1,
          "name": "\"WOLF POINT INTL [FORT PECK - SURFRAD]\"",
          "state": "MT",
          "usaf": "727686"
         },
         {
          "GHI (W/m^2)": 147.98584474885845,
          "elev": 605,
          "lat": 47.7,
          "long": -104.2,
          "name": "\"SIDNEY-RICHLAND\"",
          "state": "MT",
          "usaf": "727687"
         },
         {
          "GHI (W/m^2)": 166.54908675799086,
          "elev": 1167,
          "lat": 46.6,
          "long": -111.967,
          "name": "\"HELENA REGIONAL AIRPORT\"",
          "state": "MT",
          "usaf": "727720"
         },
         {
          "GHI (W/m^2)": 157.51278538812787,
          "elev": 973,
          "lat": 46.917,
          "long": -114.1,
          "name": "\"MISSOULA INTERNATIONAL AP\"",
          "state": "MT",
          "usaf": "727730"
         },
         {
          "GHI (W/m^2)": 163.92431506849314,
          "elev": 1117,
          "lat": 47.467,
          "long": -111.383,
          "name": "\"GREAT FALLS INTL ARPT\"",
          "state": "MT",
          "usaf": "727750"
         },
         {
          "GHI (W/m^2)": 157.9478310502283,
          "elev": 788,
          "lat": 48.55,
          "long": -109.767,
          "name": "\"HAVRE CITY-COUNTY AP\"",
          "state": "MT",
          "usaf": "727770"
         },
         {
          "GHI (W/m^2)": 153.60422374429223,
          "elev": 906,
          "lat": 48.317,
          "long": -114.25,
          "name": "\"KALISPELL GLACIER PK INT'L AR\"",
          "state": "MT",
          "usaf": "727790"
         },
         {
          "GHI (W/m^2)": 164.68858447488586,
          "elev": 1170,
          "lat": 48.6,
          "long": -112.367,
          "name": "\"CUT BANK MUNI AP\"",
          "state": "MT",
          "usaf": "727796"
         },
         {
          "GHI (W/m^2)": 169.7283105022831,
          "elev": 324,
          "lat": 46.567,
          "long": -120.55,
          "name": "\"YAKIMA AIR TERMINAL\"",
          "state": "WA",
          "usaf": "727810"
         },
         {
          "GHI (W/m^2)": 156.86849315068494,
          "elev": 1206,
          "lat": 47.283,
          "long": -121.333,
          "name": "\"STAMPEDE PASS\"",
          "state": "WA",
          "usaf": "727815"
         },
         {
          "GHI (W/m^2)": 165.83093607305935,
          "elev": 379,
          "lat": 47.4,
          "long": -120.2,
          "name": "\"WENATCHEE/PANGBORN\"",
          "state": "WA",
          "usaf": "727825"
         },
         {
          "GHI (W/m^2)": 172.14771689497718,
          "elev": 384,
          "lat": 47.3,
          "long": -119.517,
          "name": "\"EPHRATA AP FCWOS\"",
          "state": "WA",
          "usaf": "727826"
         },
         {
          "GHI (W/m^2)": 172.11415525114154,
          "elev": 364,
          "lat": 47.2,
          "long": -119.317,
          "name": "\"MOSES LAKE GRANT COUNTY AP\"",
          "state": "WA",
          "usaf": "727827"
         },
         {
          "GHI (W/m^2)": 162.72933789954337,
          "elev": 438,
          "lat": 46.367,
          "long": -117.017,
          "name": "\"LEWISTON NEZ PERCE CNTY AP\"",
          "state": "ID",
          "usaf": "727830"
         },
         {
          "GHI (W/m^2)": 158.28310502283105,
          "elev": 707,
          "lat": 47.767,
          "long": -116.817,
          "name": "\"COEUR D`ALENE(AWOS)\"",
          "state": "ID",
          "usaf": "727834"
         },
         {
          "GHI (W/m^2)": 168.93835616438355,
          "elev": 223,
          "lat": 46.567,
          "long": -119.6,
          "name": "\"HANFORD\"",
          "state": "WA",
          "usaf": "727840"
         },
         {
          "GHI (W/m^2)": 175.52945205479452,
          "elev": 136,
          "lat": 46.267,
          "long": -119.117,
          "name": "\"PASCO\"",
          "state": "WA",
          "usaf": "727845"
         },
         {
          "GHI (W/m^2)": 166.25308219178083,
          "elev": 355,
          "lat": 46.1,
          "long": -118.283,
          "name": "\"WALLA WALLA CITY COUNTY AP\"",
          "state": "WA",
          "usaf": "727846"
         },
         {
          "GHI (W/m^2)": 160.8705479452055,
          "elev": 777,
          "lat": 47.49,
          "long": -117.589,
          "name": "\"SPOKANE INTERNATIONAL AP [CHENEY - UO]\"",
          "state": "WA",
          "usaf": "727850"
         },
         {
          "GHI (W/m^2)": 157.3318493150685,
          "elev": 743,
          "lat": 47.633,
          "long": -117.65,
          "name": "\"FAIRCHILD AFB\"",
          "state": "WA",
          "usaf": "727855"
         },
         {
          "GHI (W/m^2)": 156.51792237442922,
          "elev": 610,
          "lat": 47.683,
          "long": -117.317,
          "name": "\"FELTS FLD\"",
          "state": "WA",
          "usaf": "727856"
         },
         {
          "GHI (W/m^2)": 165.54577625570775,
          "elev": 778,
          "lat": 46.75,
          "long": -117.117,
          "name": "\"PULLMAN/MOSCOW RGNL\"",
          "state": "WA",
          "usaf": "727857"
         },
         {
          "GHI (W/m^2)": 144.062100456621,
          "elev": 91,
          "lat": 48.117,
          "long": -123.5,
          "name": "\"WILLIAM R FAIRCHILD\"",
          "state": "WA",
          "usaf": "727885"
         },
         {
          "GHI (W/m^2)": 135.22271689497717,
          "elev": 3,
          "lat": 46.15,
          "long": -123.883,
          "name": "\"ASTORIA REGIONAL AIRPORT\"",
          "state": "OR",
          "usaf": "727910"
         },
         {
          "GHI (W/m^2)": 135.5969178082192,
          "elev": 63,
          "lat": 46.967,
          "long": -122.9,
          "name": "\"OLYMPIA AIRPORT\"",
          "state": "WA",
          "usaf": "727920"
         },
         {
          "GHI (W/m^2)": 138.9730593607306,
          "elev": 4,
          "lat": 46.983,
          "long": -123.933,
          "name": "\"HOQUIAM AP\"",
          "state": "WA",
          "usaf": "727923"
         },
         {
          "GHI (W/m^2)": 144.15627853881278,
          "elev": 5,
          "lat": 46.133,
          "long": -122.9,
          "name": "\"KELSO WB AP\"",
          "state": "WA",
          "usaf": "727924"
         },
         {
          "GHI (W/m^2)": 116.19075342465753,
          "elev": 113,
          "lat": 46.483,
          "long": -122.8,
          "name": "\"TOLEDO-WINLOCK MEM\"",
          "state": "WA",
          "usaf": "727926"
         },
         {
          "GHI (W/m^2)": 139.53470319634704,
          "elev": 137,
          "lat": 47.483,
          "long": -122.75,
          "name": "\"BREMERTON NATIONAL\"",
          "state": "WA",
          "usaf": "727928"
         },
         {
          "GHI (W/m^2)": 141.5150684931507,
          "elev": 122,
          "lat": 47.467,
          "long": -122.317,
          "name": "\"SEATTLE SEATTLE-TACOMA INTL A\"",
          "state": "WA",
          "usaf": "727930"
         },
         {
          "GHI (W/m^2)": 143.38470319634703,
          "elev": 10,
          "lat": 47.483,
          "long": -122.217,
          "name": "\"RENTON MUNI\"",
          "state": "WA",
          "usaf": "727934"
         },
         {
          "GHI (W/m^2)": 138.3876712328767,
          "elev": 20,
          "lat": 47.68,
          "long": -122.25,
          "name": "\"SEATTLE BOEING FIELD [ISIS]\"",
          "state": "WA",
          "usaf": "727935"
         },
         {
          "GHI (W/m^2)": 140.52625570776254,
          "elev": 189,
          "lat": 47.9,
          "long": -122.283,
          "name": "\"SNOHOMISH CO\"",
          "state": "WA",
          "usaf": "727937"
         },
         {
          "GHI (W/m^2)": 141.48618721461187,
          "elev": 91,
          "lat": 47.267,
          "long": -122.583,
          "name": "\"TACOMA NARROWS\"",
          "state": "WA",
          "usaf": "727938"
         },
         {
          "GHI (W/m^2)": 125.5087899543379,
          "elev": 55,
          "lat": 47.933,
          "long": -124.567,
          "name": "\"QUILLAYUTE STATE AIRPORT\"",
          "state": "WA",
          "usaf": "727970"
         },
         {
          "GHI (W/m^2)": 137.68356164383562,
          "elev": 45,
          "lat": 48.8,
          "long": -122.533,
          "name": "\"BELLINGHAM INTL AP\"",
          "state": "WA",
          "usaf": "727976"
         },
         {
          "GHI (W/m^2)": 134.75011415525114,
          "elev": 88,
          "lat": 47.15,
          "long": -122.483,
          "name": "\"TACOMA MCCHORD AFB\"",
          "state": "WA",
          "usaf": "742060"
         },
         {
          "GHI (W/m^2)": 131.97420091324202,
          "elev": 90,
          "lat": 47.083,
          "long": -122.583,
          "name": "\"GRAY AAF\"",
          "state": "WA",
          "usaf": "742070"
         },
         {
          "GHI (W/m^2)": 172.92785388127854,
          "elev": 801,
          "lat": 46.433,
          "long": -105.883,
          "name": "\"MILES CITY MUNICIPAL ARPT\"",
          "state": "MT",
          "usaf": "742300"
         },
         {
          "GHI (W/m^2)": 135.64680365296803,
          "elev": 211,
          "lat": 44.05,
          "long": -75.717,
          "name": "\"FORT DRUM/WHEELER-S\"",
          "state": "NY",
          "usaf": "743700"
         },
         {
          "GHI (W/m^2)": 141.20102739726028,
          "elev": 21,
          "lat": 43.9,
          "long": -69.933,
          "name": "\"NAVAL AIR STATION\"",
          "state": "ME",
          "usaf": "743920"
         },
         {
          "GHI (W/m^2)": 144.4302511415525,
          "elev": 69,
          "lat": 42.933,
          "long": -71.433,
          "name": "\"MANCHESTER AIRPORT\"",
          "state": "NH",
          "usaf": "743945"
         },
         {
          "GHI (W/m^2)": 158.52865296803654,
          "elev": 215,
          "lat": 41.767,
          "long": -88.467,
          "name": "\"AURORA MUNICIPAL\"",
          "state": "IL",
          "usaf": "744655"
         },
         {
          "GHI (W/m^2)": 163.2881278538813,
          "elev": 5,
          "lat": 40.65,
          "long": -73.8,
          "name": "\"NEW YORK J F KENNEDY INT'L AR\"",
          "state": "NY",
          "usaf": "744860"
         },
         {
          "GHI (W/m^2)": 164.94269406392695,
          "elev": 26,
          "lat": 40.717,
          "long": -73.417,
          "name": "\"REPUBLIC\"",
          "state": "NY",
          "usaf": "744864"
         },
         {
          "GHI (W/m^2)": 153.8843607305936,
          "elev": 20,
          "lat": 40.85,
          "long": -72.633,
          "name": "\"WESTHAMPTON GABRESKI AP\"",
          "state": "NY",
          "usaf": "744865"
         },
         {
          "GHI (W/m^2)": 144.62762557077625,
          "elev": 46,
          "lat": 42.717,
          "long": -71.117,
          "name": "\"LAWRENCE MUNI\"",
          "state": "MA",
          "usaf": "744904"
         },
         {
          "GHI (W/m^2)": 145.7826484018265,
          "elev": 75,
          "lat": 42.2,
          "long": -72.533,
          "name": "\"CHICOPEE FALLS WESTO\"",
          "state": "MA",
          "usaf": "744910"
         },
         {
          "GHI (W/m^2)": 139.85068493150686,
          "elev": 83,
          "lat": 42.15,
          "long": -72.717,
          "name": "\"WESTFIELD BARNES MUNI AP\"",
          "state": "MA",
          "usaf": "744915"
         },
         {
          "GHI (W/m^2)": 205.06495433789954,
          "elev": 12,
          "lat": 37.4,
          "long": -122.05,
          "name": "\"MOUNTAIN VIEW MOFFETT FLD NAS\"",
          "state": "CA",
          "usaf": "745090"
         },
         {
          "GHI (W/m^2)": 203.24349315068494,
          "elev": 18,
          "lat": 38.267,
          "long": -121.933,
          "name": "\"TRAVIS FIELD AFB\"",
          "state": "CA",
          "usaf": "745160"
         },
         {
          "GHI (W/m^2)": 152.48002283105023,
          "elev": 250,
          "lat": 39.833,
          "long": -84.05,
          "name": "\"DAYTON WRIGHT PATTERSON AFB\"",
          "state": "OH",
          "usaf": "745700"
         },
         {
          "GHI (W/m^2)": 166.23744292237444,
          "elev": 86,
          "lat": 38.817,
          "long": -76.867,
          "name": "\"ANDREWS AFB\"",
          "state": "MD",
          "usaf": "745940"
         },
         {
          "GHI (W/m^2)": 179.14600456621005,
          "elev": 7,
          "lat": 39,
          "long": -74.917,
          "name": "\"CAPE MAY CO\"",
          "state": "NJ",
          "usaf": "745966"
         },
         {
          "GHI (W/m^2)": 167.774200913242,
          "elev": 3,
          "lat": 37.083,
          "long": -76.35,
          "name": "\"LANGLEY AFB\"",
          "state": "VA",
          "usaf": "745980"
         },
         {
          "GHI (W/m^2)": 179.40034246575343,
          "elev": 287,
          "lat": 36.633,
          "long": -80.017,
          "name": "\"MARTINSVILLE\"",
          "state": "VA",
          "usaf": "745985"
         },
         {
          "GHI (W/m^2)": 239.57260273972602,
          "elev": 677,
          "lat": 35.683,
          "long": -117.683,
          "name": "\"CHINA LAKE NAF\"",
          "state": "CA",
          "usaf": "746120"
         },
         {
          "GHI (W/m^2)": 163.6527397260274,
          "elev": 173,
          "lat": 36.667,
          "long": -87.483,
          "name": "\"FORT CAMPBELL AAF\"",
          "state": "KY",
          "usaf": "746710"
         },
         {
          "GHI (W/m^2)": 154.85513698630137,
          "elev": 161,
          "lat": 36.983,
          "long": -86.433,
          "name": "\"BOWLING GREEN WARREN CO AP\"",
          "state": "KY",
          "usaf": "746716"
         },
         {
          "GHI (W/m^2)": 172.83059360730593,
          "elev": 93,
          "lat": 35.133,
          "long": -78.933,
          "name": "\"FORT BRAGG SIMMONS AAF\"",
          "state": "NC",
          "usaf": "746930"
         },
         {
          "GHI (W/m^2)": 181.76232876712328,
          "elev": 4,
          "lat": 36.3,
          "long": -76.25,
          "name": "\"ELIZABETH CITY COAST GUARD AI [NREL]\"",
          "state": "NC",
          "usaf": "746943"
         },
         {
          "GHI (W/m^2)": 218.0994292237443,
          "elev": 73,
          "lat": 36.333,
          "long": -119.95,
          "name": "\"LEMOORE REEVES NAS\"",
          "state": "CA",
          "usaf": "747020"
         },
         {
          "GHI (W/m^2)": 240.33550228310503,
          "elev": -17,
          "lat": 32.833,
          "long": -115.583,
          "name": "\"IMPERIAL\"",
          "state": "CA",
          "usaf": "747185"
         },
         {
          "GHI (W/m^2)": 239.30365296803652,
          "elev": -34,
          "lat": 33.633,
          "long": -116.167,
          "name": "\"PALM SPRINGS THERMAL AP\"",
          "state": "CA",
          "usaf": "747187"
         },
         {
          "GHI (W/m^2)": 237.15091324200912,
          "elev": 119,
          "lat": 33.617,
          "long": -114.717,
          "name": "\"BLYTHE RIVERSIDE CO ARPT\"",
          "state": "CA",
          "usaf": "747188"
         },
         {
          "GHI (W/m^2)": 227.2890410958904,
          "elev": 1248,
          "lat": 32.85,
          "long": -106.1,
          "name": "\"HOLLOMAN AFB\"",
          "state": "NM",
          "usaf": "747320"
         },
         {
          "GHI (W/m^2)": 196.93835616438355,
          "elev": 27,
          "lat": 31.317,
          "long": -92.55,
          "name": "\"ENGLAND AFB\"",
          "state": "LA",
          "usaf": "747540"
         },
         {
          "GHI (W/m^2)": 178.2780821917808,
          "elev": 9,
          "lat": 30.4,
          "long": -89.067,
          "name": "\"GULFPORT BILOXI INT\"",
          "state": "MS",
          "usaf": "747685"
         },
         {
          "GHI (W/m^2)": 191.51061643835615,
          "elev": 8,
          "lat": 30.417,
          "long": -88.917,
          "name": "\"KEESLER AFB\"",
          "state": "MS",
          "usaf": "747686"
         },
         {
          "GHI (W/m^2)": 194.68036529680364,
          "elev": 7,
          "lat": 30.067,
          "long": -85.583,
          "name": "\"TYNDALL AFB\"",
          "state": "FL",
          "usaf": "747750"
         },
         {
          "GHI (W/m^2)": 199.99349315068494,
          "elev": 12,
          "lat": 30.417,
          "long": -86.683,
          "name": "\"VALPARAISO HURLBURT\"",
          "state": "FL",
          "usaf": "747770"
         },
         {
          "GHI (W/m^2)": 192.5626712328767,
          "elev": 13,
          "lat": 32,
          "long": -81.15,
          "name": "\"HUNTER AAF\"",
          "state": "GA",
          "usaf": "747804"
         },
         {
          "GHI (W/m^2)": 185.89029680365297,
          "elev": 71,
          "lat": 30.967,
          "long": -83.2,
          "name": "\"MOODY AFB/VALDOSTA\"",
          "state": "GA",
          "usaf": "747810"
         },
         {
          "GHI (W/m^2)": 201.7716894977169,
          "elev": 8,
          "lat": 27.85,
          "long": -82.517,
          "name": "\"MACDILL AFB\"",
          "state": "FL",
          "usaf": "747880"
         },
         {
          "GHI (W/m^2)": 186.25011415525114,
          "elev": 74,
          "lat": 33.967,
          "long": -80.467,
          "name": "\"SUMTER SHAW AFB\"",
          "state": "SC",
          "usaf": "747900"
         },
         {
          "GHI (W/m^2)": 191.02237442922373,
          "elev": 8,
          "lat": 33.683,
          "long": -78.933,
          "name": "\"MYRTLE BEACH AFB\"",
          "state": "SC",
          "usaf": "747910"
         },
         {
          "GHI (W/m^2)": 191.39634703196347,
          "elev": 10,
          "lat": 33.817,
          "long": -78.717,
          "name": "\"NORTH MYRTLE BEACH GRAND STRA\"",
          "state": "SC",
          "usaf": "747915"
         },
         {
          "GHI (W/m^2)": 196.11141552511415,
          "elev": 3,
          "lat": 28.617,
          "long": -80.717,
          "name": "\"NASA SHUTTLE FCLTY\"",
          "state": "FL",
          "usaf": "747946"
         },
         {
          "GHI (W/m^2)": 231.8835616438356,
          "elev": 72,
          "lat": 18.5,
          "long": -67.133,
          "name": "\"AQUADILLA/BORINQUEN\"",
          "state": "PR",
          "usaf": "785140"
         },
         {
          "GHI (W/m^2)": 221.3843607305936,
          "elev": 9,
          "lat": 18.25,
          "long": -67.15,
          "name": "\"EUGENIO MARIA DE HO\"",
          "state": "PR",
          "usaf": "785145"
         },
         {
          "GHI (W/m^2)": 225.36963470319634,
          "elev": 8,
          "lat": 18,
          "long": -66.55,
          "name": "\"MERCEDITA\"",
          "state": "PR",
          "usaf": "785203"
         },
         {
          "GHI (W/m^2)": 223.07945205479453,
          "elev": 19,
          "lat": 18.417,
          "long": -66,
          "name": "\"SAN JUAN INTL ARPT\"",
          "state": "PR",
          "usaf": "785260"
         },
         {
          "GHI (W/m^2)": 210.82922374429225,
          "elev": 3,
          "lat": 18.433,
          "long": -66,
          "name": "\"SAN JUAN L M MARIN INTL AP\"",
          "state": "PR",
          "usaf": "785263"
         },
         {
          "GHI (W/m^2)": 208.4236301369863,
          "elev": 12,
          "lat": 18.25,
          "long": -65.633,
          "name": "\"ROOSEVELT ROADS\"",
          "state": "PR",
          "usaf": "785350"
         },
         {
          "GHI (W/m^2)": 230.08767123287672,
          "elev": 6,
          "lat": 18.35,
          "long": -64.967,
          "name": "\"CHARLOTTE AMALIE HARRY S TRUM\"",
          "state": "VI",
          "usaf": "785430"
         },
         {
          "GHI (W/m^2)": 208.40616438356165,
          "elev": 31,
          "lat": 21.983,
          "long": -159.333,
          "name": "\"LIHUE AIRPORT\"",
          "state": "HI",
          "usaf": "911650"
         },
         {
          "GHI (W/m^2)": 206.47682648401826,
          "elev": 3,
          "lat": 21.45,
          "long": -157.783,
          "name": "\"KANEOHE BAY MCAS\"",
          "state": "HI",
          "usaf": "911760"
         },
         {
          "GHI (W/m^2)": 220.2527397260274,
          "elev": 15,
          "lat": 21.317,
          "long": -158.067,
          "name": "\"BARBERS POINT NAS\"",
          "state": "HI",
          "usaf": "911780"
         },
         {
          "GHI (W/m^2)": 222.94646118721462,
          "elev": 2,
          "lat": 21.317,
          "long": -157.933,
          "name": "\"HONOLULU INTL ARPT\"",
          "state": "HI",
          "usaf": "911820"
         },
         {
          "GHI (W/m^2)": 223.41358447488585,
          "elev": 137,
          "lat": 21.15,
          "long": -157.1,
          "name": "\"MOLOKAI (AMOS)\"",
          "state": "HI",
          "usaf": "911860"
         },
         {
          "GHI (W/m^2)": 227.00319634703197,
          "elev": 16,
          "lat": 20.9,
          "long": -156.433,
          "name": "\"KAHULUI AIRPORT\"",
          "state": "HI",
          "usaf": "911900"
         },
         {
          "GHI (W/m^2)": 227.8525114155251,
          "elev": 80,
          "lat": 20.95,
          "long": -156.633,
          "name": "\"KAPALUA\"",
          "state": "HI",
          "usaf": "911904"
         },
         {
          "GHI (W/m^2)": 216.0150684931507,
          "elev": 409,
          "lat": 20.783,
          "long": -156.95,
          "name": "\"LANAI\"",
          "state": "HI",
          "usaf": "911905"
         },
         {
          "GHI (W/m^2)": 218.5752283105023,
          "elev": 15,
          "lat": 19.733,
          "long": -156.05,
          "name": "\"KONA INTL AT KEAHOL\"",
          "state": "HI",
          "usaf": "911975"
         },
         {
          "GHI (W/m^2)": 200.44634703196348,
          "elev": 77,
          "lat": 13.483,
          "long": 144.8,
          "name": "\"GUAM WFO\"",
          "state": "GU",
          "usaf": "912120"
         },
         {
          "GHI (W/m^2)": 217.062899543379,
          "elev": 162,
          "lat": 13.567,
          "long": 144.917,
          "name": "\"ANDERSEN AFB\"",
          "state": "GU",
          "usaf": "912180"
         },
         {
          "GHI (W/m^2)": 187.8695205479452,
          "elev": 9,
          "lat": 19.717,
          "long": -155.05,
          "name": "\"HILO INTERNATIONAL AP\"",
          "state": "HI",
          "usaf": "912850"
         }
        ]
       },
       "encoding": {
        "color": {
         "field": "elev",
         "type": "quantitative"
        },
        "tooltip": [
         {
          "field": "usaf",
          "type": "nominal"
         },
         {
          "field": "name",
          "type": "nominal"
         },
         {
          "field": "state",
          "type": "nominal"
         },
         {
          "field": "long",
          "type": "quantitative"
         },
         {
          "field": "lat",
          "type": "quantitative"
         }
        ],
        "x": {
         "field": "long",
         "type": "quantitative"
        },
        "y": {
         "field": "lat",
         "type": "quantitative"
        }
       },
       "mark": "point"
      },
      "image/png": "[encoded data removed]",
      "text/plain": [
       "<VegaLite 2 object>\n",
       "\n",
       "If you see this message, it means the renderer has not been properly enabled\n",
       "for the frontend that you are using. For more information, see\n",
       "https://altair-viz.github.io/user_guide/troubleshooting.html\n"
      ]
     },
     "execution_count": 7,
     "metadata": {},
     "output_type": "execute_result"
    }
   ],
   "source": [
    "alt.Chart(df).mark_point().encode(\n",
    "    x='long:Q',\n",
    "    y='lat:Q',\n",
    "    color='elev:Q',\n",
    "    tooltip=['usaf', 'name', 'state', 'long', 'lat']\n",
    ")"
   ]
  },
  {
   "cell_type": "code",
   "execution_count": null,
   "metadata": {},
   "outputs": [],
   "source": []
  }
 ],
 "metadata": {
  "kernelspec": {
   "display_name": "Python 3",
   "language": "python",
   "name": "python3"
  },
  "language_info": {
   "codemirror_mode": {
    "name": "ipython",
    "version": 3
   },
   "file_extension": ".py",
   "mimetype": "text/x-python",
   "name": "python",
   "nbconvert_exporter": "python",
   "pygments_lexer": "ipython3",
   "version": "3.6.8"
  }
 },
 "nbformat": 4,
 "nbformat_minor": 2
}
