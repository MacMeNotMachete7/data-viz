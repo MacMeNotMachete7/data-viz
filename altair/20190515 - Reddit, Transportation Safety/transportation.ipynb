{
 "cells": [
  {
   "cell_type": "code",
   "execution_count": 1,
   "metadata": {},
   "outputs": [
    {
     "name": "stdout",
     "output_type": "stream",
     "text": [
      "             Type      Metric    Value  LogValue\n",
      "0             Bus    Journeys      4.3   1.45862\n",
      "1            Rail    Journeys       20   2.99573\n",
      "2             Van    Journeys       20   2.99573\n",
      "3             Car    Journeys       40   3.68888\n",
      "4            Foot    Journeys       40   3.68888\n",
      "5           Water    Journeys       90   4.49981\n",
      "6             Air    Journeys      117   4.76217\n",
      "7     Pedal cycle    Journeys      170    5.1358\n",
      "8     Paragliding    Journeys                   \n",
      "9       Skydiving    Journeys     7500   8.92266\n",
      "10     Motorcycle    Journeys     1640   7.40245\n",
      "11  Space Shuttle    Journeys  1.7e+07   16.6487\n",
      "12            Bus       Hours     11.1   2.40695\n",
      "13           Rail       Hours       30    3.4012\n",
      "14            Van       Hours       60   4.09434\n",
      "15            Car       Hours      130   4.86753\n",
      "16           Foot       Hours      220   5.39363\n",
      "17          Water       Hours       50   3.91202\n",
      "18            Air       Hours     30.8   3.42751\n",
      "19    Pedal cycle       Hours      550   6.30992\n",
      "20    Paragliding       Hours      970    6.8773\n",
      "21      Skydiving       Hours    75000   11.2252\n",
      "22     Motorcycle       Hours     4840   8.48467\n",
      "23  Space Shuttle       Hours    70000   11.1563\n",
      "24            Bus  Kilometers      0.4 -0.916291\n",
      "25           Rail  Kilometers      0.6 -0.510826\n",
      "26            Van  Kilometers      1.2  0.182322\n",
      "27            Car  Kilometers      3.1    1.1314\n",
      "28           Foot  Kilometers     54.2   3.99268\n",
      "29          Water  Kilometers      2.6  0.955511\n",
      "30            Air  Kilometers     0.05  -2.99573\n",
      "31    Pedal cycle  Kilometers     44.6   3.79773\n",
      "32    Paragliding  Kilometers                   \n",
      "33      Skydiving  Kilometers                   \n",
      "34     Motorcycle  Kilometers    108.9   4.69043\n",
      "35  Space Shuttle  Kilometers      6.6   1.88707\n"
     ]
    }
   ],
   "source": [
    "import altair as alt\n",
    "import pandas as pd\n",
    "import numpy as np\n",
    "\n",
    "types = ['Bus','Rail','Van','Car','Foot','Water','Air','Pedal cycle','Paragliding','Skydiving','Motorcycle','Space Shuttle']\n",
    "journeys = [4.3,20,20,40,40,90,117,170,None,7500,1640,17000000]\n",
    "hours = [11.1,30,60,130,220,50,30.8,550,970,75000,4840,70000]\n",
    "km = [0.4,0.6,1.2,3.1,54.2,2.6,0.05,44.6,None,None,108.9,6.6]\n",
    "df = pd.DataFrame({'Type':types,'Journeys':journeys,'Hours':hours,'Kilometers':km})\n",
    "# print(df)\n",
    "\n",
    "df = pd.melt(df, id_vars=[\"Type\"], var_name='Metric', value_name='Value')\n",
    "df['LogValue'] = np.log(df['Value'])\n",
    "df = df.fillna('')\n",
    "print(df)"
   ]
  },
  {
   "cell_type": "code",
   "execution_count": 2,
   "metadata": {},
   "outputs": [],
   "source": [
    "heatmap = alt.Chart().mark_rect().encode(\n",
    "    alt.X('Metric:N', scale=alt.Scale(paddingInner=0), axis=alt.Axis(orient=\"top\", title=None, labelAngle=0, ticks=False)),\n",
    "    alt.Y('Type:N', scale=alt.Scale(paddingInner=0), axis=alt.Axis(title=None, ticks=False), sort=types),\n",
    "    color=alt.Color('LogValue:Q',\n",
    "        scale=alt.Scale(scheme='redyellowgreen'),\n",
    "        legend=None,\n",
    "        sort=\"descending\"\n",
    "    )\n",
    ")\n",
    "\n",
    "text = alt.Chart().mark_text(baseline='middle').encode(\n",
    "    alt.X('Metric:N', scale=alt.Scale(paddingInner=0), axis=alt.Axis(title=None, labelAngle=0, ticks=False)),\n",
    "    alt.Y('Type:N', scale=alt.Scale(paddingInner=0), axis=alt.Axis(title=None, labels=False, ticks=False), sort=types),\n",
    "    text='Value:N',\n",
    "    color=alt.condition(\n",
    "        alt.datum.Value > 10000,\n",
    "        alt.value('white'),\n",
    "        alt.value('black')\n",
    "    )\n",
    ")\n",
    "\n",
    "chart = alt.layer(heatmap, text, data=df).properties(\n",
    "    title='Deaths per billion by Transportation Type and Metric',\n",
    "    width=300,\n",
    "    height=400\n",
    ").configure_title(\n",
    "    fontSize=15,\n",
    "    anchor='start',\n",
    "    offset=20,\n",
    ").resolve_scale(y='independent')\n",
    "# need to hack like this (set two axis and hide one) to sort two layers together\n",
    "# https://github.com/altair-viz/altair/issues/820\n",
    "\n",
    "chart.save('chart.png', scale_factor=2.0)"
   ]
  }
 ],
 "metadata": {
  "kernelspec": {
   "display_name": "Python 3",
   "language": "python",
   "name": "python3"
  },
  "language_info": {
   "codemirror_mode": {
    "name": "ipython",
    "version": 3
   },
   "file_extension": ".py",
   "mimetype": "text/x-python",
   "name": "python",
   "nbconvert_exporter": "python",
   "pygments_lexer": "ipython3",
   "version": "3.6.8"
  }
 },
 "nbformat": 4,
 "nbformat_minor": 2
}
